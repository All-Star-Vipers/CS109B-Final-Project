{
 "cells": [
  {
   "cell_type": "markdown",
   "metadata": {},
   "source": [
    "# Libraries"
   ]
  },
  {
   "cell_type": "code",
   "execution_count": 11,
   "metadata": {
    "collapsed": false
   },
   "outputs": [],
   "source": [
    "import pandas as pd\n",
    "import numpy as np\n",
    "from ast import literal_eval\n",
    "from sklearn.feature_extraction.text import TfidfVectorizer\n",
    "import nltk\n",
    "import matplotlib.pyplot as plt\n",
    "from nltk.stem.snowball import SnowballStemmer\n",
    "import re\n",
    "from sklearn.cluster import KMeans\n",
    "from __future__ import print_function\n",
    "%matplotlib inline"
   ]
  },
  {
   "cell_type": "markdown",
   "metadata": {},
   "source": [
    "# Helper Functions"
   ]
  },
  {
   "cell_type": "code",
   "execution_count": 12,
   "metadata": {
    "collapsed": false
   },
   "outputs": [],
   "source": [
    "stopwords = nltk.corpus.stopwords.words('english')\n",
    "stemmer = SnowballStemmer(\"english\")\n",
    "def tokenize_and_stem(text):\n",
    "    # first tokenize by sentence, then by word to ensure that punctuation is caught as it's own token\n",
    "    tokens = [word for sent in nltk.sent_tokenize(text) for word in nltk.word_tokenize(sent)]\n",
    "    filtered_tokens = []\n",
    "    # filter out any tokens not containing letters (e.g., numeric tokens, raw punctuation)\n",
    "    for token in tokens:\n",
    "        if re.search('[a-zA-Z]', token):\n",
    "            filtered_tokens.append(token)\n",
    "    stems = [stemmer.stem(t) for t in filtered_tokens]\n",
    "    return stems\n",
    "\n",
    "def tokenize_only(text):\n",
    "    # first tokenize by sentence, then by word to ensure that punctuation is caught as it's own token\n",
    "    tokens = [word.lower() for sent in nltk.sent_tokenize(text) for word in nltk.word_tokenize(sent)]\n",
    "    filtered_tokens = []\n",
    "    # filter out any tokens not containing letters (e.g., numeric tokens, raw punctuation)\n",
    "    for token in tokens:\n",
    "        if re.search('[a-zA-Z]', token):\n",
    "            filtered_tokens.append(token)\n",
    "    return filtered_tokens"
   ]
  },
  {
   "cell_type": "markdown",
   "metadata": {},
   "source": [
    "# Load Data"
   ]
  },
  {
   "cell_type": "code",
   "execution_count": 13,
   "metadata": {
    "collapsed": false
   },
   "outputs": [],
   "source": [
    "train_df = pd.read_csv('combined_data_clean_train.csv')\n",
    "test_df = pd.read_csv('combined_data_clean_test.csv')\n",
    "text_columns = ['overview', 'tagline', 'plot', 'plot outline', 'mpaa_rating_text']\n",
    "for column in text_columns:\n",
    "    train_df[column] = train_df[column].apply(lambda x: literal_eval(x)[0] if len(literal_eval(x)) > 0 else '')\n",
    "    test_df[column] = test_df[column].apply(lambda x: literal_eval(x)[0] if len(literal_eval(x)) > 0 else '')"
   ]
  },
  {
   "cell_type": "code",
   "execution_count": 14,
   "metadata": {
    "collapsed": false
   },
   "outputs": [
    {
     "data": {
      "text/plain": [
       "Index([u'part_of_collection', u'budget', u'overview', u'popularity',\n",
       "       u'production_companies', u'release_month', u'release_year', u'revenue',\n",
       "       u'runtime', u'spoken_languages', u'tagline', u'vote_average',\n",
       "       u'vote_count', u'animation department', u'art department',\n",
       "       u'camera and electrical department', u'cast', u'casting department',\n",
       "       u'costume department', u'distributors', u'editorial department',\n",
       "       u'music department', u'plot', u'plot outline', u'rating',\n",
       "       u'visual effects', u'votes', u'genre', u'overview_length',\n",
       "       u'tagline_length', u'plot_length', u'plot_outline_length',\n",
       "       u'mpaa_rating_text', u'mpaa_rating_text_length', u'mpaa_rating', u'id'],\n",
       "      dtype='object')"
      ]
     },
     "execution_count": 14,
     "metadata": {},
     "output_type": "execute_result"
    }
   ],
   "source": [
    "train_df.columns"
   ]
  },
  {
   "cell_type": "markdown",
   "metadata": {},
   "source": [
    "# Calculate and See Clusters"
   ]
  },
  {
   "cell_type": "code",
   "execution_count": 15,
   "metadata": {
    "collapsed": true
   },
   "outputs": [],
   "source": [
    "def get_vocab_frame(df, column_name):\n",
    "    column = df[column_name]\n",
    "    totalvocab_stemmed = []\n",
    "    totalvocab_tokenized = []\n",
    "    for j,i in column.iteritems():\n",
    "        allwords_stemmed = tokenize_and_stem(i) #for each item in 'synopses', tokenize/stem\n",
    "        totalvocab_stemmed.extend(allwords_stemmed) #extend the 'totalvocab_stemmed' list\n",
    "\n",
    "        allwords_tokenized = tokenize_only(i)\n",
    "        totalvocab_tokenized.extend(allwords_tokenized)\n",
    "        #if len(totalvocab_stemmed) != len(totalvocab_tokenized):\n",
    "        #    print(j)\n",
    "        #    print(i)\n",
    "    vocab_frame = pd.DataFrame({'words': totalvocab_tokenized}, index = totalvocab_stemmed)\n",
    "    print('there are ' + str(vocab_frame.shape[0]) + ' items in vocab_frame')\n",
    "    return vocab_frame"
   ]
  },
  {
   "cell_type": "code",
   "execution_count": 19,
   "metadata": {
    "collapsed": false
   },
   "outputs": [],
   "source": [
    "def cluster_text(df_train, df_test, column_name, maxdf, mindf, maxfeat, num_clusters, vocab_frame):\n",
    "    column = df_train[column_name]\n",
    "    \n",
    "    #define vectorizer parameters\n",
    "    tfidf_vectorizer = TfidfVectorizer(max_df=maxdf, max_features=maxfeat,\n",
    "                                 min_df=mindf, stop_words='english',\n",
    "                                 use_idf=True, tokenizer=tokenize_and_stem, ngram_range=(1,3))\n",
    "\n",
    "    tfidf_matrix = tfidf_vectorizer.fit_transform(column)\n",
    "    terms = tfidf_vectorizer.get_feature_names()\n",
    "    \n",
    "    #kmeans cluster\n",
    "    km = KMeans(n_clusters=num_clusters, random_state = 42)\n",
    "    km.fit(tfidf_matrix)\n",
    "    clusters = km.labels_.tolist()\n",
    "    df_train[column_name + '_cluster'] = clusters\n",
    "    print('Cluster Value Counts:')\n",
    "    print(df_train[column_name + '_cluster'].value_counts())\n",
    "    \n",
    "    #view clusters\n",
    "    print(\"Top terms per cluster:\")\n",
    "    print()\n",
    "    #sort cluster centers by proximity to centroid\n",
    "    order_centroids = km.cluster_centers_.argsort()[:, ::-1] \n",
    "\n",
    "    for i in range(num_clusters):\n",
    "        print(\"Cluster %d words:\" % i, end='')\n",
    "\n",
    "        for ind in order_centroids[i, :6]: #replace 6 with n words per cluster\n",
    "            print(' %s' % vocab_frame.ix[terms[ind].split(' ')].values.tolist()[0][0].encode('utf-8', 'ignore'), end=',')\n",
    "        print() #add whitespace\n",
    "        print() #add whitespace\n",
    "\n",
    "        cluster_genres = df_train[df_train[column_name + '_cluster'] == i]['genre'].value_counts()\n",
    "        cluster_genres = cluster_genres[cluster_genres*1.0 / cluster_genres.sum() >= .05]\n",
    "        print(cluster_genres)\n",
    "        print() #add whitespace\n",
    "        print() #add whitespace\n",
    "\n",
    "    print()\n",
    "    print()\n",
    "    \n",
    "    tfidf_matrix_test = tfidf_vectorizer.transform(df_test[column_name])\n",
    "    df_test[column_name + '_cluster'] = km.predict(tfidf_matrix_test)\n",
    "    print(df_test.shape)\n",
    "    return df_train, df_test"
   ]
  },
  {
   "cell_type": "markdown",
   "metadata": {},
   "source": [
    "# Overview Cluster"
   ]
  },
  {
   "cell_type": "code",
   "execution_count": 17,
   "metadata": {
    "collapsed": false
   },
   "outputs": [
    {
     "name": "stdout",
     "output_type": "stream",
     "text": [
      "there are 484791 items in vocab_frame\n"
     ]
    }
   ],
   "source": [
    "overview_vocab_frame = get_vocab_frame(train_df,'overview')"
   ]
  },
  {
   "cell_type": "code",
   "execution_count": 26,
   "metadata": {
    "collapsed": false
   },
   "outputs": [
    {
     "name": "stdout",
     "output_type": "stream",
     "text": [
      "Cluster Value Counts:\n",
      "1    5546\n",
      "0     990\n",
      "3     822\n",
      "4     647\n",
      "2     544\n",
      "5     360\n",
      "6     299\n",
      "Name: overview_cluster, dtype: int64\n",
      "Top terms per cluster:\n",
      "\n",
      "Cluster 0 words: families, home, york, new, lives, mother,\n",
      "\n",
      "Drama               239\n",
      "Horror              128\n",
      "Comedy               97\n",
      "Drama - Romance      87\n",
      "Thriller             82\n",
      "Family               80\n",
      "Comedy - Drama       75\n",
      "Action               73\n",
      "Drama - Thriller     70\n",
      "Comedy - Romance     50\n",
      "Name: genre, dtype: int64\n",
      "\n",
      "\n",
      "Cluster 1 words: man, lives, story, years, time, try,\n",
      "\n",
      "Drama               931\n",
      "Comedy              854\n",
      "Action              778\n",
      "Thriller            617\n",
      "Horror              494\n",
      "Drama - Thriller    464\n",
      "Drama - Romance     412\n",
      "Family              400\n",
      "Name: genre, dtype: int64\n",
      "\n",
      "\n",
      "Cluster 2 words: films, directed, star, story, director, features,\n",
      "\n",
      "Drama               121\n",
      "Comedy               77\n",
      "Documentary          74\n",
      "Horror               46\n",
      "Action               44\n",
      "Drama - Romance      43\n",
      "Drama - Thriller     36\n",
      "Family               34\n",
      "Comedy - Drama       34\n",
      "Name: genre, dtype: int64\n",
      "\n",
      "\n",
      "Cluster 3 words: murderer, town, killer, investigator, detective, small,\n",
      "\n",
      "Thriller            210\n",
      "Horror              151\n",
      "Drama - Thriller    144\n",
      "Drama                96\n",
      "Action               94\n",
      "Comedy               66\n",
      "Name: genre, dtype: int64\n",
      "\n",
      "\n",
      "Cluster 4 words: love, falls, falls, woman, man, story,\n",
      "\n",
      "Drama - Romance     223\n",
      "Drama               108\n",
      "Comedy - Romance    100\n",
      "Comedy               78\n",
      "Drama - Thriller     35\n",
      "Name: genre, dtype: int64\n",
      "\n",
      "\n",
      "Cluster 5 words: war, world, ii, war, world, during,\n",
      "\n",
      "Drama               109\n",
      "Action               98\n",
      "Drama - Romance      35\n",
      "Drama - Thriller     34\n",
      "Thriller             30\n",
      "Comedy               24\n",
      "Name: genre, dtype: int64\n",
      "\n",
      "\n",
      "Cluster 6 words: school, high, high, student, girl, teacher,\n",
      "\n",
      "Comedy              79\n",
      "Drama               56\n",
      "Drama - Romance     31\n",
      "Comedy - Drama      27\n",
      "Family              25\n",
      "Action              21\n",
      "Horror              20\n",
      "Comedy - Romance    17\n",
      "Name: genre, dtype: int64\n",
      "\n",
      "\n",
      "\n",
      "\n",
      "(3947, 37)\n"
     ]
    }
   ],
   "source": [
    "train_df, test_df = cluster_text(train_df, test_df,'overview', .1, 5, 100000, 7, overview_vocab_frame)"
   ]
  },
  {
   "cell_type": "markdown",
   "metadata": {},
   "source": [
    "# Tagline"
   ]
  },
  {
   "cell_type": "code",
   "execution_count": 21,
   "metadata": {
    "collapsed": false
   },
   "outputs": [
    {
     "name": "stdout",
     "output_type": "stream",
     "text": [
      "there are 55372 items in vocab_frame\n"
     ]
    }
   ],
   "source": [
    "tagline_vocab_frame = get_vocab_frame(train_df,'tagline')"
   ]
  },
  {
   "cell_type": "code",
   "execution_count": 30,
   "metadata": {
    "collapsed": false
   },
   "outputs": [
    {
     "name": "stdout",
     "output_type": "stream",
     "text": [
      "Cluster Value Counts:\n",
      "1    7272\n",
      "2     710\n",
      "0     640\n",
      "3     348\n",
      "4     238\n",
      "Name: tagline_cluster, dtype: int64\n",
      "Top terms per cluster:\n",
      "\n",
      "Cluster 0 words: love, life, story, true, true, love,\n",
      "\n",
      "Drama               171\n",
      "Drama - Romance     170\n",
      "Comedy - Romance     50\n",
      "Drama - Thriller     47\n",
      "Comedy - Drama       47\n",
      "Comedy               40\n",
      "Action               35\n",
      "Name: genre, dtype: int64\n",
      "\n",
      "\n",
      "Cluster 1 words: time, come, man, only, adventure, lives,\n",
      "\n",
      "Drama               1296\n",
      "Comedy              1025\n",
      "Action               954\n",
      "Thriller             828\n",
      "Horror               694\n",
      "Drama - Thriller     639\n",
      "Drama - Romance      559\n",
      "Family               471\n",
      "Name: genre, dtype: int64\n",
      "\n",
      "\n",
      "Cluster 2 words: 's, time, life, man, just, time,\n",
      "\n",
      "Comedy              125\n",
      "Drama                84\n",
      "Thriller             80\n",
      "Action               76\n",
      "Horror               73\n",
      "Drama - Romance      71\n",
      "Family               56\n",
      "Drama - Thriller     53\n",
      "Comedy - Romance     46\n",
      "Comedy - Drama       40\n",
      "Name: genre, dtype: int64\n",
      "\n",
      "\n",
      "Cluster 3 words: n't, ca, ca, does, does, did,\n",
      "\n",
      "Comedy              66\n",
      "Drama               57\n",
      "Horror              50\n",
      "Thriller            39\n",
      "Drama - Thriller    35\n",
      "Action              27\n",
      "Drama - Romance     22\n",
      "Name: genre, dtype: int64\n",
      "\n",
      "\n",
      "Cluster 4 words: world, 's, world, save, save, change,\n",
      "\n",
      "Drama               52\n",
      "Action              48\n",
      "Drama - Romance     26\n",
      "Thriller            22\n",
      "Comedy              19\n",
      "Drama - Thriller    18\n",
      "Documentary         15\n",
      "Horror              12\n",
      "Name: genre, dtype: int64\n",
      "\n",
      "\n",
      "\n",
      "\n",
      "(3947, 38)\n"
     ]
    }
   ],
   "source": [
    "train_df, test_df = cluster_text(train_df, test_df,'tagline', .1, 5, 100000, 5, tagline_vocab_frame)"
   ]
  },
  {
   "cell_type": "markdown",
   "metadata": {},
   "source": [
    "# Plot"
   ]
  },
  {
   "cell_type": "code",
   "execution_count": 22,
   "metadata": {
    "collapsed": false
   },
   "outputs": [
    {
     "name": "stdout",
     "output_type": "stream",
     "text": [
      "there are 837301 items in vocab_frame\n"
     ]
    }
   ],
   "source": [
    "plot_vocab_frame = get_vocab_frame(train_df,'plot')"
   ]
  },
  {
   "cell_type": "code",
   "execution_count": 32,
   "metadata": {
    "collapsed": false
   },
   "outputs": [
    {
     "name": "stdout",
     "output_type": "stream",
     "text": [
      "Cluster Value Counts:\n",
      "8    3835\n",
      "0    1109\n",
      "5     891\n",
      "3     846\n",
      "4     676\n",
      "2     413\n",
      "9     398\n",
      "7     358\n",
      "1     353\n",
      "6     329\n",
      "Name: plot_cluster, dtype: int64\n",
      "Top terms per cluster:\n",
      "\n",
      "Cluster 0 words: war, earth, mission, forced, team, aliens,\n",
      "\n",
      "Action              408\n",
      "Drama               172\n",
      "Thriller            169\n",
      "Comedy               92\n",
      "Drama - Thriller     85\n",
      "Horror               64\n",
      "Name: genre, dtype: int64\n",
      "\n",
      "\n",
      "Cluster 1 words: school, highly, highly, student, girls, teacher,\n",
      "\n",
      "Comedy              86\n",
      "Drama               69\n",
      "Drama - Romance     43\n",
      "Comedy - Drama      34\n",
      "Horror              27\n",
      "Family              27\n",
      "Comedy - Romance    23\n",
      "Action              22\n",
      "Name: genre, dtype: int64\n",
      "\n",
      "\n",
      "Cluster 2 words: film, movie, director, featuring, documentary, star,\n",
      "\n",
      "Drama              94\n",
      "Documentary        83\n",
      "Comedy             46\n",
      "Drama - Romance    40\n",
      "Horror             38\n",
      "Family             26\n",
      "Comedy - Drama     26\n",
      "Action             23\n",
      "Name: genre, dtype: int64\n",
      "\n",
      "\n",
      "Cluster 3 words: fathers, mother, daughter, son, fathers, home,\n",
      "\n",
      "Drama               247\n",
      "Drama - Romance     136\n",
      "Action               80\n",
      "Comedy               77\n",
      "Comedy - Drama       61\n",
      "Drama - Thriller     59\n",
      "Horror               55\n",
      "Comedy - Romance     47\n",
      "Name: genre, dtype: int64\n",
      "\n",
      "\n",
      "Cluster 4 words: murderer, killers, investigator, police, detective, case,\n",
      "\n",
      "Thriller            191\n",
      "Drama - Thriller    149\n",
      "Horror              107\n",
      "Drama                82\n",
      "Comedy               61\n",
      "Action               46\n",
      "Name: genre, dtype: int64\n",
      "\n",
      "\n",
      "Cluster 5 words: woman, house, mysterious, night, discovers, car,\n",
      "\n",
      "Horror              279\n",
      "Drama               125\n",
      "Thriller            117\n",
      "Drama - Thriller     92\n",
      "Comedy               88\n",
      "Drama - Romance      76\n",
      "Name: genre, dtype: int64\n",
      "\n",
      "\n",
      "Cluster 6 words: york, new, york, new, city, relationship,\n",
      "\n",
      "Drama               60\n",
      "Drama - Romance     56\n",
      "Comedy              39\n",
      "Comedy - Romance    37\n",
      "Thriller            32\n",
      "Drama - Thriller    29\n",
      "Action              27\n",
      "Comedy - Drama      26\n",
      "Name: genre, dtype: int64\n",
      "\n",
      "\n",
      "Cluster 7 words: drug, frank, prison, cop, dealer, drug,\n",
      "\n",
      "Thriller            90\n",
      "Drama - Thriller    65\n",
      "Drama               65\n",
      "Comedy              46\n",
      "Action              36\n",
      "Comedy - Drama      18\n",
      "Name: genre, dtype: int64\n",
      "\n",
      "\n",
      "Cluster 8 words: day, girls, want, turned, decides, falls,\n",
      "\n",
      "Drama               693\n",
      "Comedy              680\n",
      "Drama - Romance     398\n",
      "Action              395\n",
      "Family              371\n",
      "Thriller            291\n",
      "Drama - Thriller    260\n",
      "Comedy - Drama      241\n",
      "Comedy - Romance    214\n",
      "Horror              199\n",
      "Name: genre, dtype: int64\n",
      "\n",
      "\n",
      "Cluster 9 words: town, small, small, local, town, sheriff,\n",
      "\n",
      "Action              69\n",
      "Horror              67\n",
      "Comedy              60\n",
      "Drama               53\n",
      "Thriller            35\n",
      "Drama - Thriller    31\n",
      "Drama - Romance     31\n",
      "Family              21\n",
      "Name: genre, dtype: int64\n",
      "\n",
      "\n",
      "\n",
      "\n",
      "(3947, 39)\n"
     ]
    }
   ],
   "source": [
    "train_df, test_df = cluster_text(train_df,test_df,'plot', .1, 5, 100000, 10, plot_vocab_frame)"
   ]
  },
  {
   "cell_type": "markdown",
   "metadata": {},
   "source": [
    "# Plot Outline"
   ]
  },
  {
   "cell_type": "code",
   "execution_count": 23,
   "metadata": {
    "collapsed": false
   },
   "outputs": [
    {
     "name": "stdout",
     "output_type": "stream",
     "text": [
      "there are 221723 items in vocab_frame\n"
     ]
    }
   ],
   "source": [
    "plot_outline_vocab_frame = get_vocab_frame(train_df,'plot outline')"
   ]
  },
  {
   "cell_type": "code",
   "execution_count": 33,
   "metadata": {
    "collapsed": false
   },
   "outputs": [
    {
     "name": "stdout",
     "output_type": "stream",
     "text": [
      "Cluster Value Counts:\n",
      "4    4438\n",
      "9     934\n",
      "6     774\n",
      "7     655\n",
      "2     608\n",
      "1     597\n",
      "3     425\n",
      "5     348\n",
      "0     238\n",
      "8     191\n",
      "Name: plot outline_cluster, dtype: int64\n",
      "Top terms per cluster:\n",
      "\n",
      "Cluster 0 words: school, highly, highly, students, teacher, school,\n",
      "\n",
      "Comedy             68\n",
      "Drama              46\n",
      "Drama - Romance    25\n",
      "Comedy - Drama     21\n",
      "Horror             17\n",
      "Family             17\n",
      "Action             16\n",
      "Name: genre, dtype: int64\n",
      "\n",
      "\n",
      "Cluster 1 words: murderous, investigate, killer, detective, serial, police,\n",
      "\n",
      "Thriller            170\n",
      "Drama - Thriller    109\n",
      "Horror              103\n",
      "Drama                70\n",
      "Comedy               60\n",
      "Action               57\n",
      "Name: genre, dtype: int64\n",
      "\n",
      "\n",
      "Cluster 2 words: man, young, woman, man, life, family,\n",
      "\n",
      "Drama               110\n",
      "Comedy               82\n",
      "Thriller             75\n",
      "Drama - Romance      73\n",
      "Drama - Thriller     69\n",
      "Action               54\n",
      "Horror               50\n",
      "Comedy - Drama       41\n",
      "Comedy - Romance     36\n",
      "Name: genre, dtype: int64\n",
      "\n",
      "\n",
      "Cluster 3 words: human, people, alien, earth, planet, space,\n",
      "\n",
      "Action      135\n",
      "Horror       59\n",
      "Thriller     52\n",
      "Comedy       47\n",
      "Drama        43\n",
      "Family       29\n",
      "Name: genre, dtype: int64\n",
      "\n",
      "\n",
      "Cluster 4 words: story, family, become, new, group, film,\n",
      "\n",
      "Drama               762\n",
      "Comedy              693\n",
      "Action              626\n",
      "Thriller            483\n",
      "Horror              397\n",
      "Drama - Thriller    350\n",
      "Family              332\n",
      "Drama - Romance     307\n",
      "Name: genre, dtype: int64\n",
      "\n",
      "\n",
      "Cluster 5 words: love, falls, falls, woman, story, love,\n",
      "\n",
      "Drama - Romance     142\n",
      "Comedy - Romance     55\n",
      "Drama                49\n",
      "Comedy               30\n",
      "Drama - Thriller     22\n",
      "Name: genre, dtype: int64\n",
      "\n",
      "\n",
      "Cluster 6 words: life, woman, young, 's, story, new,\n",
      "\n",
      "Drama               199\n",
      "Drama - Romance     115\n",
      "Comedy               77\n",
      "Drama - Thriller     74\n",
      "Horror               71\n",
      "Thriller             69\n",
      "Comedy - Romance     39\n",
      "Name: genre, dtype: int64\n",
      "\n",
      "\n",
      "Cluster 7 words: lived, son, wife, family, father, mother,\n",
      "\n",
      "Drama               163\n",
      "Comedy               71\n",
      "Drama - Thriller     66\n",
      "Comedy - Drama       60\n",
      "Action               56\n",
      "Horror               55\n",
      "Drama - Romance      51\n",
      "Thriller             51\n",
      "Family               39\n",
      "Name: genre, dtype: int64\n",
      "\n",
      "\n",
      "Cluster 8 words: york, new, new, new, york, city,\n",
      "\n",
      "Drama               39\n",
      "Comedy - Romance    25\n",
      "Drama - Romance     21\n",
      "Drama - Thriller    19\n",
      "Comedy              17\n",
      "Comedy - Drama      17\n",
      "Thriller            16\n",
      "Action              15\n",
      "Family              11\n",
      "Name: genre, dtype: int64\n",
      "\n",
      "\n",
      "Cluster 9 words: friends, world, girl, best, world, war,\n",
      "\n",
      "Drama               179\n",
      "Comedy              130\n",
      "Action              129\n",
      "Horror               91\n",
      "Drama - Romance      90\n",
      "Family               80\n",
      "Comedy - Drama       60\n",
      "Drama - Thriller     58\n",
      "Thriller             57\n",
      "Name: genre, dtype: int64\n",
      "\n",
      "\n",
      "\n",
      "\n",
      "(3947, 40)\n"
     ]
    }
   ],
   "source": [
    "train_df, test_df = cluster_text(train_df, test_df, 'plot outline', .1, 5, 100000, 10, plot_outline_vocab_frame)"
   ]
  },
  {
   "cell_type": "markdown",
   "metadata": {},
   "source": [
    "# MPAA Rating"
   ]
  },
  {
   "cell_type": "code",
   "execution_count": 24,
   "metadata": {
    "collapsed": false
   },
   "outputs": [
    {
     "name": "stdout",
     "output_type": "stream",
     "text": [
      "there are 32276 items in vocab_frame\n"
     ]
    }
   ],
   "source": [
    "mpaa_vocab_frame = get_vocab_frame(train_df,'mpaa_rating_text')"
   ]
  },
  {
   "cell_type": "code",
   "execution_count": 36,
   "metadata": {
    "collapsed": false
   },
   "outputs": [
    {
     "name": "stdout",
     "output_type": "stream",
     "text": [
      "Cluster Value Counts:\n",
      "2    6954\n",
      "7     790\n",
      "0     319\n",
      "5     305\n",
      "8     239\n",
      "9     205\n",
      "3     129\n",
      "1     123\n",
      "4     119\n",
      "6      25\n",
      "Name: mpaa_rating_text_cluster, dtype: int64\n",
      "Top terms per cluster:\n",
      "\n",
      "Cluster 0 words: elements, thematic, thematic, mild, mild, brief,\n",
      "\n",
      "Drama              91\n",
      "Drama - Romance    51\n",
      "Family             41\n",
      "Comedy - Drama     28\n",
      "Comedy             27\n",
      "Action             21\n",
      "Thriller           16\n",
      "Name: genre, dtype: int64\n",
      "\n",
      "\n",
      "Cluster 1 words: violence, sexuality/nudity, zombie, humor, horror, horror,\n",
      "\n",
      "Thriller            45\n",
      "Drama - Thriller    32\n",
      "Action              24\n",
      "Drama               13\n",
      "Name: genre, dtype: int64\n",
      "\n",
      "\n",
      "Cluster 2 words: brief, images, sensuality, action, strong, material,\n",
      "\n",
      "Drama               1306\n",
      "Action               998\n",
      "Comedy               861\n",
      "Thriller             724\n",
      "Horror               674\n",
      "Drama - Romance      620\n",
      "Drama - Thriller     572\n",
      "Family               420\n",
      "Name: genre, dtype: int64\n",
      "\n",
      "\n",
      "Cluster 3 words: strong, strong, violence, violence, language, violence,\n",
      "\n",
      "Thriller            65\n",
      "Drama - Thriller    38\n",
      "Drama               11\n",
      "Action              10\n",
      "Name: genre, dtype: int64\n",
      "\n",
      "\n",
      "Cluster 4 words: gore, violence, gore, violence, horror, horror,\n",
      "\n",
      "Horror      75\n",
      "Comedy      18\n",
      "Thriller    11\n",
      "Action      11\n",
      "Name: genre, dtype: int64\n",
      "\n",
      "\n",
      "Cluster 5 words: humor, rude, rude, crude, mild, crude,\n",
      "\n",
      "Comedy              126\n",
      "Family              106\n",
      "Comedy - Romance     27\n",
      "Action               23\n",
      "Name: genre, dtype: int64\n",
      "\n",
      "\n",
      "Cluster 6 words: sexuality, sexuality, strong, violence, strong, language,\n",
      "\n",
      "Thriller            7\n",
      "Drama - Romance     5\n",
      "Drama - Thriller    5\n",
      "Drama               4\n",
      "Name: genre, dtype: int64\n",
      "\n",
      "\n",
      "Cluster 7 words: nudity, drug, use, brief, nudity, language,\n",
      "\n",
      "Drama               159\n",
      "Comedy              146\n",
      "Drama - Thriller    100\n",
      "Drama - Romance      93\n",
      "Thriller             90\n",
      "Horror               68\n",
      "Comedy - Drama       59\n",
      "Action               44\n",
      "Name: genre, dtype: int64\n",
      "\n",
      "\n",
      "Cluster 8 words: sexuality, sexuality, content, strong, violence, content,\n",
      "\n",
      "Comedy              58\n",
      "Comedy - Romance    45\n",
      "Drama - Romance     38\n",
      "Drama               32\n",
      "Comedy - Drama      19\n",
      "Thriller            16\n",
      "Drama - Thriller    15\n",
      "Horror              13\n",
      "Name: genre, dtype: int64\n",
      "\n",
      "\n",
      "Cluster 9 words: language, language, sexuality, sexuality, content, content,\n",
      "\n",
      "Drama               43\n",
      "Comedy - Drama      38\n",
      "Drama - Romance     35\n",
      "Comedy              34\n",
      "Thriller            15\n",
      "Drama - Thriller    14\n",
      "Comedy - Romance    12\n",
      "Name: genre, dtype: int64\n",
      "\n",
      "\n",
      "\n",
      "\n",
      "(3947, 41)\n"
     ]
    }
   ],
   "source": [
    "train_df, test_df = cluster_text(train_df, test_df, 'mpaa_rating_text', .1, 5, 100000, 10, mpaa_vocab_frame)"
   ]
  },
  {
   "cell_type": "code",
   "execution_count": 37,
   "metadata": {
    "collapsed": false
   },
   "outputs": [
    {
     "name": "stdout",
     "output_type": "stream",
     "text": [
      "(9208, 41)\n",
      "(3947, 41)\n",
      "Index([u'part_of_collection', u'budget', u'overview', u'popularity',\n",
      "       u'production_companies', u'release_month', u'release_year', u'revenue',\n",
      "       u'runtime', u'spoken_languages', u'tagline', u'vote_average',\n",
      "       u'vote_count', u'animation department', u'art department',\n",
      "       u'camera and electrical department', u'cast', u'casting department',\n",
      "       u'costume department', u'distributors', u'editorial department',\n",
      "       u'music department', u'plot', u'plot outline', u'rating',\n",
      "       u'visual effects', u'votes', u'genre', u'overview_length',\n",
      "       u'tagline_length', u'plot_length', u'plot_outline_length',\n",
      "       u'mpaa_rating_text', u'mpaa_rating_text_length', u'mpaa_rating', u'id',\n",
      "       u'overview_cluster', u'tagline_cluster', u'plot_cluster',\n",
      "       u'plot outline_cluster', u'mpaa_rating_text_cluster'],\n",
      "      dtype='object')\n",
      "Index([u'part_of_collection', u'budget', u'overview', u'popularity',\n",
      "       u'production_companies', u'release_month', u'release_year', u'revenue',\n",
      "       u'runtime', u'spoken_languages', u'tagline', u'vote_average',\n",
      "       u'vote_count', u'animation department', u'art department',\n",
      "       u'camera and electrical department', u'cast', u'casting department',\n",
      "       u'costume department', u'distributors', u'editorial department',\n",
      "       u'music department', u'plot', u'plot outline', u'rating',\n",
      "       u'visual effects', u'votes', u'genre', u'overview_length',\n",
      "       u'tagline_length', u'plot_length', u'plot_outline_length',\n",
      "       u'mpaa_rating_text', u'mpaa_rating_text_length', u'mpaa_rating', u'id',\n",
      "       u'overview_cluster', u'tagline_cluster', u'plot_cluster',\n",
      "       u'plot outline_cluster', u'mpaa_rating_text_cluster'],\n",
      "      dtype='object')\n"
     ]
    }
   ],
   "source": [
    "print(train_df.shape)\n",
    "print(test_df.shape)\n",
    "print(train_df.columns)\n",
    "print(test_df.columns)"
   ]
  },
  {
   "cell_type": "code",
   "execution_count": 38,
   "metadata": {
    "collapsed": false
   },
   "outputs": [],
   "source": [
    "for column in text_columns:\n",
    "    train_df[column] = train_df[column].apply(lambda x: [x])\n",
    "    test_df[column] = test_df[column].apply(lambda x: [x])\n",
    "train_df.to_csv('train_w_cluster.csv', index  = False)\n",
    "test_df.to_csv('test_w_cluster.csv', index  = False)"
   ]
  }
 ],
 "metadata": {
  "kernelspec": {
   "display_name": "Python [Root]",
   "language": "python",
   "name": "Python [Root]"
  },
  "language_info": {
   "codemirror_mode": {
    "name": "ipython",
    "version": 2
   },
   "file_extension": ".py",
   "mimetype": "text/x-python",
   "name": "python",
   "nbconvert_exporter": "python",
   "pygments_lexer": "ipython2",
   "version": "2.7.13"
  }
 },
 "nbformat": 4,
 "nbformat_minor": 0
}
