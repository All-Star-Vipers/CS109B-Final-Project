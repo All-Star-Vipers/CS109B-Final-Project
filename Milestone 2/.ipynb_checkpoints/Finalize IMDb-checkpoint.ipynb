{
 "cells": [
  {
   "cell_type": "code",
   "execution_count": 20,
   "metadata": {
    "collapsed": true
   },
   "outputs": [],
   "source": [
    "import pandas as pd\n",
    "from ast import literal_eval"
   ]
  },
  {
   "cell_type": "code",
   "execution_count": 2,
   "metadata": {
    "collapsed": true
   },
   "outputs": [],
   "source": [
    "df_imdb = pd.read_csv('../Milestone 1/detailed_movie_data_imdb.csv')"
   ]
  },
  {
   "cell_type": "code",
   "execution_count": 3,
   "metadata": {
    "collapsed": false
   },
   "outputs": [
    {
     "data": {
      "text/plain": [
       "Index([u'akas', u'animation department', u'art department', u'art direction',\n",
       "       u'aspect ratio', u'assistant director', u'bottom 100 rank',\n",
       "       u'camera and electrical department', u'canonical episode title',\n",
       "       u'canonical series title', u'canonical title', u'cast',\n",
       "       u'casting department', u'casting director', u'certificates',\n",
       "       u'cinematographer', u'color info', u'costume department',\n",
       "       u'costume designer', u'countries', u'country codes', u'cover url',\n",
       "       u'director', u'distributors', u'editor', u'editorial department',\n",
       "       u'episode', u'episode of', u'episode title', u'full-size cover url',\n",
       "       u'genres', u'imdbIndex', u'imdb_id', u'kind', u'language codes',\n",
       "       u'languages', u'location management', u'long imdb canonical title',\n",
       "       u'long imdb episode title', u'long imdb title', u'make up',\n",
       "       u'miscellaneous companies', u'miscellaneous crew', u'movie_status_code',\n",
       "       u'mpaa', u'music department', u'number of episodes',\n",
       "       u'number of seasons', u'original air date', u'original music', u'plot',\n",
       "       u'plot outline', u'producer', u'production comments',\n",
       "       u'production companies', u'production design', u'production manager',\n",
       "       u'production note', u'production status', u'production status updated',\n",
       "       u'rating', u'runtimes', u'season', u'series art department',\n",
       "       u'series casting department', u'series location management',\n",
       "       u'series make up department', u'series miscellaneous',\n",
       "       u'series music department', u'series stunts', u'series title',\n",
       "       u'series writers', u'series years', u'set decoration',\n",
       "       u'smart canonical episode title', u'smart canonical series title',\n",
       "       u'smart canonical title', u'smart long imdb canonical title',\n",
       "       u'sound crew', u'sound mix', u'special effects companies',\n",
       "       u'special effects department', u'stunt performer', u'thanks', u'title',\n",
       "       u'top 250 rank', u'transportation department', u'visual effects',\n",
       "       u'votes', u'writer', u'year'],\n",
       "      dtype='object')"
      ]
     },
     "execution_count": 3,
     "metadata": {},
     "output_type": "execute_result"
    }
   ],
   "source": [
    "df_imdb.columns"
   ]
  },
  {
   "cell_type": "code",
   "execution_count": 51,
   "metadata": {
    "collapsed": false
   },
   "outputs": [
    {
     "data": {
      "text/plain": [
       "0       2017.0\n",
       "1       2017.0\n",
       "2       2016.0\n",
       "3       2017.0\n",
       "4       2015.0\n",
       "5       2016.0\n",
       "6       2016.0\n",
       "7       2017.0\n",
       "8       2014.0\n",
       "9       2017.0\n",
       "10      2016.0\n",
       "11      1967.0\n",
       "12      2015.0\n",
       "13      1935.0\n",
       "14      2014.0\n",
       "15      1995.0\n",
       "16      2016.0\n",
       "17      2013.0\n",
       "18      2009.0\n",
       "19      2006.0\n",
       "20      2012.0\n",
       "21      2006.0\n",
       "22      2015.0\n",
       "23      2013.0\n",
       "24      2005.0\n",
       "25      2004.0\n",
       "26      2006.0\n",
       "27      2013.0\n",
       "28      2004.0\n",
       "29      2005.0\n",
       "         ...  \n",
       "1879    1990.0\n",
       "1880    2008.0\n",
       "1881    1990.0\n",
       "1882    1971.0\n",
       "1883    1990.0\n",
       "1884    2015.0\n",
       "1885    1990.0\n",
       "1886    2010.0\n",
       "1887    1972.0\n",
       "1888    2012.0\n",
       "1889    2005.0\n",
       "1890    2009.0\n",
       "1891    2015.0\n",
       "1892    2006.0\n",
       "1893    2005.0\n",
       "1894    2017.0\n",
       "1895    1942.0\n",
       "1896    2010.0\n",
       "1897    1997.0\n",
       "1898    2015.0\n",
       "1899    2003.0\n",
       "1900    2016.0\n",
       "1901    2010.0\n",
       "1902    2003.0\n",
       "1903    1971.0\n",
       "1904    2012.0\n",
       "1905    2005.0\n",
       "1906    2002.0\n",
       "1907    2017.0\n",
       "1908    1986.0\n",
       "Name: year, dtype: float64"
      ]
     },
     "execution_count": 51,
     "metadata": {},
     "output_type": "execute_result"
    }
   ],
   "source": [
    "df_imdb['year']"
   ]
  },
  {
   "cell_type": "code",
   "execution_count": null,
   "metadata": {
    "collapsed": true
   },
   "outputs": [],
   "source": [
    "columns_to_keep = ['animation department', 'art department', 'camera and electrical department', 'cast',\n",
    "                  'casting department', 'certificates', 'costume department', 'distributors', 'genres', 'imdb_id',\n",
    "                   'editorial department', 'kind', 'makeup', 'mpaa', 'music department', 'plot', 'plot outline',\n",
    "                  'rating', 'special effect department', 'visual effects', 'votes']"
   ]
  },
  {
   "cell_type": "code",
   "execution_count": 54,
   "metadata": {
    "collapsed": false
   },
   "outputs": [
    {
     "data": {
      "text/plain": [
       "0       Rated PG for some action violence, peril and f...\n",
       "1       Rated R for strong brutal violence and languag...\n",
       "2             Rated PG for some rude humor and mild peril\n",
       "3       Rated PG-13 for intense sequences of sci-fi vi...\n",
       "4       Rated PG-13 for intense sequences of science-f...\n",
       "5            Rated PG-13 for some fantasy action violence\n",
       "6                     Rated PG for mild thematic elements\n",
       "7       Rated PG-13 for intense sequences of sci-fi vi...\n",
       "8       Rated PG-13 for some intense perilous action a...\n",
       "9       Rated R for language throughout, some sci-fi v...\n",
       "10      Rated PG-13 for disturbing thematic content an...\n",
       "11                                                    NaN\n",
       "12         Rated R for some sexuality/nudity and language\n",
       "13                                                    NaN\n",
       "14              Rated PG for some mild  thematic elements\n",
       "15                      Rated R for violence and language\n",
       "16      Rated PG - 13 for extended sequences of intens...\n",
       "17               Rated R for language and brief sexuality\n",
       "18      Rated R for pervasive language, some strong vi...\n",
       "19      Rated R for strong language and elements of se...\n",
       "20                                                    NaN\n",
       "21      Rated PG-13 for some intense sequences of viol...\n",
       "22      Rated R for crude sexual content and language ...\n",
       "23                                                    NaN\n",
       "24                                                    NaN\n",
       "25           Rated R for language and some sexual content\n",
       "26        Rated R for zombie-related violence (re-rating)\n",
       "27                                                    NaN\n",
       "28                                                    NaN\n",
       "29      Rated R for some violence and sexual content i...\n",
       "                              ...                        \n",
       "1879                                                  NaN\n",
       "1880                                                  NaN\n",
       "1881                                                  NaN\n",
       "1882                                                  NaN\n",
       "1883                                                  NaN\n",
       "1884    Rated PG-13 for some suggestive content and br...\n",
       "1885                                                  NaN\n",
       "1886    Rated R for violence, sexual content, drug use...\n",
       "1887                                                  NaN\n",
       "1888                                                  NaN\n",
       "1889    Rated PG-13 for thematic material, language an...\n",
       "1890                                                  NaN\n",
       "1891                                                  NaN\n",
       "1892                                                  NaN\n",
       "1893                                                  NaN\n",
       "1894                                                  NaN\n",
       "1895                                                  NaN\n",
       "1896    Rated R for language and some disturbing viole...\n",
       "1897    Rated R for horror violence and gore, and for ...\n",
       "1898                                                  NaN\n",
       "1899                    Rated R for violence and language\n",
       "1900             Rated R for bloody violence and language\n",
       "1901        Rated PG-13 for violence and brief sensuality\n",
       "1902                                                  NaN\n",
       "1903    Rated R for strong brutal violence including a...\n",
       "1904    Rated PG-13 for sequences of violence includin...\n",
       "1905    Rated R for strong horror violence/gore, and l...\n",
       "1906    Rated PG-13 for action violence, some sexual c...\n",
       "1907                                                  NaN\n",
       "1908                                                  NaN\n",
       "Name: mpaa, dtype: object"
      ]
     },
     "execution_count": 54,
     "metadata": {},
     "output_type": "execute_result"
    }
   ],
   "source": [
    "df_imdb['']"
   ]
  }
 ],
 "metadata": {
  "kernelspec": {
   "display_name": "Python [Root]",
   "language": "python",
   "name": "Python [Root]"
  },
  "language_info": {
   "codemirror_mode": {
    "name": "ipython",
    "version": 2
   },
   "file_extension": ".py",
   "mimetype": "text/x-python",
   "name": "python",
   "nbconvert_exporter": "python",
   "pygments_lexer": "ipython2",
   "version": "2.7.13"
  }
 },
 "nbformat": 4,
 "nbformat_minor": 0
}
