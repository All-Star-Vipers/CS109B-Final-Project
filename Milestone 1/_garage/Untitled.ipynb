{
 "cells": [
  {
   "cell_type": "code",
   "execution_count": 1,
   "metadata": {
    "collapsed": true
   },
   "outputs": [],
   "source": [
    "import pandas as pd"
   ]
  },
  {
   "cell_type": "code",
   "execution_count": 2,
   "metadata": {
    "collapsed": true
   },
   "outputs": [],
   "source": [
    "df = pd.read_csv('tmdb_genre_encoding.csv')"
   ]
  },
  {
   "cell_type": "code",
   "execution_count": 3,
   "metadata": {
    "collapsed": false
   },
   "outputs": [
    {
     "data": {
      "text/plain": [
       "(19262, 20)"
      ]
     },
     "execution_count": 3,
     "metadata": {},
     "output_type": "execute_result"
    }
   ],
   "source": [
    "df.shape"
   ]
  },
  {
   "cell_type": "code",
   "execution_count": 6,
   "metadata": {
    "collapsed": false
   },
   "outputs": [
    {
     "data": {
      "text/plain": [
       "Index([u'Action', u'Adventure', u'Animation', u'Comedy', u'Crime',\n",
       "       u'Documentary', u'Drama', u'Family', u'Fantasy', u'History', u'Horror',\n",
       "       u'Music', u'Mystery', u'Romance', u'Science Fiction', u'TV Movie',\n",
       "       u'Thriller', u'War', u'Western', u'id'],\n",
       "      dtype='object')"
      ]
     },
     "execution_count": 6,
     "metadata": {},
     "output_type": "execute_result"
    }
   ],
   "source": [
    "df.columns"
   ]
  },
  {
   "cell_type": "code",
   "execution_count": 8,
   "metadata": {
    "collapsed": false
   },
   "outputs": [],
   "source": [
    "df1 = df.drop('id', axis = 1)"
   ]
  },
  {
   "cell_type": "code",
   "execution_count": 11,
   "metadata": {
    "collapsed": false
   },
   "outputs": [],
   "source": [
    "x = df1[df1['Action'] == 1].sum()"
   ]
  },
  {
   "cell_type": "code",
   "execution_count": 67,
   "metadata": {
    "collapsed": false
   },
   "outputs": [],
   "source": [
    "df2 = pd.DataFrame({})\n",
    "mini_df = []\n",
    "for column in df1.columns:\n",
    "    x = df1[df1[column] == 1].sum(axis = 0)\n",
    "    y = x.keys()\n",
    "    z = x.tolist()\n",
    "    amounts = {i:j for i,j in zip(y,z)}\n",
    "    amounts['key_genre'] = column\n",
    "    mini_df.append(amounts)\n",
    "df2 = df2.append(mini_df)"
   ]
  },
  {
   "cell_type": "code",
   "execution_count": 81,
   "metadata": {
    "collapsed": false
   },
   "outputs": [
    {
     "data": {
      "text/html": [
       "<div>\n",
       "<table border=\"1\" class=\"dataframe\">\n",
       "  <thead>\n",
       "    <tr style=\"text-align: right;\">\n",
       "      <th></th>\n",
       "      <th>Action</th>\n",
       "      <th>Adventure</th>\n",
       "      <th>Animation</th>\n",
       "      <th>Comedy</th>\n",
       "      <th>Crime</th>\n",
       "      <th>Documentary</th>\n",
       "      <th>Drama</th>\n",
       "      <th>Family</th>\n",
       "      <th>Fantasy</th>\n",
       "      <th>History</th>\n",
       "      <th>Horror</th>\n",
       "      <th>Music</th>\n",
       "      <th>Mystery</th>\n",
       "      <th>Romance</th>\n",
       "      <th>Science Fiction</th>\n",
       "      <th>TV Movie</th>\n",
       "      <th>Thriller</th>\n",
       "      <th>War</th>\n",
       "      <th>Western</th>\n",
       "      <th>key_genre</th>\n",
       "    </tr>\n",
       "  </thead>\n",
       "  <tbody>\n",
       "    <tr>\n",
       "      <th>0</th>\n",
       "      <td>NaN</td>\n",
       "      <td>0.325387</td>\n",
       "      <td>0.073548</td>\n",
       "      <td>0.210500</td>\n",
       "      <td>0.213543</td>\n",
       "      <td>0.002790</td>\n",
       "      <td>0.325640</td>\n",
       "      <td>0.048948</td>\n",
       "      <td>0.104489</td>\n",
       "      <td>0.045143</td>\n",
       "      <td>0.075323</td>\n",
       "      <td>0.005580</td>\n",
       "      <td>0.042354</td>\n",
       "      <td>0.062643</td>\n",
       "      <td>0.205174</td>\n",
       "      <td>0.010145</td>\n",
       "      <td>0.384986</td>\n",
       "      <td>0.050216</td>\n",
       "      <td>0.040071</td>\n",
       "      <td>Action</td>\n",
       "    </tr>\n",
       "    <tr>\n",
       "      <th>1</th>\n",
       "      <td>0.542724</td>\n",
       "      <td>NaN</td>\n",
       "      <td>0.181895</td>\n",
       "      <td>0.260575</td>\n",
       "      <td>0.065567</td>\n",
       "      <td>0.004230</td>\n",
       "      <td>0.271997</td>\n",
       "      <td>0.253807</td>\n",
       "      <td>0.239425</td>\n",
       "      <td>0.047800</td>\n",
       "      <td>0.038917</td>\n",
       "      <td>0.010152</td>\n",
       "      <td>0.034264</td>\n",
       "      <td>0.086294</td>\n",
       "      <td>0.206853</td>\n",
       "      <td>0.013536</td>\n",
       "      <td>0.182741</td>\n",
       "      <td>0.037225</td>\n",
       "      <td>0.034687</td>\n",
       "      <td>Adventure</td>\n",
       "    </tr>\n",
       "    <tr>\n",
       "      <th>2</th>\n",
       "      <td>0.214656</td>\n",
       "      <td>0.318283</td>\n",
       "      <td>NaN</td>\n",
       "      <td>0.320503</td>\n",
       "      <td>0.020725</td>\n",
       "      <td>0.007402</td>\n",
       "      <td>0.096965</td>\n",
       "      <td>0.524796</td>\n",
       "      <td>0.227979</td>\n",
       "      <td>0.008142</td>\n",
       "      <td>0.022946</td>\n",
       "      <td>0.034789</td>\n",
       "      <td>0.026647</td>\n",
       "      <td>0.035529</td>\n",
       "      <td>0.152480</td>\n",
       "      <td>0.017024</td>\n",
       "      <td>0.025907</td>\n",
       "      <td>0.005181</td>\n",
       "      <td>0.002221</td>\n",
       "      <td>Animation</td>\n",
       "    </tr>\n",
       "    <tr>\n",
       "      <th>3</th>\n",
       "      <td>0.141662</td>\n",
       "      <td>0.105137</td>\n",
       "      <td>0.073903</td>\n",
       "      <td>NaN</td>\n",
       "      <td>0.079365</td>\n",
       "      <td>0.004779</td>\n",
       "      <td>0.319850</td>\n",
       "      <td>0.133811</td>\n",
       "      <td>0.076976</td>\n",
       "      <td>0.006656</td>\n",
       "      <td>0.049326</td>\n",
       "      <td>0.037037</td>\n",
       "      <td>0.020481</td>\n",
       "      <td>0.249019</td>\n",
       "      <td>0.055300</td>\n",
       "      <td>0.013142</td>\n",
       "      <td>0.058884</td>\n",
       "      <td>0.008193</td>\n",
       "      <td>0.010411</td>\n",
       "      <td>Comedy</td>\n",
       "    </tr>\n",
       "    <tr>\n",
       "      <th>4</th>\n",
       "      <td>0.383774</td>\n",
       "      <td>0.070647</td>\n",
       "      <td>0.012762</td>\n",
       "      <td>0.211942</td>\n",
       "      <td>NaN</td>\n",
       "      <td>0.005014</td>\n",
       "      <td>0.581586</td>\n",
       "      <td>0.011395</td>\n",
       "      <td>0.013674</td>\n",
       "      <td>0.010027</td>\n",
       "      <td>0.050593</td>\n",
       "      <td>0.009572</td>\n",
       "      <td>0.171832</td>\n",
       "      <td>0.066545</td>\n",
       "      <td>0.023701</td>\n",
       "      <td>0.007748</td>\n",
       "      <td>0.565634</td>\n",
       "      <td>0.004558</td>\n",
       "      <td>0.008204</td>\n",
       "      <td>Crime</td>\n",
       "    </tr>\n",
       "  </tbody>\n",
       "</table>\n",
       "</div>"
      ],
      "text/plain": [
       "     Action  Adventure  Animation    Comedy     Crime  Documentary     Drama  \\\n",
       "0       NaN   0.325387   0.073548  0.210500  0.213543     0.002790  0.325640   \n",
       "1  0.542724        NaN   0.181895  0.260575  0.065567     0.004230  0.271997   \n",
       "2  0.214656   0.318283        NaN  0.320503  0.020725     0.007402  0.096965   \n",
       "3  0.141662   0.105137   0.073903       NaN  0.079365     0.004779  0.319850   \n",
       "4  0.383774   0.070647   0.012762  0.211942       NaN     0.005014  0.581586   \n",
       "\n",
       "     Family   Fantasy   History    Horror     Music   Mystery   Romance  \\\n",
       "0  0.048948  0.104489  0.045143  0.075323  0.005580  0.042354  0.062643   \n",
       "1  0.253807  0.239425  0.047800  0.038917  0.010152  0.034264  0.086294   \n",
       "2  0.524796  0.227979  0.008142  0.022946  0.034789  0.026647  0.035529   \n",
       "3  0.133811  0.076976  0.006656  0.049326  0.037037  0.020481  0.249019   \n",
       "4  0.011395  0.013674  0.010027  0.050593  0.009572  0.171832  0.066545   \n",
       "\n",
       "   Science Fiction  TV Movie  Thriller       War   Western  key_genre  \n",
       "0         0.205174  0.010145  0.384986  0.050216  0.040071     Action  \n",
       "1         0.206853  0.013536  0.182741  0.037225  0.034687  Adventure  \n",
       "2         0.152480  0.017024  0.025907  0.005181  0.002221  Animation  \n",
       "3         0.055300  0.013142  0.058884  0.008193  0.010411     Comedy  \n",
       "4         0.023701  0.007748  0.565634  0.004558  0.008204      Crime  "
      ]
     },
     "execution_count": 81,
     "metadata": {},
     "output_type": "execute_result"
    }
   ],
   "source": [
    "df3 = df2.copy()\n",
    "cols = list(df3.columns)\n",
    "cols.remove('key_genre')\n",
    "for i in range(df3.shape[0]):\n",
    "    for col in cols:\n",
    "        df3[col] = df3[col].astype(float)\n",
    "        if col != df3.iloc[i]['key_genre']:\n",
    "            amount = df3.iloc[i][col] * 1.0 / df3.iloc[i][df3.iloc[i]['key_genre']] * 1.0\n",
    "            df3.set_value(i,col,amount)\n",
    "for i in range(df3.shape[0]):\n",
    "    for col in cols:\n",
    "        if col == df3.iloc[i]['key_genre']:\n",
    "            df3.set_value(i,col,None)\n",
    "df3.to_csv('chart_data/genre_pct_totals.csv', index = False)\n",
    "df3.head()"
   ]
  },
  {
   "cell_type": "code",
   "execution_count": 82,
   "metadata": {
    "collapsed": true
   },
   "outputs": [],
   "source": [
    "cols = list(df2.columns)\n",
    "cols.remove('key_genre')\n",
    "for i in range(df2.shape[0]):\n",
    "    for col in cols:\n",
    "        if col == df2.iloc[i]['key_genre']:\n",
    "            df2.set_value(i,col,None)\n",
    "df2.to_csv('chart_data/genre_raw_totals.csv', index = False)"
   ]
  },
  {
   "cell_type": "code",
   "execution_count": 83,
   "metadata": {
    "collapsed": false
   },
   "outputs": [
    {
     "data": {
      "text/html": [
       "<div>\n",
       "<table border=\"1\" class=\"dataframe\">\n",
       "  <thead>\n",
       "    <tr style=\"text-align: right;\">\n",
       "      <th></th>\n",
       "      <th>Action</th>\n",
       "      <th>Adventure</th>\n",
       "      <th>Animation</th>\n",
       "      <th>Comedy</th>\n",
       "      <th>Crime</th>\n",
       "      <th>Documentary</th>\n",
       "      <th>Drama</th>\n",
       "      <th>Family</th>\n",
       "      <th>Fantasy</th>\n",
       "      <th>History</th>\n",
       "      <th>Horror</th>\n",
       "      <th>Music</th>\n",
       "      <th>Mystery</th>\n",
       "      <th>Romance</th>\n",
       "      <th>Science Fiction</th>\n",
       "      <th>TV Movie</th>\n",
       "      <th>Thriller</th>\n",
       "      <th>War</th>\n",
       "      <th>Western</th>\n",
       "      <th>key_genre</th>\n",
       "    </tr>\n",
       "  </thead>\n",
       "  <tbody>\n",
       "    <tr>\n",
       "      <th>0</th>\n",
       "      <td>NaN</td>\n",
       "      <td>1283.0</td>\n",
       "      <td>290.0</td>\n",
       "      <td>830.0</td>\n",
       "      <td>842.0</td>\n",
       "      <td>11.0</td>\n",
       "      <td>1284.0</td>\n",
       "      <td>193.0</td>\n",
       "      <td>412.0</td>\n",
       "      <td>178.0</td>\n",
       "      <td>297.0</td>\n",
       "      <td>22.0</td>\n",
       "      <td>167.0</td>\n",
       "      <td>247.0</td>\n",
       "      <td>809.0</td>\n",
       "      <td>40.0</td>\n",
       "      <td>1518.0</td>\n",
       "      <td>198.0</td>\n",
       "      <td>158.0</td>\n",
       "      <td>Action</td>\n",
       "    </tr>\n",
       "    <tr>\n",
       "      <th>1</th>\n",
       "      <td>1283.0</td>\n",
       "      <td>NaN</td>\n",
       "      <td>430.0</td>\n",
       "      <td>616.0</td>\n",
       "      <td>155.0</td>\n",
       "      <td>10.0</td>\n",
       "      <td>643.0</td>\n",
       "      <td>600.0</td>\n",
       "      <td>566.0</td>\n",
       "      <td>113.0</td>\n",
       "      <td>92.0</td>\n",
       "      <td>24.0</td>\n",
       "      <td>81.0</td>\n",
       "      <td>204.0</td>\n",
       "      <td>489.0</td>\n",
       "      <td>32.0</td>\n",
       "      <td>432.0</td>\n",
       "      <td>88.0</td>\n",
       "      <td>82.0</td>\n",
       "      <td>Adventure</td>\n",
       "    </tr>\n",
       "    <tr>\n",
       "      <th>2</th>\n",
       "      <td>290.0</td>\n",
       "      <td>430.0</td>\n",
       "      <td>NaN</td>\n",
       "      <td>433.0</td>\n",
       "      <td>28.0</td>\n",
       "      <td>10.0</td>\n",
       "      <td>131.0</td>\n",
       "      <td>709.0</td>\n",
       "      <td>308.0</td>\n",
       "      <td>11.0</td>\n",
       "      <td>31.0</td>\n",
       "      <td>47.0</td>\n",
       "      <td>36.0</td>\n",
       "      <td>48.0</td>\n",
       "      <td>206.0</td>\n",
       "      <td>23.0</td>\n",
       "      <td>35.0</td>\n",
       "      <td>7.0</td>\n",
       "      <td>3.0</td>\n",
       "      <td>Animation</td>\n",
       "    </tr>\n",
       "    <tr>\n",
       "      <th>3</th>\n",
       "      <td>830.0</td>\n",
       "      <td>616.0</td>\n",
       "      <td>433.0</td>\n",
       "      <td>NaN</td>\n",
       "      <td>465.0</td>\n",
       "      <td>28.0</td>\n",
       "      <td>1874.0</td>\n",
       "      <td>784.0</td>\n",
       "      <td>451.0</td>\n",
       "      <td>39.0</td>\n",
       "      <td>289.0</td>\n",
       "      <td>217.0</td>\n",
       "      <td>120.0</td>\n",
       "      <td>1459.0</td>\n",
       "      <td>324.0</td>\n",
       "      <td>77.0</td>\n",
       "      <td>345.0</td>\n",
       "      <td>48.0</td>\n",
       "      <td>61.0</td>\n",
       "      <td>Comedy</td>\n",
       "    </tr>\n",
       "    <tr>\n",
       "      <th>4</th>\n",
       "      <td>842.0</td>\n",
       "      <td>155.0</td>\n",
       "      <td>28.0</td>\n",
       "      <td>465.0</td>\n",
       "      <td>NaN</td>\n",
       "      <td>11.0</td>\n",
       "      <td>1276.0</td>\n",
       "      <td>25.0</td>\n",
       "      <td>30.0</td>\n",
       "      <td>22.0</td>\n",
       "      <td>111.0</td>\n",
       "      <td>21.0</td>\n",
       "      <td>377.0</td>\n",
       "      <td>146.0</td>\n",
       "      <td>52.0</td>\n",
       "      <td>17.0</td>\n",
       "      <td>1241.0</td>\n",
       "      <td>10.0</td>\n",
       "      <td>18.0</td>\n",
       "      <td>Crime</td>\n",
       "    </tr>\n",
       "  </tbody>\n",
       "</table>\n",
       "</div>"
      ],
      "text/plain": [
       "   Action  Adventure  Animation  Comedy  Crime  Documentary   Drama  Family  \\\n",
       "0     NaN     1283.0      290.0   830.0  842.0         11.0  1284.0   193.0   \n",
       "1  1283.0        NaN      430.0   616.0  155.0         10.0   643.0   600.0   \n",
       "2   290.0      430.0        NaN   433.0   28.0         10.0   131.0   709.0   \n",
       "3   830.0      616.0      433.0     NaN  465.0         28.0  1874.0   784.0   \n",
       "4   842.0      155.0       28.0   465.0    NaN         11.0  1276.0    25.0   \n",
       "\n",
       "   Fantasy  History  Horror  Music  Mystery  Romance  Science Fiction  \\\n",
       "0    412.0    178.0   297.0   22.0    167.0    247.0            809.0   \n",
       "1    566.0    113.0    92.0   24.0     81.0    204.0            489.0   \n",
       "2    308.0     11.0    31.0   47.0     36.0     48.0            206.0   \n",
       "3    451.0     39.0   289.0  217.0    120.0   1459.0            324.0   \n",
       "4     30.0     22.0   111.0   21.0    377.0    146.0             52.0   \n",
       "\n",
       "   TV Movie  Thriller    War  Western  key_genre  \n",
       "0      40.0    1518.0  198.0    158.0     Action  \n",
       "1      32.0     432.0   88.0     82.0  Adventure  \n",
       "2      23.0      35.0    7.0      3.0  Animation  \n",
       "3      77.0     345.0   48.0     61.0     Comedy  \n",
       "4      17.0    1241.0   10.0     18.0      Crime  "
      ]
     },
     "execution_count": 83,
     "metadata": {},
     "output_type": "execute_result"
    }
   ],
   "source": [
    "df2.head()"
   ]
  },
  {
   "cell_type": "code",
   "execution_count": 85,
   "metadata": {
    "collapsed": false
   },
   "outputs": [
    {
     "data": {
      "text/html": [
       "<div class='tableauPlaceholder' id='viz1491392940635' style='position: relative'><noscript><a href='#'><img alt='Dashboard 1 ' src='https:&#47;&#47;public.tableau.com&#47;static&#47;images&#47;cs&#47;cs109b_genre_proportion&#47;Dashboard1&#47;1_rss.png' style='border: none' /></a></noscript><object class='tableauViz'  style='display:none;'><param name='host_url' value='https%3A%2F%2Fpublic.tableau.com%2F' /> <param name='site_root' value='' /><param name='name' value='cs109b_genre_proportion&#47;Dashboard1' /><param name='tabs' value='no' /><param name='toolbar' value='yes' /><param name='static_image' value='https:&#47;&#47;public.tableau.com&#47;static&#47;images&#47;cs&#47;cs109b_genre_proportion&#47;Dashboard1&#47;1.png' /> <param name='animate_transition' value='yes' /><param name='display_static_image' value='yes' /><param name='display_spinner' value='yes' /><param name='display_overlay' value='yes' /><param name='display_count' value='yes' /></object></div>                <script type='text/javascript'>                    var divElement = document.getElementById('viz1491392940635');                    var vizElement = divElement.getElementsByTagName('object')[0];                    vizElement.style.width='1004px';vizElement.style.height='869px';                    var scriptElement = document.createElement('script');                    scriptElement.src = 'https://public.tableau.com/javascripts/api/viz_v1.js';                    vizElement.parentNode.insertBefore(scriptElement, vizElement);                </script>"
      ],
      "text/plain": [
       "<IPython.core.display.HTML object>"
      ]
     },
     "metadata": {},
     "output_type": "display_data"
    }
   ],
   "source": [
    "%%HTML\n",
    "<div class='tableauPlaceholder' id='viz1491392940635' style='position: relative'><noscript><a href='#'><img alt='Dashboard 1 ' src='https:&#47;&#47;public.tableau.com&#47;static&#47;images&#47;cs&#47;cs109b_genre_proportion&#47;Dashboard1&#47;1_rss.png' style='border: none' /></a></noscript><object class='tableauViz'  style='display:none;'><param name='host_url' value='https%3A%2F%2Fpublic.tableau.com%2F' /> <param name='site_root' value='' /><param name='name' value='cs109b_genre_proportion&#47;Dashboard1' /><param name='tabs' value='no' /><param name='toolbar' value='yes' /><param name='static_image' value='https:&#47;&#47;public.tableau.com&#47;static&#47;images&#47;cs&#47;cs109b_genre_proportion&#47;Dashboard1&#47;1.png' /> <param name='animate_transition' value='yes' /><param name='display_static_image' value='yes' /><param name='display_spinner' value='yes' /><param name='display_overlay' value='yes' /><param name='display_count' value='yes' /></object></div>                <script type='text/javascript'>                    var divElement = document.getElementById('viz1491392940635');                    var vizElement = divElement.getElementsByTagName('object')[0];                    vizElement.style.width='1004px';vizElement.style.height='869px';                    var scriptElement = document.createElement('script');                    scriptElement.src = 'https://public.tableau.com/javascripts/api/viz_v1.js';                    vizElement.parentNode.insertBefore(scriptElement, vizElement);                </script>"
   ]
  },
  {
   "cell_type": "code",
   "execution_count": 86,
   "metadata": {
    "collapsed": false
   },
   "outputs": [
    {
     "data": {
      "text/html": [
       "<div class='tableauPlaceholder' id='viz1491394078709' style='position: relative'><noscript><a href='#'><img alt='Dashboard 1 ' src='https:&#47;&#47;public.tableau.com&#47;static&#47;images&#47;cs&#47;cs109b_genre_raw_total&#47;Dashboard1&#47;1_rss.png' style='border: none' /></a></noscript><object class='tableauViz'  style='display:none;'><param name='host_url' value='https%3A%2F%2Fpublic.tableau.com%2F' /> <param name='site_root' value='' /><param name='name' value='cs109b_genre_raw_total&#47;Dashboard1' /><param name='tabs' value='no' /><param name='toolbar' value='yes' /><param name='static_image' value='https:&#47;&#47;public.tableau.com&#47;static&#47;images&#47;cs&#47;cs109b_genre_raw_total&#47;Dashboard1&#47;1.png' /> <param name='animate_transition' value='yes' /><param name='display_static_image' value='yes' /><param name='display_spinner' value='yes' /><param name='display_overlay' value='yes' /><param name='display_count' value='yes' /></object></div>                <script type='text/javascript'>                    var divElement = document.getElementById('viz1491394078709');                    var vizElement = divElement.getElementsByTagName('object')[0];                    vizElement.style.width='1004px';vizElement.style.height='869px';                    var scriptElement = document.createElement('script');                    scriptElement.src = 'https://public.tableau.com/javascripts/api/viz_v1.js';                    vizElement.parentNode.insertBefore(scriptElement, vizElement);                </script>"
      ],
      "text/plain": [
       "<IPython.core.display.HTML object>"
      ]
     },
     "metadata": {},
     "output_type": "display_data"
    }
   ],
   "source": [
    "%%HTML\n",
    "<div class='tableauPlaceholder' id='viz1491394078709' style='position: relative'><noscript><a href='#'><img alt='Dashboard 1 ' src='https:&#47;&#47;public.tableau.com&#47;static&#47;images&#47;cs&#47;cs109b_genre_raw_total&#47;Dashboard1&#47;1_rss.png' style='border: none' /></a></noscript><object class='tableauViz'  style='display:none;'><param name='host_url' value='https%3A%2F%2Fpublic.tableau.com%2F' /> <param name='site_root' value='' /><param name='name' value='cs109b_genre_raw_total&#47;Dashboard1' /><param name='tabs' value='no' /><param name='toolbar' value='yes' /><param name='static_image' value='https:&#47;&#47;public.tableau.com&#47;static&#47;images&#47;cs&#47;cs109b_genre_raw_total&#47;Dashboard1&#47;1.png' /> <param name='animate_transition' value='yes' /><param name='display_static_image' value='yes' /><param name='display_spinner' value='yes' /><param name='display_overlay' value='yes' /><param name='display_count' value='yes' /></object></div>                <script type='text/javascript'>                    var divElement = document.getElementById('viz1491394078709');                    var vizElement = divElement.getElementsByTagName('object')[0];                    vizElement.style.width='1004px';vizElement.style.height='869px';                    var scriptElement = document.createElement('script');                    scriptElement.src = 'https://public.tableau.com/javascripts/api/viz_v1.js';                    vizElement.parentNode.insertBefore(scriptElement, vizElement);                </script>"
   ]
  }
 ],
 "metadata": {
  "anaconda-cloud": {},
  "kernelspec": {
   "display_name": "Python [Root]",
   "language": "python",
   "name": "Python [Root]"
  },
  "language_info": {
   "codemirror_mode": {
    "name": "ipython",
    "version": 2
   },
   "file_extension": ".py",
   "mimetype": "text/x-python",
   "name": "python",
   "nbconvert_exporter": "python",
   "pygments_lexer": "ipython2",
   "version": "2.7.13"
  }
 },
 "nbformat": 4,
 "nbformat_minor": 0
}
