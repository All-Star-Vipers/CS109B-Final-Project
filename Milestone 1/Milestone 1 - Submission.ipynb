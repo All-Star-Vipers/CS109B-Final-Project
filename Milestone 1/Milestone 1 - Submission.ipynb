{
 "cells": [
  {
   "cell_type": "markdown",
   "metadata": {
    "deletable": true,
    "editable": true
   },
   "source": [
    "# Libraries and Helper Functions / Objects"
   ]
  },
  {
   "cell_type": "code",
   "execution_count": 5,
   "metadata": {
    "collapsed": false,
    "deletable": true,
    "editable": true
   },
   "outputs": [],
   "source": [
    "import pandas as pd\n",
    "import requests\n",
    "import json\n",
    "import numpy as np\n",
    "from time import sleep\n",
    "from ast import literal_eval\n",
    "from imdb import IMDb"
   ]
  },
  {
   "cell_type": "code",
   "execution_count": 4,
   "metadata": {
    "collapsed": true,
    "deletable": true,
    "editable": true
   },
   "outputs": [],
   "source": [
    "# json object of tmbd genre ids\n",
    "genre_ids= {\n",
    "  \"genres\": [\n",
    "    {\n",
    "      \"id\": 28,\n",
    "      \"name\": \"Action\"\n",
    "    },\n",
    "    {\n",
    "      \"id\": 12,\n",
    "      \"name\": \"Adventure\"\n",
    "    },\n",
    "    {\n",
    "      \"id\": 16,\n",
    "      \"name\": \"Animation\"\n",
    "    },\n",
    "    {\n",
    "      \"id\": 35,\n",
    "      \"name\": \"Comedy\"\n",
    "    },\n",
    "    {\n",
    "      \"id\": 80,\n",
    "      \"name\": \"Crime\"\n",
    "    },\n",
    "    {\n",
    "      \"id\": 99,\n",
    "      \"name\": \"Documentary\"\n",
    "    },\n",
    "    {\n",
    "      \"id\": 18,\n",
    "      \"name\": \"Drama\"\n",
    "    },\n",
    "    {\n",
    "      \"id\": 10751,\n",
    "      \"name\": \"Family\"\n",
    "    },\n",
    "    {\n",
    "      \"id\": 14,\n",
    "      \"name\": \"Fantasy\"\n",
    "    },\n",
    "    {\n",
    "      \"id\": 36,\n",
    "      \"name\": \"History\"\n",
    "    },\n",
    "    {\n",
    "      \"id\": 27,\n",
    "      \"name\": \"Horror\"\n",
    "    },\n",
    "    {\n",
    "      \"id\": 10402,\n",
    "      \"name\": \"Music\"\n",
    "    },\n",
    "    {\n",
    "      \"id\": 9648,\n",
    "      \"name\": \"Mystery\"\n",
    "    },\n",
    "    {\n",
    "      \"id\": 10749,\n",
    "      \"name\": \"Romance\"\n",
    "    },\n",
    "    {\n",
    "      \"id\": 878,\n",
    "      \"name\": \"Science Fiction\"\n",
    "    },\n",
    "    {\n",
    "      \"id\": 10770,\n",
    "      \"name\": \"TV Movie\"\n",
    "    },\n",
    "    {\n",
    "      \"id\": 53,\n",
    "      \"name\": \"Thriller\"\n",
    "    },\n",
    "    {\n",
    "      \"id\": 10752,\n",
    "      \"name\": \"War\"\n",
    "    },\n",
    "    {\n",
    "      \"id\": 37,\n",
    "      \"name\": \"Western\"\n",
    "    }\n",
    "  ]\n",
    "}"
   ]
  },
  {
   "cell_type": "markdown",
   "metadata": {
    "deletable": true,
    "editable": true
   },
   "source": [
    "# Favorite Movie Information"
   ]
  },
  {
   "cell_type": "markdown",
   "metadata": {
    "deletable": true,
    "editable": true
   },
   "source": [
    "### Get Favorite Movie ID"
   ]
  },
  {
   "cell_type": "code",
   "execution_count": 21,
   "metadata": {
    "collapsed": false,
    "deletable": true,
    "editable": true
   },
   "outputs": [
    {
     "name": "stdout",
     "output_type": "stream",
     "text": [
      "{\n",
      "    \"page\": 1, \n",
      "    \"results\": [\n",
      "        {\n",
      "            \"adult\": false, \n",
      "            \"backdrop_path\": \"/5vZw7ltCKI0JiOYTtRxaIC3DX0e.jpg\", \n",
      "            \"genre_ids\": [\n",
      "                28, \n",
      "                18, \n",
      "                12\n",
      "            ], \n",
      "            \"id\": 98, \n",
      "            \"original_language\": \"en\", \n",
      "            \"original_title\": \"Gladiator\", \n",
      "            \"overview\": \"General Maximus' success in battle earns the favour of the Roman Empire's elderly Emperor at the expense of the Emperor's son. In a fit of jealous rage the son slays his father before turning his anger towards Maximus. Now reduced to a slave, and his family dead, Maximus must fight as a gladiator to gain his freedom \\u2013 and his revenge.\", \n",
      "            \"popularity\": 8.000926, \n",
      "            \"poster_path\": \"/6WBIzCgmDCYrqh64yDREGeDk9d3.jpg\", \n",
      "            \"release_date\": \"2000-05-01\", \n",
      "            \"title\": \"Gladiator\", \n",
      "            \"video\": false, \n",
      "            \"vote_average\": 7.8, \n",
      "            \"vote_count\": 4291\n",
      "        }, \n",
      "        {\n",
      "            \"adult\": false, \n",
      "            \"backdrop_path\": \"/iCTCKbItiVNyMY5POSqQlXOSEzo.jpg\", \n",
      "            \"genre_ids\": [\n",
      "                28, \n",
      "                18\n",
      "            ], \n",
      "            \"id\": 16219, \n",
      "            \"original_language\": \"en\", \n",
      "            \"original_title\": \"Gladiator\", \n",
      "            \"overview\": \"A story of two teenagers trapped in the world of illegal underground boxing. One is fighting to save his fathers life and using the money pay off gambling debts accumulated by his father. The second is fighting for the money to get out of the ghettos. While being exploited by a boxing promoter the two teens become friends. An explosive ending puts the two friends in the ring against each other.\", \n",
      "            \"popularity\": 1.190527, \n",
      "            \"poster_path\": \"/713us6KGUrYbEqH6KkdkpVFP68.jpg\", \n",
      "            \"release_date\": \"1992-03-06\", \n",
      "            \"title\": \"Gladiator\", \n",
      "            \"video\": false, \n",
      "            \"vote_average\": 5.5, \n",
      "            \"vote_count\": 24\n",
      "        }, \n",
      "        {\n",
      "            \"adult\": false, \n",
      "            \"backdrop_path\": \"/vRlVUr32dwnUH2EdMGRakMepiH4.jpg\", \n",
      "            \"genre_ids\": [\n",
      "                28\n",
      "            ], \n",
      "            \"id\": 65293, \n",
      "            \"original_language\": \"en\", \n",
      "            \"original_title\": \"Gladiator Cop\", \n",
      "            \"overview\": \"Andrew Garret is a cop trying to reveal the background of secret killing fights named \\\"Game\\\". He takes part in the fights under the nickname Gladiator.One of the Game bosses, Parmenion, wants him to fight with the ancient sword that once belonged to Alexander the Great against his own fighter Mongol to recall the 2000 years old duel between Alexander and his enemy whose re-incarnations he believes to be Andrew Garrett and himself.\", \n",
      "            \"popularity\": 1.118377, \n",
      "            \"poster_path\": \"/z8rcxnXY83oFcUkXx8KEUBq53al.jpg\", \n",
      "            \"release_date\": \"1995-05-20\", \n",
      "            \"title\": \"Gladiator Cop\", \n",
      "            \"video\": false, \n",
      "            \"vote_average\": 5, \n",
      "            \"vote_count\": 3\n",
      "        }, \n",
      "        {\n",
      "            \"adult\": false, \n",
      "            \"backdrop_path\": null, \n",
      "            \"genre_ids\": [\n",
      "                28, \n",
      "                53\n",
      "            ], \n",
      "            \"id\": 53063, \n",
      "            \"original_language\": \"en\", \n",
      "            \"original_title\": \"Forced to Kill\", \n",
      "            \"overview\": \"A repo man tries to deliver a repossessed Jaguar. He's captured by a bizarre family, straight out of the backwoods, who force him to fight in an illegal, bare-fist tournament run by an insane sheriff.\", \n",
      "            \"popularity\": 1.000647, \n",
      "            \"poster_path\": \"/uyZ2hO1Opk9lyWBPBgSBzl2PpoL.jpg\", \n",
      "            \"release_date\": \"1994-05-18\", \n",
      "            \"title\": \"Forced to Kill\", \n",
      "            \"video\": false, \n",
      "            \"vote_average\": 4.9, \n",
      "            \"vote_count\": 1\n",
      "        }, \n",
      "        {\n",
      "            \"adult\": false, \n",
      "            \"backdrop_path\": null, \n",
      "            \"genre_ids\": [\n",
      "                28, \n",
      "                14, \n",
      "                12\n",
      "            ], \n",
      "            \"id\": 398359, \n",
      "            \"original_language\": \"en\", \n",
      "            \"original_title\": \"Gladiator Wars\", \n",
      "            \"overview\": \"The Wizard takes warriors from there time periods and makes them fight to the death for his evil pleasure.\", \n",
      "            \"popularity\": 1.013289, \n",
      "            \"poster_path\": \"/h1IoZCFYbp2NIBQ8WwocYMsXF2t.jpg\", \n",
      "            \"release_date\": \"2016-07-01\", \n",
      "            \"title\": \"Gladiator Wars\", \n",
      "            \"video\": false, \n",
      "            \"vote_average\": 0, \n",
      "            \"vote_count\": 0\n",
      "        }, \n",
      "        {\n",
      "            \"adult\": false, \n",
      "            \"backdrop_path\": \"/tln2i6py34SfHK6Azjk3kRjZO52.jpg\", \n",
      "            \"genre_ids\": [\n",
      "                35\n",
      "            ], \n",
      "            \"id\": 246864, \n",
      "            \"original_language\": \"en\", \n",
      "            \"original_title\": \"The Gladiator\", \n",
      "            \"overview\": \"A man returns to college and is talked into joining he football team and is a real joke on the team, until he is given a drug that gives him super strength.\", \n",
      "            \"popularity\": 1.000221, \n",
      "            \"poster_path\": \"/o7WIrKhaiPnba5zolkI4Uww4cIa.jpg\", \n",
      "            \"release_date\": \"1938-08-14\", \n",
      "            \"title\": \"The Gladiator\", \n",
      "            \"video\": false, \n",
      "            \"vote_average\": 0, \n",
      "            \"vote_count\": 0\n",
      "        }, \n",
      "        {\n",
      "            \"adult\": false, \n",
      "            \"backdrop_path\": \"/zpPhUVOuelvwgyYy5AqS9qAP0Ei.jpg\", \n",
      "            \"genre_ids\": [\n",
      "                53, \n",
      "                28, \n",
      "                18\n",
      "            ], \n",
      "            \"id\": 114657, \n",
      "            \"original_language\": \"fr\", \n",
      "            \"original_title\": \"The Gladiator\", \n",
      "            \"overview\": \"A road warrior vigilante avenges his brother's death at the hands of a crazy motorist by using his souped-up pickup to apprehend drunken drivers and others who abuse their driving privileges.\", \n",
      "            \"popularity\": 1.000003, \n",
      "            \"poster_path\": \"/asLJl7huJVgoXeca8aAlmywU9YQ.jpg\", \n",
      "            \"release_date\": \"1986-02-03\", \n",
      "            \"title\": \"The Gladiator\", \n",
      "            \"video\": false, \n",
      "            \"vote_average\": 8, \n",
      "            \"vote_count\": 2\n",
      "        }, \n",
      "        {\n",
      "            \"adult\": false, \n",
      "            \"backdrop_path\": null, \n",
      "            \"genre_ids\": [], \n",
      "            \"id\": 180071, \n",
      "            \"original_language\": \"en\", \n",
      "            \"original_title\": \"Gladiator Of Pompeii\", \n",
      "            \"overview\": \"Epic drama of Pompeii at the city\\u2019s height of glory, up to the eruption of Vesuvius in AD 79, this film is one of titanic proportions, recounting on the grandest scale, its untimely destruction which killed 20,000 people in a matter of hours.Pompeii was a world where men and women had slaves, where gladiators fought to the death to provide entertainment to the bloodthirsty crowds. Helpless against a succession of apocalyptic events (a great earthquake,tidal waves, thunder and lightning), the inferno continued for three days and then all was silent.\", \n",
      "            \"popularity\": 1.249636, \n",
      "            \"poster_path\": \"/87sOffyInKEpygZ15AG5dlowLU1.jpg\", \n",
      "            \"release_date\": \"2007-09-22\", \n",
      "            \"title\": \"Gladiator Of Pompeii\", \n",
      "            \"video\": false, \n",
      "            \"vote_average\": 0, \n",
      "            \"vote_count\": 0\n",
      "        }, \n",
      "        {\n",
      "            \"adult\": false, \n",
      "            \"backdrop_path\": null, \n",
      "            \"genre_ids\": [], \n",
      "            \"id\": 164728, \n",
      "            \"original_language\": \"en\", \n",
      "            \"original_title\": \"Il gladiatore invincibile\", \n",
      "            \"overview\": \"A Roman warrior leads a revolt against an evil ruler. A young, diminutive ruler makes a big decision to unseat a nobleman whose ego has outgrown him. But can the 10-year-old take on such an impressive nemesis?\", \n",
      "            \"popularity\": 1.000145, \n",
      "            \"poster_path\": \"/pwYIdHQBdNB3d7IJ0APgpshVYF0.jpg\", \n",
      "            \"release_date\": \"1961-10-13\", \n",
      "            \"title\": \"The Invincible Gladiator\", \n",
      "            \"video\": false, \n",
      "            \"vote_average\": 5.3, \n",
      "            \"vote_count\": 3\n",
      "        }, \n",
      "        {\n",
      "            \"adult\": false, \n",
      "            \"backdrop_path\": null, \n",
      "            \"genre_ids\": [], \n",
      "            \"id\": 283976, \n",
      "            \"original_language\": \"en\", \n",
      "            \"original_title\": \"Gladiator Challenge - Avalanche\", \n",
      "            \"overview\": \"Fighters:  Urijah Faber vs Krazy Horse  Andy Maccarone vs Shannon Ritch  Anthony Ruiz vs Shane Yokum  Nick Covert vs Phil Collins  Rubin Villareal vs James Sacco  Paul O'Keefe vs Ben Davis  Shane Stewart vs Dino Aguilar  Keith Pittman vs Brian Granados  Tyson Griffin vs Shawn Bias  Chuck Kim vs Jeremiah Jarvis\", \n",
      "            \"popularity\": 1.000429, \n",
      "            \"poster_path\": \"/zGfOhePMqROqXMG6TzyOtsEcpDq.jpg\", \n",
      "            \"release_date\": \"2006-01-01\", \n",
      "            \"title\": \"Gladiator Challenge - Avalanche\", \n",
      "            \"video\": true, \n",
      "            \"vote_average\": 0, \n",
      "            \"vote_count\": 0\n",
      "        }, \n",
      "        {\n",
      "            \"adult\": false, \n",
      "            \"backdrop_path\": null, \n",
      "            \"genre_ids\": [\n",
      "                9648, \n",
      "                28\n",
      "            ], \n",
      "            \"id\": 421790, \n",
      "            \"original_language\": \"ru\", \n",
      "            \"original_title\": \"Gladiator po naymu\", \n",
      "            \"overview\": \"The owner of the private detective agency Ilya Mirsky receives a tempting offer from the wife of media mogul Eva Lukachyova - he should not allow the leak of compromising information, which would deprive Eva of her multimillion-dollar inheritance. Deciding to take the case, Ilya could have hardly imagined that he would have to face a whole series of sophisticated murder, and that the result would be in the danger of his own life.\", \n",
      "            \"popularity\": 1.000656, \n",
      "            \"poster_path\": \"/zkOEfEdhOm7QzCoj1eQtfMal0sP.jpg\", \n",
      "            \"release_date\": \"1993-01-01\", \n",
      "            \"title\": \"Gladiator for Rent\", \n",
      "            \"video\": false, \n",
      "            \"vote_average\": 0, \n",
      "            \"vote_count\": 0\n",
      "        }, \n",
      "        {\n",
      "            \"adult\": false, \n",
      "            \"backdrop_path\": null, \n",
      "            \"genre_ids\": [], \n",
      "            \"id\": 202393, \n",
      "            \"original_language\": \"en\", \n",
      "            \"original_title\": \"See Ya Later Gladiator\", \n",
      "            \"overview\": \"A time machine sends Daffy Duck and Speedy Gonzales back to Rome in 65 A.D., where they are captured for lion fodder as entertainment for Emperor Nero...\", \n",
      "            \"popularity\": 1.002025, \n",
      "            \"poster_path\": \"/f0h1rhT8upNp7o0TEcjNJtOASnh.jpg\", \n",
      "            \"release_date\": \"1968-06-28\", \n",
      "            \"title\": \"See Ya Later Gladiator\", \n",
      "            \"video\": false, \n",
      "            \"vote_average\": 0, \n",
      "            \"vote_count\": 0\n",
      "        }, \n",
      "        {\n",
      "            \"adult\": false, \n",
      "            \"backdrop_path\": null, \n",
      "            \"genre_ids\": [\n",
      "                35\n",
      "            ], \n",
      "            \"id\": 340031, \n",
      "            \"original_language\": \"en\", \n",
      "            \"original_title\": \"Druid Gladiator Clone\", \n",
      "            \"overview\": \"An evil Druid warlord resurrects a young man and transforms him into a wicked superhero. With the help of a nice young woman, the superhero eventually begins to question his diabolical beliefs. As if his hands weren't full enough with his study of good and evil, he also has to deal with the confusion caused by his clone, the beasts of The Druid Gladiator Match, and, of course, the scheming Druid warlord.\", \n",
      "            \"popularity\": 1.000503, \n",
      "            \"poster_path\": \"/rsoTiJTKJjdvhnkT6RNisgNHIgH.jpg\", \n",
      "            \"release_date\": \"2003-10-13\", \n",
      "            \"title\": \"Druid Gladiator Clone\", \n",
      "            \"video\": false, \n",
      "            \"vote_average\": 0, \n",
      "            \"vote_count\": 0\n",
      "        }, \n",
      "        {\n",
      "            \"adult\": false, \n",
      "            \"backdrop_path\": \"/fX64Bme22kjhZ8SgZjQXVjYljS1.jpg\", \n",
      "            \"genre_ids\": [\n",
      "                99, \n",
      "                18\n",
      "            ], \n",
      "            \"id\": 209025, \n",
      "            \"original_language\": \"en\", \n",
      "            \"original_title\": \"Spartacus: Gladiator War\", \n",
      "            \"overview\": \"It began with a breakout from a prison kitchen; it became a civil war. Based on the latest research, this dramatised documentary reveals how around 70 men armed themselves with kitchen knives and roasting spits, and chose a man called Spartacus as their leader. People came to join them in their thousands, and within a matter of months, the fugitive band was an army 100,000 strong. Strong enough to threaten the destruction of Rome. This film tells the story of a modern, dirty war of propaganda, psychological warfare and guerrilla tactics fought two thousand years ago. And it reveals the true character of Spartacus, a ruthless and charismatic leader very different to the figure created by two thousand years of myth-making.\", \n",
      "            \"popularity\": 1.000311, \n",
      "            \"poster_path\": \"/fIfK9qBb0pH2w6GkOf7HH8ga6uO.jpg\", \n",
      "            \"release_date\": \"2005-01-01\", \n",
      "            \"title\": \"Spartacus: Gladiator War\", \n",
      "            \"video\": false, \n",
      "            \"vote_average\": 0, \n",
      "            \"vote_count\": 0\n",
      "        }, \n",
      "        {\n",
      "            \"adult\": false, \n",
      "            \"backdrop_path\": null, \n",
      "            \"genre_ids\": [\n",
      "                28, \n",
      "                12, \n",
      "                18\n",
      "            ], \n",
      "            \"id\": 211179, \n",
      "            \"original_language\": \"en\", \n",
      "            \"original_title\": \"The Magnificent Gladiator\", \n",
      "            \"overview\": \"\", \n",
      "            \"popularity\": 1.000261, \n",
      "            \"poster_path\": \"/CegytbWs2aZIYxUggm0KHi4SLk.jpg\", \n",
      "            \"release_date\": \"1964-12-30\", \n",
      "            \"title\": \"The Magnificent Gladiator\", \n",
      "            \"video\": false, \n",
      "            \"vote_average\": 0, \n",
      "            \"vote_count\": 0\n",
      "        }, \n",
      "        {\n",
      "            \"adult\": false, \n",
      "            \"backdrop_path\": null, \n",
      "            \"genre_ids\": [], \n",
      "            \"id\": 411987, \n",
      "            \"original_language\": \"en\", \n",
      "            \"original_title\": \"Police Story: Gladiator School\", \n",
      "            \"overview\": \"Robert Conrad is Officer Stacy, an LAPD cop with an attitude. After busting a prostitute, she files a complaint against him. A week later he shoots her in an apparent frame-up job. Officer Stacy is prosecuted, found guilty of murder and sent to 'Gladiator School' (prison)! His partner (played by Benjamin Bratt) believes Stacy is innocent even though no evidence can be produced to say otherwise. Also working for Stacy's release are two internal investigation agents (one of them played by Ed O'Neill). Can these fellow officers get Stacy out of prison before the inmates teach him a deadly lesson?\", \n",
      "            \"popularity\": 1.000008, \n",
      "            \"poster_path\": null, \n",
      "            \"release_date\": \"1988-11-05\", \n",
      "            \"title\": \"Police Story: Gladiator School\", \n",
      "            \"video\": false, \n",
      "            \"vote_average\": 0, \n",
      "            \"vote_count\": 0\n",
      "        }, \n",
      "        {\n",
      "            \"adult\": false, \n",
      "            \"backdrop_path\": null, \n",
      "            \"genre_ids\": [\n",
      "                28, \n",
      "                12, \n",
      "                35, \n",
      "                14\n",
      "            ], \n",
      "            \"id\": 30470, \n",
      "            \"original_language\": \"en\", \n",
      "            \"original_title\": \"Gladiator Eroticvs: The Lesbian Warriors\", \n",
      "            \"overview\": \"A parody of the big-budget Ridley Scott-helmed sword-and-sandal epic, Gladiator Eroticvs stars Darian (The Erotic Witch Project) Caine in the title role, a fierce Roman soldier who is sold into slavery and forced to fight in the lesbian games (well, maybe \\\"forced\\\" isn't quite the right word). Also starring John (Titanic 2000) Fedele as the Emperor Dickus Minimus (I kid you not) and Factory 2000 regular Misty Mundae as his royal sister, Clitorus, Gladiator Eroticvs offers the same thrills, excitement, slapstick comedy, and girl-on-girl action that you've come to expect from a Seduction Cinema production.\", \n",
      "            \"popularity\": 1.133098, \n",
      "            \"poster_path\": \"/4QzA7wUmrZrFeW5tiCQaYjCq1j4.jpg\", \n",
      "            \"release_date\": \"2001-01-03\", \n",
      "            \"title\": \"Gladiator Eroticvs: The Lesbian Warriors\", \n",
      "            \"video\": false, \n",
      "            \"vote_average\": 6.3, \n",
      "            \"vote_count\": 4\n",
      "        }, \n",
      "        {\n",
      "            \"adult\": false, \n",
      "            \"backdrop_path\": \"/qC4ltcD94iszowWjYPepvYJiTbH.jpg\", \n",
      "            \"genre_ids\": [\n",
      "                28\n",
      "            ], \n",
      "            \"id\": 62329, \n",
      "            \"original_language\": \"fr\", \n",
      "            \"original_title\": \"Shootfighter 2\", \n",
      "            \"overview\": \"In this martial-arts actioner, Miami mobsters find themselves in mortal danger after an angry police chief hires the world's most vicious fighters and uses them to launch a city-wide vendetta\", \n",
      "            \"popularity\": 1.032493, \n",
      "            \"poster_path\": \"/prv7g7CRjKUiVxNPAdEdZEds31d.jpg\", \n",
      "            \"release_date\": \"1996-08-27\", \n",
      "            \"title\": \"Shootfighter 2\", \n",
      "            \"video\": false, \n",
      "            \"vote_average\": 6, \n",
      "            \"vote_count\": 1\n",
      "        }, \n",
      "        {\n",
      "            \"adult\": false, \n",
      "            \"backdrop_path\": \"/s0KOtZZSOJr7PcHOvLrc3QVXJcw.jpg\", \n",
      "            \"genre_ids\": [\n",
      "                99\n",
      "            ], \n",
      "            \"id\": 145086, \n",
      "            \"original_language\": \"en\", \n",
      "            \"original_title\": \"Gladiator Days: Anatomy of a Prison Murder\", \n",
      "            \"overview\": \"Across the United States, violent crime in prison is an everyday reality, with inmates routinely exposed to assault, riot, rape and murder. Anatomy of a Prison Murder examines the culture of institutional violence through the events that led to one burtal prison murder. Utah State Prison surveillance cameras capture this disturbing real-life account of the vicious stabbing of black inmate Lonnie Blackmon by convicted murderer, white supremacist Troy Kell and his accomplice Eric Daniels.\", \n",
      "            \"popularity\": 1.001921, \n",
      "            \"poster_path\": \"/kEsLZodjCHdGXLKMiHCQz0Ko17b.jpg\", \n",
      "            \"release_date\": \"2002-03-10\", \n",
      "            \"title\": \"Gladiator Days: Anatomy of a Prison Murder\", \n",
      "            \"video\": false, \n",
      "            \"vote_average\": 6, \n",
      "            \"vote_count\": 1\n",
      "        }, \n",
      "        {\n",
      "            \"adult\": false, \n",
      "            \"backdrop_path\": null, \n",
      "            \"genre_ids\": [], \n",
      "            \"id\": 101045, \n",
      "            \"original_language\": \"de\", \n",
      "            \"original_title\": \"Held der Gladiatoren\", \n",
      "            \"overview\": \"Germanus, a brave gladiator, witnesses the brutal murder of his brother, committed by another fighter. Since then, he will become his worst enemy, with whom he will fight in several fights, each more bitter. One day, Germanus discovers that his sister, also gladiator, maintains a passionate affair with the man who killed the brother of both, without her knowing anything about the crime\", \n",
      "            \"popularity\": 1.010238, \n",
      "            \"poster_path\": \"/riALYx4Zi8CHLtNTTyQVg91PtQZ.jpg\", \n",
      "            \"release_date\": \"2003-10-26\", \n",
      "            \"title\": \"Held der Gladiatoren\", \n",
      "            \"video\": false, \n",
      "            \"vote_average\": 7, \n",
      "            \"vote_count\": 1\n",
      "        }\n",
      "    ], \n",
      "    \"total_pages\": 4, \n",
      "    \"total_results\": 73\n",
      "}\n"
     ]
    }
   ],
   "source": [
    "api_key = '9ec0c2e7850f575e7dcd37c195e45b69'\n",
    "favorite_movie = 'Gladiator'\n",
    "api_url = 'https://api.themoviedb.org/3/search/movie?api_key={0}&query={1}&page=1'.format(api_key, favorite_movie)\n",
    "response = requests.get(api_url)\n",
    "movies = json.loads(response.text)\n",
    "print json.dumps(movies, indent=4, sort_keys=True)"
   ]
  },
  {
   "cell_type": "markdown",
   "metadata": {
    "deletable": true,
    "editable": true
   },
   "source": [
    "### Get Favorite Movie Genre and Poster Path"
   ]
  },
  {
   "cell_type": "code",
   "execution_count": 22,
   "metadata": {
    "collapsed": false,
    "deletable": true,
    "editable": true
   },
   "outputs": [
    {
     "name": "stdout",
     "output_type": "stream",
     "text": [
      "Genres: [{u'id': 28, u'name': u'Action'}, {u'id': 18, u'name': u'Drama'}, {u'id': 12, u'name': u'Adventure'}]\n",
      "Poster Path: /6WBIzCgmDCYrqh64yDREGeDk9d3.jpg\n"
     ]
    }
   ],
   "source": [
    "favorite_movie_id = 98\n",
    "api_url = 'https://api.themoviedb.org/3/movie/{1}?api_key={0}'.format(api_key, favorite_movie_id)\n",
    "response = requests.get(api_url)\n",
    "tmdb_data = json.loads(response.text)\n",
    "print('Genres: ' + str(tmdb_data['genres']))\n",
    "print('Poster Path: ' + str(tmdb_data['poster_path']))"
   ]
  },
  {
   "cell_type": "markdown",
   "metadata": {
    "deletable": true,
    "editable": true
   },
   "source": [
    "### Genre from TMDB and IMDB"
   ]
  },
  {
   "cell_type": "code",
   "execution_count": 26,
   "metadata": {
    "collapsed": false,
    "deletable": true,
    "editable": true
   },
   "outputs": [
    {
     "name": "stdout",
     "output_type": "stream",
     "text": [
      "TMDB Genres:\n",
      "Action\n",
      "Drama\n",
      "Adventure\n",
      "\n",
      "IMDB Genres:\n",
      "Action\n",
      "Adventure\n",
      "Drama\n"
     ]
    }
   ],
   "source": [
    "print(\"TMDB Genres:\")\n",
    "for genre in tmdb_data['genres']:\n",
    "    print(genre['name'])\n",
    "\n",
    "# get IMDB data\n",
    "ia = IMDb()\n",
    "imdb_data = ia.get_movie(str(tmdb_data['imdb_id'])[2:])\n",
    "print(\"\\nIMDB Genres:\")\n",
    "for genre in imdb_data['genres']:\n",
    "    print(genre)"
   ]
  },
  {
   "cell_type": "markdown",
   "metadata": {
    "deletable": true,
    "editable": true
   },
   "source": [
    "# Popular Movies from TMDB"
   ]
  },
  {
   "cell_type": "markdown",
   "metadata": {
    "deletable": true,
    "editable": true
   },
   "source": [
    "### Get Popular Movies Data"
   ]
  },
  {
   "cell_type": "code",
   "execution_count": 13,
   "metadata": {
    "collapsed": false,
    "deletable": true,
    "editable": true
   },
   "outputs": [
    {
     "data": {
      "text/html": [
       "<div>\n",
       "<table border=\"1\" class=\"dataframe\">\n",
       "  <thead>\n",
       "    <tr style=\"text-align: right;\">\n",
       "      <th></th>\n",
       "      <th>adult</th>\n",
       "      <th>backdrop_path</th>\n",
       "      <th>genre_ids</th>\n",
       "      <th>id</th>\n",
       "      <th>original_language</th>\n",
       "      <th>original_title</th>\n",
       "      <th>overview</th>\n",
       "      <th>popularity</th>\n",
       "      <th>poster_path</th>\n",
       "      <th>release_date</th>\n",
       "      <th>title</th>\n",
       "      <th>video</th>\n",
       "      <th>vote_average</th>\n",
       "      <th>vote_count</th>\n",
       "    </tr>\n",
       "  </thead>\n",
       "  <tbody>\n",
       "    <tr>\n",
       "      <th>0</th>\n",
       "      <td>False</td>\n",
       "      <td>/6aUWe0GSl69wMTSWWexsorMIvwU.jpg</td>\n",
       "      <td>[14, 10402, 10749]</td>\n",
       "      <td>321612</td>\n",
       "      <td>en</td>\n",
       "      <td>Beauty and the Beast</td>\n",
       "      <td>A live-action adaptation of Disney's version o...</td>\n",
       "      <td>180.451320</td>\n",
       "      <td>/tWqifoYuwLETmmasnGHO7xBjEtt.jpg</td>\n",
       "      <td>2017-03-17</td>\n",
       "      <td>Beauty and the Beast</td>\n",
       "      <td>False</td>\n",
       "      <td>7.1</td>\n",
       "      <td>1246</td>\n",
       "    </tr>\n",
       "    <tr>\n",
       "      <th>1</th>\n",
       "      <td>False</td>\n",
       "      <td>/5pAGnkFYSsFJ99ZxDIYnhQbQFXs.jpg</td>\n",
       "      <td>[28, 18, 878]</td>\n",
       "      <td>263115</td>\n",
       "      <td>en</td>\n",
       "      <td>Logan</td>\n",
       "      <td>In the near future, a weary Logan cares for an...</td>\n",
       "      <td>117.369877</td>\n",
       "      <td>/45Y1G5FEgttPAwjTYic6czC9xCn.jpg</td>\n",
       "      <td>2017-02-28</td>\n",
       "      <td>Logan</td>\n",
       "      <td>False</td>\n",
       "      <td>7.6</td>\n",
       "      <td>2075</td>\n",
       "    </tr>\n",
       "    <tr>\n",
       "      <th>2</th>\n",
       "      <td>False</td>\n",
       "      <td>/fxDXp8un4qNY9b1dLd7SH6CKzC.jpg</td>\n",
       "      <td>[16, 35, 18, 10751, 10402]</td>\n",
       "      <td>335797</td>\n",
       "      <td>en</td>\n",
       "      <td>Sing</td>\n",
       "      <td>A koala named Buster recruits his best friend ...</td>\n",
       "      <td>80.989984</td>\n",
       "      <td>/s9ye87pvq2IaDvjv9x4IOXVjvA7.jpg</td>\n",
       "      <td>2016-11-23</td>\n",
       "      <td>Sing</td>\n",
       "      <td>False</td>\n",
       "      <td>6.7</td>\n",
       "      <td>1007</td>\n",
       "    </tr>\n",
       "    <tr>\n",
       "      <th>3</th>\n",
       "      <td>False</td>\n",
       "      <td>/pGwChWiAY1bdoxL79sXmaFBlYJH.jpg</td>\n",
       "      <td>[878, 28, 12, 14]</td>\n",
       "      <td>293167</td>\n",
       "      <td>en</td>\n",
       "      <td>Kong: Skull Island</td>\n",
       "      <td>Explore the mysterious and dangerous home of t...</td>\n",
       "      <td>61.933195</td>\n",
       "      <td>/aoUyphk4nwffrwlZRaOa0eijgpr.jpg</td>\n",
       "      <td>2017-03-08</td>\n",
       "      <td>Kong: Skull Island</td>\n",
       "      <td>False</td>\n",
       "      <td>6.1</td>\n",
       "      <td>876</td>\n",
       "    </tr>\n",
       "    <tr>\n",
       "      <th>4</th>\n",
       "      <td>False</td>\n",
       "      <td>/dkMD5qlogeRMiEixC4YNPUvax2T.jpg</td>\n",
       "      <td>[28, 12, 878, 53]</td>\n",
       "      <td>135397</td>\n",
       "      <td>en</td>\n",
       "      <td>Jurassic World</td>\n",
       "      <td>Twenty-two years after the events of Jurassic ...</td>\n",
       "      <td>51.976724</td>\n",
       "      <td>/jjBgi2r5cRt36xF6iNUEhzscEcb.jpg</td>\n",
       "      <td>2015-06-09</td>\n",
       "      <td>Jurassic World</td>\n",
       "      <td>False</td>\n",
       "      <td>6.5</td>\n",
       "      <td>6699</td>\n",
       "    </tr>\n",
       "  </tbody>\n",
       "</table>\n",
       "</div>"
      ],
      "text/plain": [
       "   adult                     backdrop_path                   genre_ids  \\\n",
       "0  False  /6aUWe0GSl69wMTSWWexsorMIvwU.jpg          [14, 10402, 10749]   \n",
       "1  False  /5pAGnkFYSsFJ99ZxDIYnhQbQFXs.jpg               [28, 18, 878]   \n",
       "2  False   /fxDXp8un4qNY9b1dLd7SH6CKzC.jpg  [16, 35, 18, 10751, 10402]   \n",
       "3  False  /pGwChWiAY1bdoxL79sXmaFBlYJH.jpg           [878, 28, 12, 14]   \n",
       "4  False  /dkMD5qlogeRMiEixC4YNPUvax2T.jpg           [28, 12, 878, 53]   \n",
       "\n",
       "       id original_language        original_title  \\\n",
       "0  321612                en  Beauty and the Beast   \n",
       "1  263115                en                 Logan   \n",
       "2  335797                en                  Sing   \n",
       "3  293167                en    Kong: Skull Island   \n",
       "4  135397                en        Jurassic World   \n",
       "\n",
       "                                            overview  popularity  \\\n",
       "0  A live-action adaptation of Disney's version o...  180.451320   \n",
       "1  In the near future, a weary Logan cares for an...  117.369877   \n",
       "2  A koala named Buster recruits his best friend ...   80.989984   \n",
       "3  Explore the mysterious and dangerous home of t...   61.933195   \n",
       "4  Twenty-two years after the events of Jurassic ...   51.976724   \n",
       "\n",
       "                        poster_path release_date                 title  video  \\\n",
       "0  /tWqifoYuwLETmmasnGHO7xBjEtt.jpg   2017-03-17  Beauty and the Beast  False   \n",
       "1  /45Y1G5FEgttPAwjTYic6czC9xCn.jpg   2017-02-28                 Logan  False   \n",
       "2  /s9ye87pvq2IaDvjv9x4IOXVjvA7.jpg   2016-11-23                  Sing  False   \n",
       "3  /aoUyphk4nwffrwlZRaOa0eijgpr.jpg   2017-03-08    Kong: Skull Island  False   \n",
       "4  /jjBgi2r5cRt36xF6iNUEhzscEcb.jpg   2015-06-09        Jurassic World  False   \n",
       "\n",
       "   vote_average  vote_count  \n",
       "0           7.1        1246  \n",
       "1           7.6        2075  \n",
       "2           6.7        1007  \n",
       "3           6.1         876  \n",
       "4           6.5        6699  "
      ]
     },
     "execution_count": 13,
     "metadata": {},
     "output_type": "execute_result"
    }
   ],
   "source": [
    "# loops through each page of popular movies in TMDB and adds it to a dataframe object\n",
    "df = []\n",
    "total_pages = range(1,976+1)\n",
    "for page in total_pages:\n",
    "    current_page = requests.get('https://api.themoviedb.org/3/movie/popular?api_key=ed5609930331aab76658f32439c5e5e5&language=en-US&page='+str(page))\n",
    "    sleep(0.25)\n",
    "    data = json.loads(current_page.text)\n",
    "    try:\n",
    "        for element in data['results']:\n",
    "            df.append(element)\n",
    "    except:\n",
    "        continue\n",
    "df = pd.DataFrame(df)\n",
    "df.head()"
   ]
  },
  {
   "cell_type": "code",
   "execution_count": 14,
   "metadata": {
    "collapsed": false,
    "deletable": true,
    "editable": true
   },
   "outputs": [
    {
     "data": {
      "text/plain": [
       "(19262, 14)"
      ]
     },
     "execution_count": 14,
     "metadata": {},
     "output_type": "execute_result"
    }
   ],
   "source": [
    "# get shape of dataframe\n",
    "df.shape"
   ]
  },
  {
   "cell_type": "code",
   "execution_count": 15,
   "metadata": {
    "collapsed": true,
    "deletable": true,
    "editable": true
   },
   "outputs": [],
   "source": [
    "# put columns that cannot be saved directly to csv into list\n",
    "columns_to_convert = ['overview', 'title', 'original_title']\n",
    "for column in columns_to_convert:\n",
    "    df[column] = df[column].apply(lambda x: [x])"
   ]
  },
  {
   "cell_type": "markdown",
   "metadata": {
    "deletable": true,
    "editable": true
   },
   "source": [
    "### View Top 10 Movies and Genres"
   ]
  },
  {
   "cell_type": "code",
   "execution_count": 57,
   "metadata": {
    "collapsed": true,
    "deletable": true,
    "editable": true
   },
   "outputs": [],
   "source": [
    "df = pd.read_csv('popular_movie_data_tmdb.csv')\n",
    "df_top_10 = df.iloc[:10]"
   ]
  },
  {
   "cell_type": "code",
   "execution_count": 66,
   "metadata": {
    "collapsed": false,
    "deletable": true,
    "editable": true
   },
   "outputs": [
    {
     "name": "stdout",
     "output_type": "stream",
     "text": [
      "Beauty and the Beast: ['Fantasy', 'Music', 'Romance']\n",
      "Logan: ['Action', 'Drama', 'Science Fiction']\n",
      "Sing: ['Animation', 'Comedy', 'Drama', 'Family', 'Music']\n",
      "Kong: Skull Island: ['Science Fiction', 'Action', 'Adventure', 'Fantasy']\n",
      "Jurassic World: ['Action', 'Adventure', 'Science Fiction', 'Thriller']\n",
      "Ghost in the Shell: ['Action', 'Drama', 'Science Fiction']\n",
      "Fantastic Beasts and Where to Find Them: ['Adventure', 'Action', 'Fantasy']\n",
      "The Boss Baby: ['Animation', 'Comedy', 'Family']\n",
      "Interstellar: ['Adventure', 'Drama', 'Science Fiction']\n",
      "Finding Dory: ['Adventure', 'Animation', 'Comedy', 'Family']\n"
     ]
    }
   ],
   "source": [
    "genre_id_map = {genre['id']:genre['name'] for genre in genre_ids['genres']}\n",
    "for i in range(10):\n",
    "    genres = [genre_id_map[genre_id] for genre_id in literal_eval(df_top_10.iloc[i]['genre_ids'])]\n",
    "    print(\"{0}: {1}\".format(literal_eval(df_top_10.iloc[i]['title'])[0], genres))"
   ]
  },
  {
   "cell_type": "markdown",
   "metadata": {
    "deletable": true,
    "editable": true
   },
   "source": [
    "# Challenges for Prediction"
   ]
  },
  {
   "cell_type": "markdown",
   "metadata": {
    "deletable": true,
    "editable": true
   },
   "source": [
    "**TBD by Tyler**"
   ]
  },
  {
   "cell_type": "markdown",
   "metadata": {
    "deletable": true,
    "editable": true
   },
   "source": [
    "# Movie Genre Pairs"
   ]
  },
  {
   "cell_type": "markdown",
   "metadata": {
    "deletable": true,
    "editable": true
   },
   "source": [
    "### Generate movie genre pairs"
   ]
  },
  {
   "cell_type": "code",
   "execution_count": 20,
   "metadata": {
    "collapsed": true,
    "deletable": true,
    "editable": true
   },
   "outputs": [],
   "source": [
    "# get list of genre ids\n",
    "col_ids = [genre['id'] for genre in genre_ids['genres']]"
   ]
  },
  {
   "cell_type": "code",
   "execution_count": 33,
   "metadata": {
    "collapsed": true,
    "deletable": true,
    "editable": true
   },
   "outputs": [],
   "source": [
    "# encode genre matrix if movie contains genre\n",
    "def movie_id_machine(genre_ids, columns):\n",
    "    new_row = []\n",
    "    for column in columns:\n",
    "        if column in genre_ids:\n",
    "            new_row.append(1)\n",
    "        else:\n",
    "            new_row.append(0)\n",
    "    return new_row"
   ]
  },
  {
   "cell_type": "code",
   "execution_count": 34,
   "metadata": {
    "collapsed": false,
    "deletable": true,
    "editable": true
   },
   "outputs": [],
   "source": [
    "# encode genre\n",
    "df['genre_encoding'] = df['genre_ids'].apply(lambda ids: movie_id_machine(ids, col_ids))"
   ]
  },
  {
   "cell_type": "code",
   "execution_count": 35,
   "metadata": {
    "collapsed": false,
    "deletable": true,
    "editable": true
   },
   "outputs": [
    {
     "data": {
      "text/plain": [
       "(19262, 20)"
      ]
     },
     "execution_count": 35,
     "metadata": {},
     "output_type": "execute_result"
    }
   ],
   "source": [
    "# create list of genre names\n",
    "col_names = [genre['name'] for genre in genre_ids['genres']]\n",
    "\n",
    "# create separate dataframe with genre encoding\n",
    "df_genres = pd.DataFrame(df['genre_encoding'].tolist(), columns = col_names)\n",
    "\n",
    "# add TMDB id to genre encoding dataframe\n",
    "df_genres['id'] = df['id']\n",
    "df_genres.shape"
   ]
  },
  {
   "cell_type": "code",
   "execution_count": 36,
   "metadata": {
    "collapsed": false,
    "deletable": true,
    "editable": true
   },
   "outputs": [
    {
     "data": {
      "text/html": [
       "<div>\n",
       "<table border=\"1\" class=\"dataframe\">\n",
       "  <thead>\n",
       "    <tr style=\"text-align: right;\">\n",
       "      <th></th>\n",
       "      <th>Action</th>\n",
       "      <th>Adventure</th>\n",
       "      <th>Animation</th>\n",
       "      <th>Comedy</th>\n",
       "      <th>Crime</th>\n",
       "      <th>Documentary</th>\n",
       "      <th>Drama</th>\n",
       "      <th>Family</th>\n",
       "      <th>Fantasy</th>\n",
       "      <th>History</th>\n",
       "      <th>Horror</th>\n",
       "      <th>Music</th>\n",
       "      <th>Mystery</th>\n",
       "      <th>Romance</th>\n",
       "      <th>Science Fiction</th>\n",
       "      <th>TV Movie</th>\n",
       "      <th>Thriller</th>\n",
       "      <th>War</th>\n",
       "      <th>Western</th>\n",
       "      <th>id</th>\n",
       "    </tr>\n",
       "  </thead>\n",
       "  <tbody>\n",
       "    <tr>\n",
       "      <th>0</th>\n",
       "      <td>0</td>\n",
       "      <td>0</td>\n",
       "      <td>0</td>\n",
       "      <td>0</td>\n",
       "      <td>0</td>\n",
       "      <td>0</td>\n",
       "      <td>0</td>\n",
       "      <td>0</td>\n",
       "      <td>1</td>\n",
       "      <td>0</td>\n",
       "      <td>0</td>\n",
       "      <td>1</td>\n",
       "      <td>0</td>\n",
       "      <td>1</td>\n",
       "      <td>0</td>\n",
       "      <td>0</td>\n",
       "      <td>0</td>\n",
       "      <td>0</td>\n",
       "      <td>0</td>\n",
       "      <td>321612</td>\n",
       "    </tr>\n",
       "    <tr>\n",
       "      <th>1</th>\n",
       "      <td>1</td>\n",
       "      <td>0</td>\n",
       "      <td>0</td>\n",
       "      <td>0</td>\n",
       "      <td>0</td>\n",
       "      <td>0</td>\n",
       "      <td>1</td>\n",
       "      <td>0</td>\n",
       "      <td>0</td>\n",
       "      <td>0</td>\n",
       "      <td>0</td>\n",
       "      <td>0</td>\n",
       "      <td>0</td>\n",
       "      <td>0</td>\n",
       "      <td>1</td>\n",
       "      <td>0</td>\n",
       "      <td>0</td>\n",
       "      <td>0</td>\n",
       "      <td>0</td>\n",
       "      <td>263115</td>\n",
       "    </tr>\n",
       "    <tr>\n",
       "      <th>2</th>\n",
       "      <td>0</td>\n",
       "      <td>0</td>\n",
       "      <td>1</td>\n",
       "      <td>1</td>\n",
       "      <td>0</td>\n",
       "      <td>0</td>\n",
       "      <td>1</td>\n",
       "      <td>1</td>\n",
       "      <td>0</td>\n",
       "      <td>0</td>\n",
       "      <td>0</td>\n",
       "      <td>1</td>\n",
       "      <td>0</td>\n",
       "      <td>0</td>\n",
       "      <td>0</td>\n",
       "      <td>0</td>\n",
       "      <td>0</td>\n",
       "      <td>0</td>\n",
       "      <td>0</td>\n",
       "      <td>335797</td>\n",
       "    </tr>\n",
       "    <tr>\n",
       "      <th>3</th>\n",
       "      <td>1</td>\n",
       "      <td>1</td>\n",
       "      <td>0</td>\n",
       "      <td>0</td>\n",
       "      <td>0</td>\n",
       "      <td>0</td>\n",
       "      <td>0</td>\n",
       "      <td>0</td>\n",
       "      <td>1</td>\n",
       "      <td>0</td>\n",
       "      <td>0</td>\n",
       "      <td>0</td>\n",
       "      <td>0</td>\n",
       "      <td>0</td>\n",
       "      <td>1</td>\n",
       "      <td>0</td>\n",
       "      <td>0</td>\n",
       "      <td>0</td>\n",
       "      <td>0</td>\n",
       "      <td>293167</td>\n",
       "    </tr>\n",
       "    <tr>\n",
       "      <th>4</th>\n",
       "      <td>1</td>\n",
       "      <td>1</td>\n",
       "      <td>0</td>\n",
       "      <td>0</td>\n",
       "      <td>0</td>\n",
       "      <td>0</td>\n",
       "      <td>0</td>\n",
       "      <td>0</td>\n",
       "      <td>0</td>\n",
       "      <td>0</td>\n",
       "      <td>0</td>\n",
       "      <td>0</td>\n",
       "      <td>0</td>\n",
       "      <td>0</td>\n",
       "      <td>1</td>\n",
       "      <td>0</td>\n",
       "      <td>1</td>\n",
       "      <td>0</td>\n",
       "      <td>0</td>\n",
       "      <td>135397</td>\n",
       "    </tr>\n",
       "  </tbody>\n",
       "</table>\n",
       "</div>"
      ],
      "text/plain": [
       "   Action  Adventure  Animation  Comedy  Crime  Documentary  Drama  Family  \\\n",
       "0       0          0          0       0      0            0      0       0   \n",
       "1       1          0          0       0      0            0      1       0   \n",
       "2       0          0          1       1      0            0      1       1   \n",
       "3       1          1          0       0      0            0      0       0   \n",
       "4       1          1          0       0      0            0      0       0   \n",
       "\n",
       "   Fantasy  History  Horror  Music  Mystery  Romance  Science Fiction  \\\n",
       "0        1        0       0      1        0        1                0   \n",
       "1        0        0       0      0        0        0                1   \n",
       "2        0        0       0      1        0        0                0   \n",
       "3        1        0       0      0        0        0                1   \n",
       "4        0        0       0      0        0        0                1   \n",
       "\n",
       "   TV Movie  Thriller  War  Western      id  \n",
       "0         0         0    0        0  321612  \n",
       "1         0         0    0        0  263115  \n",
       "2         0         0    0        0  335797  \n",
       "3         0         0    0        0  293167  \n",
       "4         0         1    0        0  135397  "
      ]
     },
     "execution_count": 36,
     "metadata": {},
     "output_type": "execute_result"
    }
   ],
   "source": [
    "df_genres.head()"
   ]
  },
  {
   "cell_type": "markdown",
   "metadata": {
    "deletable": true,
    "editable": true
   },
   "source": [
    "### Genre Pairs Visualization"
   ]
  },
  {
   "cell_type": "code",
   "execution_count": 68,
   "metadata": {
    "collapsed": false,
    "deletable": true,
    "editable": true
   },
   "outputs": [
    {
     "data": {
      "text/html": [
       "<div class='tableauPlaceholder' id='viz1491394078709' style='position: relative'><noscript><a href='#'><img alt='Dashboard 1 ' src='https:&#47;&#47;public.tableau.com&#47;static&#47;images&#47;cs&#47;cs109b_genre_raw_total&#47;Dashboard1&#47;1_rss.png' style='border: none' /></a></noscript><object class='tableauViz'  style='display:none;'><param name='host_url' value='https%3A%2F%2Fpublic.tableau.com%2F' /> <param name='site_root' value='' /><param name='name' value='cs109b_genre_raw_total&#47;Dashboard1' /><param name='tabs' value='no' /><param name='toolbar' value='yes' /><param name='static_image' value='https:&#47;&#47;public.tableau.com&#47;static&#47;images&#47;cs&#47;cs109b_genre_raw_total&#47;Dashboard1&#47;1.png' /> <param name='animate_transition' value='yes' /><param name='display_static_image' value='yes' /><param name='display_spinner' value='yes' /><param name='display_overlay' value='yes' /><param name='display_count' value='yes' /></object></div>                <script type='text/javascript'>                    var divElement = document.getElementById('viz1491394078709');                    var vizElement = divElement.getElementsByTagName('object')[0];                    vizElement.style.width='1004px';vizElement.style.height='869px';                    var scriptElement = document.createElement('script');                    scriptElement.src = 'https://public.tableau.com/javascripts/api/viz_v1.js';                    vizElement.parentNode.insertBefore(scriptElement, vizElement);                </script>"
      ],
      "text/plain": [
       "<IPython.core.display.HTML object>"
      ]
     },
     "metadata": {},
     "output_type": "display_data"
    }
   ],
   "source": [
    "%%HTML\n",
    "<div class='tableauPlaceholder' id='viz1491394078709' style='position: relative'><noscript><a href='#'><img alt='Dashboard 1 ' src='https:&#47;&#47;public.tableau.com&#47;static&#47;images&#47;cs&#47;cs109b_genre_raw_total&#47;Dashboard1&#47;1_rss.png' style='border: none' /></a></noscript><object class='tableauViz'  style='display:none;'><param name='host_url' value='https%3A%2F%2Fpublic.tableau.com%2F' /> <param name='site_root' value='' /><param name='name' value='cs109b_genre_raw_total&#47;Dashboard1' /><param name='tabs' value='no' /><param name='toolbar' value='yes' /><param name='static_image' value='https:&#47;&#47;public.tableau.com&#47;static&#47;images&#47;cs&#47;cs109b_genre_raw_total&#47;Dashboard1&#47;1.png' /> <param name='animate_transition' value='yes' /><param name='display_static_image' value='yes' /><param name='display_spinner' value='yes' /><param name='display_overlay' value='yes' /><param name='display_count' value='yes' /></object></div>                <script type='text/javascript'>                    var divElement = document.getElementById('viz1491394078709');                    var vizElement = divElement.getElementsByTagName('object')[0];                    vizElement.style.width='1004px';vizElement.style.height='869px';                    var scriptElement = document.createElement('script');                    scriptElement.src = 'https://public.tableau.com/javascripts/api/viz_v1.js';                    vizElement.parentNode.insertBefore(scriptElement, vizElement);                </script>"
   ]
  },
  {
   "cell_type": "markdown",
   "metadata": {
    "deletable": true,
    "editable": true
   },
   "source": [
    "# Additional Visualization and EDA"
   ]
  },
  {
   "cell_type": "code",
   "execution_count": 69,
   "metadata": {
    "collapsed": false,
    "deletable": true,
    "editable": true
   },
   "outputs": [
    {
     "data": {
      "text/html": [
       "<div class='tableauPlaceholder' id='viz1491392940635' style='position: relative'><noscript><a href='#'><img alt='Dashboard 1 ' src='https:&#47;&#47;public.tableau.com&#47;static&#47;images&#47;cs&#47;cs109b_genre_proportion&#47;Dashboard1&#47;1_rss.png' style='border: none' /></a></noscript><object class='tableauViz'  style='display:none;'><param name='host_url' value='https%3A%2F%2Fpublic.tableau.com%2F' /> <param name='site_root' value='' /><param name='name' value='cs109b_genre_proportion&#47;Dashboard1' /><param name='tabs' value='no' /><param name='toolbar' value='yes' /><param name='static_image' value='https:&#47;&#47;public.tableau.com&#47;static&#47;images&#47;cs&#47;cs109b_genre_proportion&#47;Dashboard1&#47;1.png' /> <param name='animate_transition' value='yes' /><param name='display_static_image' value='yes' /><param name='display_spinner' value='yes' /><param name='display_overlay' value='yes' /><param name='display_count' value='yes' /></object></div>                <script type='text/javascript'>                    var divElement = document.getElementById('viz1491392940635');                    var vizElement = divElement.getElementsByTagName('object')[0];                    vizElement.style.width='1004px';vizElement.style.height='869px';                    var scriptElement = document.createElement('script');                    scriptElement.src = 'https://public.tableau.com/javascripts/api/viz_v1.js';                    vizElement.parentNode.insertBefore(scriptElement, vizElement);                </script>"
      ],
      "text/plain": [
       "<IPython.core.display.HTML object>"
      ]
     },
     "metadata": {},
     "output_type": "display_data"
    }
   ],
   "source": [
    "%%HTML\n",
    "<div class='tableauPlaceholder' id='viz1491392940635' style='position: relative'><noscript><a href='#'><img alt='Dashboard 1 ' src='https:&#47;&#47;public.tableau.com&#47;static&#47;images&#47;cs&#47;cs109b_genre_proportion&#47;Dashboard1&#47;1_rss.png' style='border: none' /></a></noscript><object class='tableauViz'  style='display:none;'><param name='host_url' value='https%3A%2F%2Fpublic.tableau.com%2F' /> <param name='site_root' value='' /><param name='name' value='cs109b_genre_proportion&#47;Dashboard1' /><param name='tabs' value='no' /><param name='toolbar' value='yes' /><param name='static_image' value='https:&#47;&#47;public.tableau.com&#47;static&#47;images&#47;cs&#47;cs109b_genre_proportion&#47;Dashboard1&#47;1.png' /> <param name='animate_transition' value='yes' /><param name='display_static_image' value='yes' /><param name='display_spinner' value='yes' /><param name='display_overlay' value='yes' /><param name='display_count' value='yes' /></object></div>                <script type='text/javascript'>                    var divElement = document.getElementById('viz1491392940635');                    var vizElement = divElement.getElementsByTagName('object')[0];                    vizElement.style.width='1004px';vizElement.style.height='869px';                    var scriptElement = document.createElement('script');                    scriptElement.src = 'https://public.tableau.com/javascripts/api/viz_v1.js';                    vizElement.parentNode.insertBefore(scriptElement, vizElement);                </script>"
   ]
  },
  {
   "cell_type": "markdown",
   "metadata": {
    "deletable": true,
    "editable": true
   },
   "source": [
    "# Question List"
   ]
  },
  {
   "cell_type": "markdown",
   "metadata": {
    "deletable": true,
    "editable": true
   },
   "source": [
    "1. Is there a relationship between cast size and genre?\n",
    "2. Is there a relationship between overview text and genre?"
   ]
  }
 ],
 "metadata": {
  "kernelspec": {
   "display_name": "Python 2",
   "language": "python",
   "name": "python2"
  },
  "language_info": {
   "codemirror_mode": {
    "name": "ipython",
    "version": 2
   },
   "file_extension": ".py",
   "mimetype": "text/x-python",
   "name": "python",
   "nbconvert_exporter": "python",
   "pygments_lexer": "ipython2",
   "version": "2.7.12"
  }
 },
 "nbformat": 4,
 "nbformat_minor": 0
}
