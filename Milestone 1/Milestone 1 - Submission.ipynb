{
 "cells": [
  {
   "cell_type": "markdown",
   "metadata": {},
   "source": [
    "# Libraries and Helper Functions / Objects"
   ]
  },
  {
   "cell_type": "code",
   "execution_count": 39,
   "metadata": {
    "collapsed": false
   },
   "outputs": [],
   "source": [
    "import pandas as pd\n",
    "import requests\n",
    "import json\n",
    "import numpy as np\n",
    "from time import sleep\n",
    "from ast import literal_eval\n",
    "from imdb import IMDb"
   ]
  },
  {
   "cell_type": "code",
   "execution_count": 19,
   "metadata": {
    "collapsed": true
   },
   "outputs": [],
   "source": [
    "# json object of tmbd genre ids\n",
    "genre_ids= {\n",
    "  \"genres\": [\n",
    "    {\n",
    "      \"id\": 28,\n",
    "      \"name\": \"Action\"\n",
    "    },\n",
    "    {\n",
    "      \"id\": 12,\n",
    "      \"name\": \"Adventure\"\n",
    "    },\n",
    "    {\n",
    "      \"id\": 16,\n",
    "      \"name\": \"Animation\"\n",
    "    },\n",
    "    {\n",
    "      \"id\": 35,\n",
    "      \"name\": \"Comedy\"\n",
    "    },\n",
    "    {\n",
    "      \"id\": 80,\n",
    "      \"name\": \"Crime\"\n",
    "    },\n",
    "    {\n",
    "      \"id\": 99,\n",
    "      \"name\": \"Documentary\"\n",
    "    },\n",
    "    {\n",
    "      \"id\": 18,\n",
    "      \"name\": \"Drama\"\n",
    "    },\n",
    "    {\n",
    "      \"id\": 10751,\n",
    "      \"name\": \"Family\"\n",
    "    },\n",
    "    {\n",
    "      \"id\": 14,\n",
    "      \"name\": \"Fantasy\"\n",
    "    },\n",
    "    {\n",
    "      \"id\": 36,\n",
    "      \"name\": \"History\"\n",
    "    },\n",
    "    {\n",
    "      \"id\": 27,\n",
    "      \"name\": \"Horror\"\n",
    "    },\n",
    "    {\n",
    "      \"id\": 10402,\n",
    "      \"name\": \"Music\"\n",
    "    },\n",
    "    {\n",
    "      \"id\": 9648,\n",
    "      \"name\": \"Mystery\"\n",
    "    },\n",
    "    {\n",
    "      \"id\": 10749,\n",
    "      \"name\": \"Romance\"\n",
    "    },\n",
    "    {\n",
    "      \"id\": 878,\n",
    "      \"name\": \"Science Fiction\"\n",
    "    },\n",
    "    {\n",
    "      \"id\": 10770,\n",
    "      \"name\": \"TV Movie\"\n",
    "    },\n",
    "    {\n",
    "      \"id\": 53,\n",
    "      \"name\": \"Thriller\"\n",
    "    },\n",
    "    {\n",
    "      \"id\": 10752,\n",
    "      \"name\": \"War\"\n",
    "    },\n",
    "    {\n",
    "      \"id\": 37,\n",
    "      \"name\": \"Western\"\n",
    "    }\n",
    "  ]\n",
    "}"
   ]
  },
  {
   "cell_type": "markdown",
   "metadata": {},
   "source": [
    "# Favorite Movie Information"
   ]
  },
  {
   "cell_type": "markdown",
   "metadata": {},
   "source": [
    "### Get Favorite Movie ID"
   ]
  },
  {
   "cell_type": "code",
   "execution_count": 42,
   "metadata": {
    "collapsed": false
   },
   "outputs": [
    {
     "name": "stdout",
     "output_type": "stream",
     "text": [
      "{\"page\":1,\"results\":[{\"id\":14559,\"logo_path\":null,\"name\":\"Gladiator Productions\"},{\"id\":69280,\"logo_path\":null,\"name\":\"Gladiator Film\"},{\"id\":74560,\"logo_path\":null,\"name\":\"Films Internazionali Artistici (FIA) / Gladiator Film\"}],\"total_pages\":1,\"total_results\":3}\n"
     ]
    }
   ],
   "source": [
    "api_key = '9ec0c2e7850f575e7dcd37c195e45b69'\n",
    "favorite_movie = 'Gladiator'\n",
    "api_url = 'https://api.themoviedb.org/3/search/company?api_key={0}&query={1}&page=1'.format(api_key, favorite_movie)\n",
    "response = requests.get(api_url)\n",
    "print(response.text)"
   ]
  },
  {
   "cell_type": "markdown",
   "metadata": {},
   "source": [
    "### Get Favorite Movie Genre and Poster Path"
   ]
  },
  {
   "cell_type": "code",
   "execution_count": 46,
   "metadata": {
    "collapsed": false
   },
   "outputs": [
    {
     "name": "stdout",
     "output_type": "stream",
     "text": [
      "Genres: [{u'id': 53, u'name': u'Thriller'}, {u'id': 18, u'name': u'Drama'}, {u'id': 27, u'name': u'Horror'}]\n",
      "Poster Path: /y8292lRPCc3NsnxHakY8upvciCI.jpg\n"
     ]
    }
   ],
   "source": [
    "favorite_movie_id = 74560\n",
    "api_url = 'https://api.themoviedb.org/3/movie/{1}?api_key={0}'.format(api_key, favorite_movie_id)\n",
    "response = requests.get(api_url)\n",
    "tmdb_data = json.loads(response.text)\n",
    "print('Genres: ' + str(tmdb_data['genres']))\n",
    "print('Poster Path: ' + str(tmdb_data['poster_path']))"
   ]
  },
  {
   "cell_type": "markdown",
   "metadata": {},
   "source": [
    "### Genre from TMDB and IMDB"
   ]
  },
  {
   "cell_type": "code",
   "execution_count": 48,
   "metadata": {
    "collapsed": false
   },
   "outputs": [
    {
     "name": "stdout",
     "output_type": "stream",
     "text": [
      "TMDB Genres:\n",
      "Thriller\n",
      "Drama\n",
      "Horror\n"
     ]
    }
   ],
   "source": [
    "print(\"TMDB Genres:\")\n",
    "for genre in tmdb_data['genres']:\n",
    "    print(genre['name'])\n",
    "\n",
    "# get IMDB data\n",
    "ia = IMDb()\n",
    "imdb_data = ia.get_movie(str(tmdb_data['imdb_id'])[2:])"
   ]
  },
  {
   "cell_type": "markdown",
   "metadata": {},
   "source": [
    "# Popular Movies from TMDB"
   ]
  },
  {
   "cell_type": "markdown",
   "metadata": {},
   "source": [
    "### Get Popular Movies Data"
   ]
  },
  {
   "cell_type": "code",
   "execution_count": 13,
   "metadata": {
    "collapsed": false
   },
   "outputs": [
    {
     "data": {
      "text/html": [
       "<div>\n",
       "<table border=\"1\" class=\"dataframe\">\n",
       "  <thead>\n",
       "    <tr style=\"text-align: right;\">\n",
       "      <th></th>\n",
       "      <th>adult</th>\n",
       "      <th>backdrop_path</th>\n",
       "      <th>genre_ids</th>\n",
       "      <th>id</th>\n",
       "      <th>original_language</th>\n",
       "      <th>original_title</th>\n",
       "      <th>overview</th>\n",
       "      <th>popularity</th>\n",
       "      <th>poster_path</th>\n",
       "      <th>release_date</th>\n",
       "      <th>title</th>\n",
       "      <th>video</th>\n",
       "      <th>vote_average</th>\n",
       "      <th>vote_count</th>\n",
       "    </tr>\n",
       "  </thead>\n",
       "  <tbody>\n",
       "    <tr>\n",
       "      <th>0</th>\n",
       "      <td>False</td>\n",
       "      <td>/6aUWe0GSl69wMTSWWexsorMIvwU.jpg</td>\n",
       "      <td>[14, 10402, 10749]</td>\n",
       "      <td>321612</td>\n",
       "      <td>en</td>\n",
       "      <td>Beauty and the Beast</td>\n",
       "      <td>A live-action adaptation of Disney's version o...</td>\n",
       "      <td>180.451320</td>\n",
       "      <td>/tWqifoYuwLETmmasnGHO7xBjEtt.jpg</td>\n",
       "      <td>2017-03-17</td>\n",
       "      <td>Beauty and the Beast</td>\n",
       "      <td>False</td>\n",
       "      <td>7.1</td>\n",
       "      <td>1246</td>\n",
       "    </tr>\n",
       "    <tr>\n",
       "      <th>1</th>\n",
       "      <td>False</td>\n",
       "      <td>/5pAGnkFYSsFJ99ZxDIYnhQbQFXs.jpg</td>\n",
       "      <td>[28, 18, 878]</td>\n",
       "      <td>263115</td>\n",
       "      <td>en</td>\n",
       "      <td>Logan</td>\n",
       "      <td>In the near future, a weary Logan cares for an...</td>\n",
       "      <td>117.369877</td>\n",
       "      <td>/45Y1G5FEgttPAwjTYic6czC9xCn.jpg</td>\n",
       "      <td>2017-02-28</td>\n",
       "      <td>Logan</td>\n",
       "      <td>False</td>\n",
       "      <td>7.6</td>\n",
       "      <td>2075</td>\n",
       "    </tr>\n",
       "    <tr>\n",
       "      <th>2</th>\n",
       "      <td>False</td>\n",
       "      <td>/fxDXp8un4qNY9b1dLd7SH6CKzC.jpg</td>\n",
       "      <td>[16, 35, 18, 10751, 10402]</td>\n",
       "      <td>335797</td>\n",
       "      <td>en</td>\n",
       "      <td>Sing</td>\n",
       "      <td>A koala named Buster recruits his best friend ...</td>\n",
       "      <td>80.989984</td>\n",
       "      <td>/s9ye87pvq2IaDvjv9x4IOXVjvA7.jpg</td>\n",
       "      <td>2016-11-23</td>\n",
       "      <td>Sing</td>\n",
       "      <td>False</td>\n",
       "      <td>6.7</td>\n",
       "      <td>1007</td>\n",
       "    </tr>\n",
       "    <tr>\n",
       "      <th>3</th>\n",
       "      <td>False</td>\n",
       "      <td>/pGwChWiAY1bdoxL79sXmaFBlYJH.jpg</td>\n",
       "      <td>[878, 28, 12, 14]</td>\n",
       "      <td>293167</td>\n",
       "      <td>en</td>\n",
       "      <td>Kong: Skull Island</td>\n",
       "      <td>Explore the mysterious and dangerous home of t...</td>\n",
       "      <td>61.933195</td>\n",
       "      <td>/aoUyphk4nwffrwlZRaOa0eijgpr.jpg</td>\n",
       "      <td>2017-03-08</td>\n",
       "      <td>Kong: Skull Island</td>\n",
       "      <td>False</td>\n",
       "      <td>6.1</td>\n",
       "      <td>876</td>\n",
       "    </tr>\n",
       "    <tr>\n",
       "      <th>4</th>\n",
       "      <td>False</td>\n",
       "      <td>/dkMD5qlogeRMiEixC4YNPUvax2T.jpg</td>\n",
       "      <td>[28, 12, 878, 53]</td>\n",
       "      <td>135397</td>\n",
       "      <td>en</td>\n",
       "      <td>Jurassic World</td>\n",
       "      <td>Twenty-two years after the events of Jurassic ...</td>\n",
       "      <td>51.976724</td>\n",
       "      <td>/jjBgi2r5cRt36xF6iNUEhzscEcb.jpg</td>\n",
       "      <td>2015-06-09</td>\n",
       "      <td>Jurassic World</td>\n",
       "      <td>False</td>\n",
       "      <td>6.5</td>\n",
       "      <td>6699</td>\n",
       "    </tr>\n",
       "  </tbody>\n",
       "</table>\n",
       "</div>"
      ],
      "text/plain": [
       "   adult                     backdrop_path                   genre_ids  \\\n",
       "0  False  /6aUWe0GSl69wMTSWWexsorMIvwU.jpg          [14, 10402, 10749]   \n",
       "1  False  /5pAGnkFYSsFJ99ZxDIYnhQbQFXs.jpg               [28, 18, 878]   \n",
       "2  False   /fxDXp8un4qNY9b1dLd7SH6CKzC.jpg  [16, 35, 18, 10751, 10402]   \n",
       "3  False  /pGwChWiAY1bdoxL79sXmaFBlYJH.jpg           [878, 28, 12, 14]   \n",
       "4  False  /dkMD5qlogeRMiEixC4YNPUvax2T.jpg           [28, 12, 878, 53]   \n",
       "\n",
       "       id original_language        original_title  \\\n",
       "0  321612                en  Beauty and the Beast   \n",
       "1  263115                en                 Logan   \n",
       "2  335797                en                  Sing   \n",
       "3  293167                en    Kong: Skull Island   \n",
       "4  135397                en        Jurassic World   \n",
       "\n",
       "                                            overview  popularity  \\\n",
       "0  A live-action adaptation of Disney's version o...  180.451320   \n",
       "1  In the near future, a weary Logan cares for an...  117.369877   \n",
       "2  A koala named Buster recruits his best friend ...   80.989984   \n",
       "3  Explore the mysterious and dangerous home of t...   61.933195   \n",
       "4  Twenty-two years after the events of Jurassic ...   51.976724   \n",
       "\n",
       "                        poster_path release_date                 title  video  \\\n",
       "0  /tWqifoYuwLETmmasnGHO7xBjEtt.jpg   2017-03-17  Beauty and the Beast  False   \n",
       "1  /45Y1G5FEgttPAwjTYic6czC9xCn.jpg   2017-02-28                 Logan  False   \n",
       "2  /s9ye87pvq2IaDvjv9x4IOXVjvA7.jpg   2016-11-23                  Sing  False   \n",
       "3  /aoUyphk4nwffrwlZRaOa0eijgpr.jpg   2017-03-08    Kong: Skull Island  False   \n",
       "4  /jjBgi2r5cRt36xF6iNUEhzscEcb.jpg   2015-06-09        Jurassic World  False   \n",
       "\n",
       "   vote_average  vote_count  \n",
       "0           7.1        1246  \n",
       "1           7.6        2075  \n",
       "2           6.7        1007  \n",
       "3           6.1         876  \n",
       "4           6.5        6699  "
      ]
     },
     "execution_count": 13,
     "metadata": {},
     "output_type": "execute_result"
    }
   ],
   "source": [
    "# loops through each page of popular movies in TMDB and adds it to a dataframe object\n",
    "df = []\n",
    "total_pages = range(1,976+1)\n",
    "for page in total_pages:\n",
    "    current_page = requests.get('https://api.themoviedb.org/3/movie/popular?api_key=ed5609930331aab76658f32439c5e5e5&language=en-US&page='+str(page))\n",
    "    sleep(0.25)\n",
    "    data = json.loads(current_page.text)\n",
    "    try:\n",
    "        for element in data['results']:\n",
    "            df.append(element)\n",
    "    except:\n",
    "        continue\n",
    "df = pd.DataFrame(df)\n",
    "df.head()"
   ]
  },
  {
   "cell_type": "code",
   "execution_count": 14,
   "metadata": {
    "collapsed": false
   },
   "outputs": [
    {
     "data": {
      "text/plain": [
       "(19262, 14)"
      ]
     },
     "execution_count": 14,
     "metadata": {},
     "output_type": "execute_result"
    }
   ],
   "source": [
    "# get shape of dataframe\n",
    "df.shape"
   ]
  },
  {
   "cell_type": "code",
   "execution_count": 15,
   "metadata": {
    "collapsed": true
   },
   "outputs": [],
   "source": [
    "# put columns that cannot be saved directly to csv into list\n",
    "columns_to_convert = ['overview', 'title', 'original_title']\n",
    "for column in columns_to_convert:\n",
    "    df[column] = df[column].apply(lambda x: [x])"
   ]
  },
  {
   "cell_type": "markdown",
   "metadata": {},
   "source": [
    "### View Top 10 Movies and Genres"
   ]
  },
  {
   "cell_type": "code",
   "execution_count": 57,
   "metadata": {
    "collapsed": true
   },
   "outputs": [],
   "source": [
    "df = pd.read_csv('popular_movie_data_tmdb.csv')\n",
    "df_top_10 = df.iloc[:10]"
   ]
  },
  {
   "cell_type": "code",
   "execution_count": 66,
   "metadata": {
    "collapsed": false
   },
   "outputs": [
    {
     "name": "stdout",
     "output_type": "stream",
     "text": [
      "Beauty and the Beast: ['Fantasy', 'Music', 'Romance']\n",
      "Logan: ['Action', 'Drama', 'Science Fiction']\n",
      "Sing: ['Animation', 'Comedy', 'Drama', 'Family', 'Music']\n",
      "Kong: Skull Island: ['Science Fiction', 'Action', 'Adventure', 'Fantasy']\n",
      "Jurassic World: ['Action', 'Adventure', 'Science Fiction', 'Thriller']\n",
      "Ghost in the Shell: ['Action', 'Drama', 'Science Fiction']\n",
      "Fantastic Beasts and Where to Find Them: ['Adventure', 'Action', 'Fantasy']\n",
      "The Boss Baby: ['Animation', 'Comedy', 'Family']\n",
      "Interstellar: ['Adventure', 'Drama', 'Science Fiction']\n",
      "Finding Dory: ['Adventure', 'Animation', 'Comedy', 'Family']\n"
     ]
    }
   ],
   "source": [
    "genre_id_map = {genre['id']:genre['name'] for genre in genre_ids['genres']}\n",
    "for i in range(10):\n",
    "    genres = [genre_id_map[genre_id] for genre_id in literal_eval(df_top_10.iloc[i]['genre_ids'])]\n",
    "    print(\"{0}: {1}\".format(literal_eval(df_top_10.iloc[i]['title'])[0], genres))"
   ]
  },
  {
   "cell_type": "markdown",
   "metadata": {},
   "source": [
    "# Challenges for Prediction"
   ]
  },
  {
   "cell_type": "markdown",
   "metadata": {},
   "source": [
    "**TBD by Tyler**"
   ]
  },
  {
   "cell_type": "markdown",
   "metadata": {},
   "source": [
    "# Movie Genre Pairs"
   ]
  },
  {
   "cell_type": "markdown",
   "metadata": {},
   "source": [
    "### Generate movie genre pairs"
   ]
  },
  {
   "cell_type": "code",
   "execution_count": 20,
   "metadata": {
    "collapsed": true
   },
   "outputs": [],
   "source": [
    "# get list of genre ids\n",
    "col_ids = [genre['id'] for genre in genre_ids['genres']]"
   ]
  },
  {
   "cell_type": "code",
   "execution_count": 33,
   "metadata": {
    "collapsed": true
   },
   "outputs": [],
   "source": [
    "# encode genre matrix if movie contains genre\n",
    "def movie_id_machine(genre_ids, columns):\n",
    "    new_row = []\n",
    "    for column in columns:\n",
    "        if column in genre_ids:\n",
    "            new_row.append(1)\n",
    "        else:\n",
    "            new_row.append(0)\n",
    "    return new_row"
   ]
  },
  {
   "cell_type": "code",
   "execution_count": 34,
   "metadata": {
    "collapsed": false
   },
   "outputs": [],
   "source": [
    "# encode genre\n",
    "df['genre_encoding'] = df['genre_ids'].apply(lambda ids: movie_id_machine(ids, col_ids))"
   ]
  },
  {
   "cell_type": "code",
   "execution_count": 35,
   "metadata": {
    "collapsed": false
   },
   "outputs": [
    {
     "data": {
      "text/plain": [
       "(19262, 20)"
      ]
     },
     "execution_count": 35,
     "metadata": {},
     "output_type": "execute_result"
    }
   ],
   "source": [
    "# create list of genre names\n",
    "col_names = [genre['name'] for genre in genre_ids['genres']]\n",
    "\n",
    "# create separate dataframe with genre encoding\n",
    "df_genres = pd.DataFrame(df['genre_encoding'].tolist(), columns = col_names)\n",
    "\n",
    "# add TMDB id to genre encoding dataframe\n",
    "df_genres['id'] = df['id']\n",
    "df_genres.shape"
   ]
  },
  {
   "cell_type": "code",
   "execution_count": 36,
   "metadata": {
    "collapsed": false
   },
   "outputs": [
    {
     "data": {
      "text/html": [
       "<div>\n",
       "<table border=\"1\" class=\"dataframe\">\n",
       "  <thead>\n",
       "    <tr style=\"text-align: right;\">\n",
       "      <th></th>\n",
       "      <th>Action</th>\n",
       "      <th>Adventure</th>\n",
       "      <th>Animation</th>\n",
       "      <th>Comedy</th>\n",
       "      <th>Crime</th>\n",
       "      <th>Documentary</th>\n",
       "      <th>Drama</th>\n",
       "      <th>Family</th>\n",
       "      <th>Fantasy</th>\n",
       "      <th>History</th>\n",
       "      <th>Horror</th>\n",
       "      <th>Music</th>\n",
       "      <th>Mystery</th>\n",
       "      <th>Romance</th>\n",
       "      <th>Science Fiction</th>\n",
       "      <th>TV Movie</th>\n",
       "      <th>Thriller</th>\n",
       "      <th>War</th>\n",
       "      <th>Western</th>\n",
       "      <th>id</th>\n",
       "    </tr>\n",
       "  </thead>\n",
       "  <tbody>\n",
       "    <tr>\n",
       "      <th>0</th>\n",
       "      <td>0</td>\n",
       "      <td>0</td>\n",
       "      <td>0</td>\n",
       "      <td>0</td>\n",
       "      <td>0</td>\n",
       "      <td>0</td>\n",
       "      <td>0</td>\n",
       "      <td>0</td>\n",
       "      <td>1</td>\n",
       "      <td>0</td>\n",
       "      <td>0</td>\n",
       "      <td>1</td>\n",
       "      <td>0</td>\n",
       "      <td>1</td>\n",
       "      <td>0</td>\n",
       "      <td>0</td>\n",
       "      <td>0</td>\n",
       "      <td>0</td>\n",
       "      <td>0</td>\n",
       "      <td>321612</td>\n",
       "    </tr>\n",
       "    <tr>\n",
       "      <th>1</th>\n",
       "      <td>1</td>\n",
       "      <td>0</td>\n",
       "      <td>0</td>\n",
       "      <td>0</td>\n",
       "      <td>0</td>\n",
       "      <td>0</td>\n",
       "      <td>1</td>\n",
       "      <td>0</td>\n",
       "      <td>0</td>\n",
       "      <td>0</td>\n",
       "      <td>0</td>\n",
       "      <td>0</td>\n",
       "      <td>0</td>\n",
       "      <td>0</td>\n",
       "      <td>1</td>\n",
       "      <td>0</td>\n",
       "      <td>0</td>\n",
       "      <td>0</td>\n",
       "      <td>0</td>\n",
       "      <td>263115</td>\n",
       "    </tr>\n",
       "    <tr>\n",
       "      <th>2</th>\n",
       "      <td>0</td>\n",
       "      <td>0</td>\n",
       "      <td>1</td>\n",
       "      <td>1</td>\n",
       "      <td>0</td>\n",
       "      <td>0</td>\n",
       "      <td>1</td>\n",
       "      <td>1</td>\n",
       "      <td>0</td>\n",
       "      <td>0</td>\n",
       "      <td>0</td>\n",
       "      <td>1</td>\n",
       "      <td>0</td>\n",
       "      <td>0</td>\n",
       "      <td>0</td>\n",
       "      <td>0</td>\n",
       "      <td>0</td>\n",
       "      <td>0</td>\n",
       "      <td>0</td>\n",
       "      <td>335797</td>\n",
       "    </tr>\n",
       "    <tr>\n",
       "      <th>3</th>\n",
       "      <td>1</td>\n",
       "      <td>1</td>\n",
       "      <td>0</td>\n",
       "      <td>0</td>\n",
       "      <td>0</td>\n",
       "      <td>0</td>\n",
       "      <td>0</td>\n",
       "      <td>0</td>\n",
       "      <td>1</td>\n",
       "      <td>0</td>\n",
       "      <td>0</td>\n",
       "      <td>0</td>\n",
       "      <td>0</td>\n",
       "      <td>0</td>\n",
       "      <td>1</td>\n",
       "      <td>0</td>\n",
       "      <td>0</td>\n",
       "      <td>0</td>\n",
       "      <td>0</td>\n",
       "      <td>293167</td>\n",
       "    </tr>\n",
       "    <tr>\n",
       "      <th>4</th>\n",
       "      <td>1</td>\n",
       "      <td>1</td>\n",
       "      <td>0</td>\n",
       "      <td>0</td>\n",
       "      <td>0</td>\n",
       "      <td>0</td>\n",
       "      <td>0</td>\n",
       "      <td>0</td>\n",
       "      <td>0</td>\n",
       "      <td>0</td>\n",
       "      <td>0</td>\n",
       "      <td>0</td>\n",
       "      <td>0</td>\n",
       "      <td>0</td>\n",
       "      <td>1</td>\n",
       "      <td>0</td>\n",
       "      <td>1</td>\n",
       "      <td>0</td>\n",
       "      <td>0</td>\n",
       "      <td>135397</td>\n",
       "    </tr>\n",
       "  </tbody>\n",
       "</table>\n",
       "</div>"
      ],
      "text/plain": [
       "   Action  Adventure  Animation  Comedy  Crime  Documentary  Drama  Family  \\\n",
       "0       0          0          0       0      0            0      0       0   \n",
       "1       1          0          0       0      0            0      1       0   \n",
       "2       0          0          1       1      0            0      1       1   \n",
       "3       1          1          0       0      0            0      0       0   \n",
       "4       1          1          0       0      0            0      0       0   \n",
       "\n",
       "   Fantasy  History  Horror  Music  Mystery  Romance  Science Fiction  \\\n",
       "0        1        0       0      1        0        1                0   \n",
       "1        0        0       0      0        0        0                1   \n",
       "2        0        0       0      1        0        0                0   \n",
       "3        1        0       0      0        0        0                1   \n",
       "4        0        0       0      0        0        0                1   \n",
       "\n",
       "   TV Movie  Thriller  War  Western      id  \n",
       "0         0         0    0        0  321612  \n",
       "1         0         0    0        0  263115  \n",
       "2         0         0    0        0  335797  \n",
       "3         0         0    0        0  293167  \n",
       "4         0         1    0        0  135397  "
      ]
     },
     "execution_count": 36,
     "metadata": {},
     "output_type": "execute_result"
    }
   ],
   "source": [
    "df_genres.head()"
   ]
  },
  {
   "cell_type": "markdown",
   "metadata": {},
   "source": [
    "### Genre Pairs Visualization"
   ]
  },
  {
   "cell_type": "code",
   "execution_count": 68,
   "metadata": {
    "collapsed": false
   },
   "outputs": [
    {
     "data": {
      "text/html": [
       "<div class='tableauPlaceholder' id='viz1491394078709' style='position: relative'><noscript><a href='#'><img alt='Dashboard 1 ' src='https:&#47;&#47;public.tableau.com&#47;static&#47;images&#47;cs&#47;cs109b_genre_raw_total&#47;Dashboard1&#47;1_rss.png' style='border: none' /></a></noscript><object class='tableauViz'  style='display:none;'><param name='host_url' value='https%3A%2F%2Fpublic.tableau.com%2F' /> <param name='site_root' value='' /><param name='name' value='cs109b_genre_raw_total&#47;Dashboard1' /><param name='tabs' value='no' /><param name='toolbar' value='yes' /><param name='static_image' value='https:&#47;&#47;public.tableau.com&#47;static&#47;images&#47;cs&#47;cs109b_genre_raw_total&#47;Dashboard1&#47;1.png' /> <param name='animate_transition' value='yes' /><param name='display_static_image' value='yes' /><param name='display_spinner' value='yes' /><param name='display_overlay' value='yes' /><param name='display_count' value='yes' /></object></div>                <script type='text/javascript'>                    var divElement = document.getElementById('viz1491394078709');                    var vizElement = divElement.getElementsByTagName('object')[0];                    vizElement.style.width='1004px';vizElement.style.height='869px';                    var scriptElement = document.createElement('script');                    scriptElement.src = 'https://public.tableau.com/javascripts/api/viz_v1.js';                    vizElement.parentNode.insertBefore(scriptElement, vizElement);                </script>"
      ],
      "text/plain": [
       "<IPython.core.display.HTML object>"
      ]
     },
     "metadata": {},
     "output_type": "display_data"
    }
   ],
   "source": [
    "%%HTML\n",
    "<div class='tableauPlaceholder' id='viz1491394078709' style='position: relative'><noscript><a href='#'><img alt='Dashboard 1 ' src='https:&#47;&#47;public.tableau.com&#47;static&#47;images&#47;cs&#47;cs109b_genre_raw_total&#47;Dashboard1&#47;1_rss.png' style='border: none' /></a></noscript><object class='tableauViz'  style='display:none;'><param name='host_url' value='https%3A%2F%2Fpublic.tableau.com%2F' /> <param name='site_root' value='' /><param name='name' value='cs109b_genre_raw_total&#47;Dashboard1' /><param name='tabs' value='no' /><param name='toolbar' value='yes' /><param name='static_image' value='https:&#47;&#47;public.tableau.com&#47;static&#47;images&#47;cs&#47;cs109b_genre_raw_total&#47;Dashboard1&#47;1.png' /> <param name='animate_transition' value='yes' /><param name='display_static_image' value='yes' /><param name='display_spinner' value='yes' /><param name='display_overlay' value='yes' /><param name='display_count' value='yes' /></object></div>                <script type='text/javascript'>                    var divElement = document.getElementById('viz1491394078709');                    var vizElement = divElement.getElementsByTagName('object')[0];                    vizElement.style.width='1004px';vizElement.style.height='869px';                    var scriptElement = document.createElement('script');                    scriptElement.src = 'https://public.tableau.com/javascripts/api/viz_v1.js';                    vizElement.parentNode.insertBefore(scriptElement, vizElement);                </script>"
   ]
  },
  {
   "cell_type": "markdown",
   "metadata": {},
   "source": [
    "# Additional Visualization and EDA"
   ]
  },
  {
   "cell_type": "code",
   "execution_count": 69,
   "metadata": {
    "collapsed": false
   },
   "outputs": [
    {
     "data": {
      "text/html": [
       "<div class='tableauPlaceholder' id='viz1491392940635' style='position: relative'><noscript><a href='#'><img alt='Dashboard 1 ' src='https:&#47;&#47;public.tableau.com&#47;static&#47;images&#47;cs&#47;cs109b_genre_proportion&#47;Dashboard1&#47;1_rss.png' style='border: none' /></a></noscript><object class='tableauViz'  style='display:none;'><param name='host_url' value='https%3A%2F%2Fpublic.tableau.com%2F' /> <param name='site_root' value='' /><param name='name' value='cs109b_genre_proportion&#47;Dashboard1' /><param name='tabs' value='no' /><param name='toolbar' value='yes' /><param name='static_image' value='https:&#47;&#47;public.tableau.com&#47;static&#47;images&#47;cs&#47;cs109b_genre_proportion&#47;Dashboard1&#47;1.png' /> <param name='animate_transition' value='yes' /><param name='display_static_image' value='yes' /><param name='display_spinner' value='yes' /><param name='display_overlay' value='yes' /><param name='display_count' value='yes' /></object></div>                <script type='text/javascript'>                    var divElement = document.getElementById('viz1491392940635');                    var vizElement = divElement.getElementsByTagName('object')[0];                    vizElement.style.width='1004px';vizElement.style.height='869px';                    var scriptElement = document.createElement('script');                    scriptElement.src = 'https://public.tableau.com/javascripts/api/viz_v1.js';                    vizElement.parentNode.insertBefore(scriptElement, vizElement);                </script>"
      ],
      "text/plain": [
       "<IPython.core.display.HTML object>"
      ]
     },
     "metadata": {},
     "output_type": "display_data"
    }
   ],
   "source": [
    "%%HTML\n",
    "<div class='tableauPlaceholder' id='viz1491392940635' style='position: relative'><noscript><a href='#'><img alt='Dashboard 1 ' src='https:&#47;&#47;public.tableau.com&#47;static&#47;images&#47;cs&#47;cs109b_genre_proportion&#47;Dashboard1&#47;1_rss.png' style='border: none' /></a></noscript><object class='tableauViz'  style='display:none;'><param name='host_url' value='https%3A%2F%2Fpublic.tableau.com%2F' /> <param name='site_root' value='' /><param name='name' value='cs109b_genre_proportion&#47;Dashboard1' /><param name='tabs' value='no' /><param name='toolbar' value='yes' /><param name='static_image' value='https:&#47;&#47;public.tableau.com&#47;static&#47;images&#47;cs&#47;cs109b_genre_proportion&#47;Dashboard1&#47;1.png' /> <param name='animate_transition' value='yes' /><param name='display_static_image' value='yes' /><param name='display_spinner' value='yes' /><param name='display_overlay' value='yes' /><param name='display_count' value='yes' /></object></div>                <script type='text/javascript'>                    var divElement = document.getElementById('viz1491392940635');                    var vizElement = divElement.getElementsByTagName('object')[0];                    vizElement.style.width='1004px';vizElement.style.height='869px';                    var scriptElement = document.createElement('script');                    scriptElement.src = 'https://public.tableau.com/javascripts/api/viz_v1.js';                    vizElement.parentNode.insertBefore(scriptElement, vizElement);                </script>"
   ]
  },
  {
   "cell_type": "markdown",
   "metadata": {},
   "source": [
    "# Question List"
   ]
  },
  {
   "cell_type": "markdown",
   "metadata": {},
   "source": [
    "1. Is there a relationship between cast size and genre?\n",
    "2. Is there a relationship between overview text and genre?"
   ]
  }
 ],
 "metadata": {
  "kernelspec": {
   "display_name": "Python [Root]",
   "language": "python",
   "name": "Python [Root]"
  },
  "language_info": {
   "codemirror_mode": {
    "name": "ipython",
    "version": 2
   },
   "file_extension": ".py",
   "mimetype": "text/x-python",
   "name": "python",
   "nbconvert_exporter": "python",
   "pygments_lexer": "ipython2",
   "version": "2.7.13"
  }
 },
 "nbformat": 4,
 "nbformat_minor": 0
}
