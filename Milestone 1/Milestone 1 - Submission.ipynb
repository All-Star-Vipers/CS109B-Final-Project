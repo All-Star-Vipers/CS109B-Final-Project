{
 "cells": [
  {
   "cell_type": "markdown",
   "metadata": {},
   "source": [
    "## CS109b Final Project - Group 24  \n",
    "### Milestone 1 iPython notebook\n",
    "\n",
    "Tyler Finkelstein  \n",
    "James Fallon  \n",
    "Aaron Myran  \n",
    "Ihsan Patel  \n",
    "\n",
    "_5 April 2017_"
   ]
  },
  {
   "cell_type": "markdown",
   "metadata": {},
   "source": [
    "**We pulled down ~20,000 records from both TMDb and IMDb, the code and data for which can be found here:** https://github.com/All-Star-Vipers/CS109B-Final-Project/tree/master/Milestone%201"
   ]
  },
  {
   "cell_type": "markdown",
   "metadata": {
    "deletable": true,
    "editable": true
   },
   "source": [
    "# Libraries and Helper Functions / Objects"
   ]
  },
  {
   "cell_type": "code",
   "execution_count": 3,
   "metadata": {
    "collapsed": false,
    "deletable": true,
    "editable": true
   },
   "outputs": [],
   "source": [
    "import pandas as pd\n",
    "import requests\n",
    "import json\n",
    "import numpy as np\n",
    "import matplotlib.pyplot as plt\n",
    "%matplotlib inline\n",
    "from time import sleep\n",
    "from ast import literal_eval\n",
    "from imdb import IMDb"
   ]
  },
  {
   "cell_type": "code",
   "execution_count": 44,
   "metadata": {
    "collapsed": true,
    "deletable": true,
    "editable": true
   },
   "outputs": [],
   "source": [
    "# json object of tmbd genre ids\n",
    "# set([10752, 80, 10402, 35, 36, 37, 10769, 12, 10770, 878, 16, 27, 18, 9648, 14, 99, 53, 28, 10749, 10751])\n",
    "genre_ids= {\n",
    "  \"genres\": [\n",
    "    {\n",
    "      \"id\": 28,\n",
    "      \"name\": \"Action\"\n",
    "    },\n",
    "    {\n",
    "      \"id\": 12,\n",
    "      \"name\": \"Adventure\"\n",
    "    },\n",
    "    {\n",
    "      \"id\": 16,\n",
    "      \"name\": \"Animation\"\n",
    "    },\n",
    "    {\n",
    "      \"id\": 35,\n",
    "      \"name\": \"Comedy\"\n",
    "    },\n",
    "    {\n",
    "      \"id\": 80,\n",
    "      \"name\": \"Crime\"\n",
    "    },\n",
    "    {\n",
    "      \"id\": 99,\n",
    "      \"name\": \"Documentary\"\n",
    "    },\n",
    "    {\n",
    "      \"id\": 18,\n",
    "      \"name\": \"Drama\"\n",
    "    },\n",
    "    {\n",
    "      \"id\": 10751,\n",
    "      \"name\": \"Family\"\n",
    "    },\n",
    "    {\n",
    "      \"id\": 14,\n",
    "      \"name\": \"Fantasy\"\n",
    "    },\n",
    "    {\n",
    "      \"id\": 36,\n",
    "      \"name\": \"History\"\n",
    "    },\n",
    "    {\n",
    "      \"id\": 27,\n",
    "      \"name\": \"Horror\"\n",
    "    },\n",
    "    {\n",
    "      \"id\": 10402,\n",
    "      \"name\": \"Music\"\n",
    "    },\n",
    "    {\n",
    "      \"id\": 9648,\n",
    "      \"name\": \"Mystery\"\n",
    "    },\n",
    "    {\n",
    "      \"id\": 10749,\n",
    "      \"name\": \"Romance\"\n",
    "    },\n",
    "    {\n",
    "      \"id\": 878,\n",
    "      \"name\": \"Science Fiction\"\n",
    "    },\n",
    "    {\n",
    "      \"id\": 10770,\n",
    "      \"name\": \"TV Movie\"\n",
    "    },\n",
    "    {\n",
    "      \"id\": 53,\n",
    "      \"name\": \"Thriller\"\n",
    "    },\n",
    "    {\n",
    "      \"id\": 10752,\n",
    "      \"name\": \"War\"\n",
    "    },\n",
    "    {\n",
    "      \"id\": 37,\n",
    "      \"name\": \"Western\"\n",
    "    },\n",
    "    {\n",
    "      \"id\": 10769,\n",
    "      \"name\": \"Foreign\"\n",
    "    },\n",
    "  ]\n",
    "}"
   ]
  },
  {
   "cell_type": "markdown",
   "metadata": {
    "deletable": true,
    "editable": true
   },
   "source": [
    "# Favorite Movie Information"
   ]
  },
  {
   "cell_type": "markdown",
   "metadata": {
    "deletable": true,
    "editable": true
   },
   "source": [
    "### Get Favorite Movie ID"
   ]
  },
  {
   "cell_type": "code",
   "execution_count": 3,
   "metadata": {
    "collapsed": false,
    "deletable": true,
    "editable": true
   },
   "outputs": [
    {
     "name": "stdout",
     "output_type": "stream",
     "text": [
      "{\n",
      "    \"adult\": false, \n",
      "    \"backdrop_path\": \"/5vZw7ltCKI0JiOYTtRxaIC3DX0e.jpg\", \n",
      "    \"genre_ids\": [\n",
      "        28, \n",
      "        18, \n",
      "        12\n",
      "    ], \n",
      "    \"id\": 98, \n",
      "    \"original_language\": \"en\", \n",
      "    \"original_title\": \"Gladiator\", \n",
      "    \"overview\": \"General Maximus' success in battle earns the favour of the Roman Empire's elderly Emperor at the expense of the Emperor's son. In a fit of jealous rage the son slays his father before turning his anger towards Maximus. Now reduced to a slave, and his family dead, Maximus must fight as a gladiator to gain his freedom \\u2013 and his revenge.\", \n",
      "    \"popularity\": 8.000926, \n",
      "    \"poster_path\": \"/6WBIzCgmDCYrqh64yDREGeDk9d3.jpg\", \n",
      "    \"release_date\": \"2000-05-01\", \n",
      "    \"title\": \"Gladiator\", \n",
      "    \"video\": false, \n",
      "    \"vote_average\": 7.8, \n",
      "    \"vote_count\": 4291\n",
      "}\n"
     ]
    }
   ],
   "source": [
    "api_key = '9ec0c2e7850f575e7dcd37c195e45b69'\n",
    "favorite_movie = 'Gladiator'\n",
    "api_url = 'https://api.themoviedb.org/3/search/movie?api_key={0}&query={1}&page=1'.format(api_key, favorite_movie)\n",
    "response = requests.get(api_url)\n",
    "movies = json.loads(response.text)\n",
    "print json.dumps(movies['results'][0], indent=4, sort_keys=True)"
   ]
  },
  {
   "cell_type": "markdown",
   "metadata": {
    "deletable": true,
    "editable": true
   },
   "source": [
    "### Get Favorite Movie Genre and Poster Path"
   ]
  },
  {
   "cell_type": "code",
   "execution_count": 4,
   "metadata": {
    "collapsed": false,
    "deletable": true,
    "editable": true
   },
   "outputs": [
    {
     "name": "stdout",
     "output_type": "stream",
     "text": [
      "Genres: [{u'id': 28, u'name': u'Action'}, {u'id': 18, u'name': u'Drama'}, {u'id': 12, u'name': u'Adventure'}]\n",
      "Poster Path: /6WBIzCgmDCYrqh64yDREGeDk9d3.jpg\n"
     ]
    }
   ],
   "source": [
    "favorite_movie_id = 98\n",
    "api_url = 'https://api.themoviedb.org/3/movie/{1}?api_key={0}'.format(api_key, favorite_movie_id)\n",
    "response = requests.get(api_url)\n",
    "tmdb_data = json.loads(response.text)\n",
    "print('Genres: ' + str(tmdb_data['genres']))\n",
    "print('Poster Path: ' + str(tmdb_data['poster_path']))"
   ]
  },
  {
   "cell_type": "markdown",
   "metadata": {
    "deletable": true,
    "editable": true
   },
   "source": [
    "### Genre from TMDB and IMDB"
   ]
  },
  {
   "cell_type": "code",
   "execution_count": 5,
   "metadata": {
    "collapsed": false,
    "deletable": true,
    "editable": true
   },
   "outputs": [
    {
     "name": "stdout",
     "output_type": "stream",
     "text": [
      "TMDB Genres:\n",
      "Action\n",
      "Drama\n",
      "Adventure\n",
      "\n",
      "IMDB Genres:\n",
      "Action\n",
      "Adventure\n",
      "Drama\n"
     ]
    }
   ],
   "source": [
    "print(\"TMDB Genres:\")\n",
    "for genre in tmdb_data['genres']:\n",
    "    print(genre['name'])\n",
    "\n",
    "# get IMDB data\n",
    "ia = IMDb()\n",
    "imdb_data = ia.get_movie(str(tmdb_data['imdb_id'])[2:])\n",
    "print(\"\\nIMDB Genres:\")\n",
    "for genre in imdb_data['genres']:\n",
    "    print(genre)"
   ]
  },
  {
   "cell_type": "markdown",
   "metadata": {
    "deletable": true,
    "editable": true
   },
   "source": [
    "# Popular Movies from TMDB"
   ]
  },
  {
   "cell_type": "markdown",
   "metadata": {
    "deletable": true,
    "editable": true
   },
   "source": [
    "### Get Popular Movies Data"
   ]
  },
  {
   "cell_type": "code",
   "execution_count": 6,
   "metadata": {
    "collapsed": true,
    "deletable": true,
    "editable": true
   },
   "outputs": [
    {
     "name": "stderr",
     "output_type": "stream",
     "text": [
      "ERROR:root:Internal Python error in the inspect module.\n",
      "Below is the traceback from this internal error.\n",
      "\n"
     ]
    },
    {
     "name": "stdout",
     "output_type": "stream",
     "text": [
      "Traceback (most recent call last):\n",
      "  File \"/Users/tyler/anaconda2/lib/python2.7/site-packages/IPython/core/ultratb.py\", line 1132, in get_records\n",
      "    return _fixed_getinnerframes(etb, number_of_lines_of_context, tb_offset)\n",
      "  File \"/Users/tyler/anaconda2/lib/python2.7/site-packages/IPython/core/ultratb.py\", line 313, in wrapped\n",
      "    return f(*args, **kwargs)\n",
      "  File \"/Users/tyler/anaconda2/lib/python2.7/site-packages/IPython/core/ultratb.py\", line 358, in _fixed_getinnerframes\n",
      "    records = fix_frame_records_filenames(inspect.getinnerframes(etb, context))\n",
      "  File \"/Users/tyler/anaconda2/lib/python2.7/inspect.py\", line 1049, in getinnerframes\n",
      "    framelist.append((tb.tb_frame,) + getframeinfo(tb, context))\n",
      "  File \"/Users/tyler/anaconda2/lib/python2.7/inspect.py\", line 1009, in getframeinfo\n",
      "    filename = getsourcefile(frame) or getfile(frame)\n",
      "  File \"/Users/tyler/anaconda2/lib/python2.7/inspect.py\", line 454, in getsourcefile\n",
      "    if hasattr(getmodule(object, filename), '__loader__'):\n",
      "  File \"/Users/tyler/anaconda2/lib/python2.7/inspect.py\", line 491, in getmodule\n",
      "    if ismodule(module) and hasattr(module, '__file__'):\n",
      "  File \"/Users/tyler/anaconda2/lib/python2.7/site-packages/py/_apipkg.py\", line 171, in __getattribute__\n",
      "    return getattr(getmod(), name)\n",
      "  File \"/Users/tyler/anaconda2/lib/python2.7/site-packages/py/_apipkg.py\", line 155, in getmod\n",
      "    x = importobj(modpath, None)\n",
      "  File \"/Users/tyler/anaconda2/lib/python2.7/site-packages/py/_apipkg.py\", line 48, in importobj\n",
      "    module = __import__(modpath, None, None, ['__doc__'])\n",
      "  File \"/Users/tyler/anaconda2/lib/python2.7/site-packages/pytest.py\", line 27, in <module>\n",
      "    _preloadplugins() # to populate pytest.* namespace so help(pytest) works\n",
      "  File \"/Users/tyler/anaconda2/lib/python2.7/site-packages/_pytest/config.py\", line 76, in _preloadplugins\n",
      "    _preinit.append(get_config())\n",
      "  File \"/Users/tyler/anaconda2/lib/python2.7/site-packages/_pytest/config.py\", line 85, in get_config\n",
      "    pluginmanager.import_plugin(spec)\n",
      "  File \"/Users/tyler/anaconda2/lib/python2.7/site-packages/_pytest/config.py\", line 385, in import_plugin\n",
      "    __import__(importspec)\n",
      "  File \"/Users/tyler/anaconda2/lib/python2.7/site-packages/_pytest/junitxml.py\", line 44, in <module>\n",
      "    illegal_xml_re = re.compile(unicode('[^%s]') % unicode('').join(_legal_xml_re))\n",
      "  File \"/Users/tyler/anaconda2/lib/python2.7/re.py\", line 194, in compile\n",
      "    return _compile(pattern, flags)\n",
      "  File \"/Users/tyler/anaconda2/lib/python2.7/re.py\", line 249, in _compile\n",
      "    p = sre_compile.compile(pattern, flags)\n",
      "  File \"/Users/tyler/anaconda2/lib/python2.7/sre_compile.py\", line 576, in compile\n",
      "    code = _code(p, flags)\n",
      "  File \"/Users/tyler/anaconda2/lib/python2.7/sre_compile.py\", line 558, in _code\n",
      "    _compile_info(code, p, flags)\n",
      "  File \"/Users/tyler/anaconda2/lib/python2.7/sre_compile.py\", line 536, in _compile_info\n",
      "    _compile_charset(charset, flags, code)\n",
      "  File \"/Users/tyler/anaconda2/lib/python2.7/sre_compile.py\", line 232, in _compile_charset\n",
      "    flags & SRE_FLAG_UNICODE):\n",
      "  File \"/Users/tyler/anaconda2/lib/python2.7/sre_compile.py\", line 385, in _optimize_charset\n",
      "    data = _mk_bitmap(data)\n",
      "  File \"/Users/tyler/anaconda2/lib/python2.7/sre_compile.py\", line 414, in _mk_bitmap\n",
      "    for i in range(len(s), 0, -_CODEBITS)]\n",
      "KeyboardInterrupt\n"
     ]
    },
    {
     "ename": "IndexError",
     "evalue": "string index out of range",
     "output_type": "error",
     "traceback": [
      "\u001b[0;31m---------------------------------------------------------------------------\u001b[0m",
      "\u001b[0;31mIndexError\u001b[0m                                Traceback (most recent call last)",
      "\u001b[0;32m/Users/tyler/anaconda2/lib/python2.7/site-packages/IPython/core/interactiveshell.pyc\u001b[0m in \u001b[0;36mrun_code\u001b[0;34m(self, code_obj, result)\u001b[0m\n\u001b[1;32m   2896\u001b[0m             \u001b[0;32mif\u001b[0m \u001b[0mresult\u001b[0m \u001b[0;32mis\u001b[0m \u001b[0;32mnot\u001b[0m \u001b[0mNone\u001b[0m\u001b[0;34m:\u001b[0m\u001b[0;34m\u001b[0m\u001b[0m\n\u001b[1;32m   2897\u001b[0m                 \u001b[0mresult\u001b[0m\u001b[0;34m.\u001b[0m\u001b[0merror_in_exec\u001b[0m \u001b[0;34m=\u001b[0m \u001b[0msys\u001b[0m\u001b[0;34m.\u001b[0m\u001b[0mexc_info\u001b[0m\u001b[0;34m(\u001b[0m\u001b[0;34m)\u001b[0m\u001b[0;34m[\u001b[0m\u001b[0;36m1\u001b[0m\u001b[0;34m]\u001b[0m\u001b[0;34m\u001b[0m\u001b[0m\n\u001b[0;32m-> 2898\u001b[0;31m             \u001b[0mself\u001b[0m\u001b[0;34m.\u001b[0m\u001b[0mshowtraceback\u001b[0m\u001b[0;34m(\u001b[0m\u001b[0;34m)\u001b[0m\u001b[0;34m\u001b[0m\u001b[0m\n\u001b[0m\u001b[1;32m   2899\u001b[0m         \u001b[0;32melse\u001b[0m\u001b[0;34m:\u001b[0m\u001b[0;34m\u001b[0m\u001b[0m\n\u001b[1;32m   2900\u001b[0m             \u001b[0moutflag\u001b[0m \u001b[0;34m=\u001b[0m \u001b[0;36m0\u001b[0m\u001b[0;34m\u001b[0m\u001b[0m\n",
      "\u001b[0;32m/Users/tyler/anaconda2/lib/python2.7/site-packages/IPython/core/interactiveshell.pyc\u001b[0m in \u001b[0;36mshowtraceback\u001b[0;34m(self, exc_tuple, filename, tb_offset, exception_only)\u001b[0m\n\u001b[1;32m   1822\u001b[0m                     \u001b[0;32mexcept\u001b[0m \u001b[0mException\u001b[0m\u001b[0;34m:\u001b[0m\u001b[0;34m\u001b[0m\u001b[0m\n\u001b[1;32m   1823\u001b[0m                         stb = self.InteractiveTB.structured_traceback(etype,\n\u001b[0;32m-> 1824\u001b[0;31m                                             value, tb, tb_offset=tb_offset)\n\u001b[0m\u001b[1;32m   1825\u001b[0m \u001b[0;34m\u001b[0m\u001b[0m\n\u001b[1;32m   1826\u001b[0m                     \u001b[0mself\u001b[0m\u001b[0;34m.\u001b[0m\u001b[0m_showtraceback\u001b[0m\u001b[0;34m(\u001b[0m\u001b[0metype\u001b[0m\u001b[0;34m,\u001b[0m \u001b[0mvalue\u001b[0m\u001b[0;34m,\u001b[0m \u001b[0mstb\u001b[0m\u001b[0;34m)\u001b[0m\u001b[0;34m\u001b[0m\u001b[0m\n",
      "\u001b[0;32m/Users/tyler/anaconda2/lib/python2.7/site-packages/IPython/core/ultratb.pyc\u001b[0m in \u001b[0;36mstructured_traceback\u001b[0;34m(self, etype, value, tb, tb_offset, number_of_lines_of_context)\u001b[0m\n\u001b[1;32m   1404\u001b[0m         \u001b[0mself\u001b[0m\u001b[0;34m.\u001b[0m\u001b[0mtb\u001b[0m \u001b[0;34m=\u001b[0m \u001b[0mtb\u001b[0m\u001b[0;34m\u001b[0m\u001b[0m\n\u001b[1;32m   1405\u001b[0m         return FormattedTB.structured_traceback(\n\u001b[0;32m-> 1406\u001b[0;31m             self, etype, value, tb, tb_offset, number_of_lines_of_context)\n\u001b[0m\u001b[1;32m   1407\u001b[0m \u001b[0;34m\u001b[0m\u001b[0m\n\u001b[1;32m   1408\u001b[0m \u001b[0;34m\u001b[0m\u001b[0m\n",
      "\u001b[0;32m/Users/tyler/anaconda2/lib/python2.7/site-packages/IPython/core/ultratb.pyc\u001b[0m in \u001b[0;36mstructured_traceback\u001b[0;34m(self, etype, value, tb, tb_offset, number_of_lines_of_context)\u001b[0m\n\u001b[1;32m   1312\u001b[0m             \u001b[0;31m# Verbose modes need a full traceback\u001b[0m\u001b[0;34m\u001b[0m\u001b[0;34m\u001b[0m\u001b[0m\n\u001b[1;32m   1313\u001b[0m             return VerboseTB.structured_traceback(\n\u001b[0;32m-> 1314\u001b[0;31m                 \u001b[0mself\u001b[0m\u001b[0;34m,\u001b[0m \u001b[0metype\u001b[0m\u001b[0;34m,\u001b[0m \u001b[0mvalue\u001b[0m\u001b[0;34m,\u001b[0m \u001b[0mtb\u001b[0m\u001b[0;34m,\u001b[0m \u001b[0mtb_offset\u001b[0m\u001b[0;34m,\u001b[0m \u001b[0mnumber_of_lines_of_context\u001b[0m\u001b[0;34m\u001b[0m\u001b[0m\n\u001b[0m\u001b[1;32m   1315\u001b[0m             )\n\u001b[1;32m   1316\u001b[0m         \u001b[0;32melse\u001b[0m\u001b[0;34m:\u001b[0m\u001b[0;34m\u001b[0m\u001b[0m\n",
      "\u001b[0;32m/Users/tyler/anaconda2/lib/python2.7/site-packages/IPython/core/ultratb.pyc\u001b[0m in \u001b[0;36mstructured_traceback\u001b[0;34m(self, etype, evalue, etb, tb_offset, number_of_lines_of_context)\u001b[0m\n\u001b[1;32m   1196\u001b[0m                 \u001b[0mstructured_traceback_parts\u001b[0m \u001b[0;34m+=\u001b[0m \u001b[0mformatted_exception\u001b[0m\u001b[0;34m\u001b[0m\u001b[0m\n\u001b[1;32m   1197\u001b[0m         \u001b[0;32melse\u001b[0m\u001b[0;34m:\u001b[0m\u001b[0;34m\u001b[0m\u001b[0m\n\u001b[0;32m-> 1198\u001b[0;31m             \u001b[0mstructured_traceback_parts\u001b[0m \u001b[0;34m+=\u001b[0m \u001b[0mformatted_exception\u001b[0m\u001b[0;34m[\u001b[0m\u001b[0;36m0\u001b[0m\u001b[0;34m]\u001b[0m\u001b[0;34m\u001b[0m\u001b[0m\n\u001b[0m\u001b[1;32m   1199\u001b[0m \u001b[0;34m\u001b[0m\u001b[0m\n\u001b[1;32m   1200\u001b[0m         \u001b[0;32mreturn\u001b[0m \u001b[0mstructured_traceback_parts\u001b[0m\u001b[0;34m\u001b[0m\u001b[0m\n",
      "\u001b[0;31mIndexError\u001b[0m: string index out of range"
     ]
    }
   ],
   "source": [
    "# loops through each page of popular movies in TMDB and adds it to a dataframe object\n",
    "df = []\n",
    "total_pages = range(1,976+1)\n",
    "for page in total_pages:\n",
    "    current_page = requests.get('https://api.themoviedb.org/3/movie/popular?api_key=ed5609930331aab76658f32439c5e5e5&language=en-US&page='+str(page))\n",
    "    sleep(0.25)\n",
    "    data = json.loads(current_page.text)\n",
    "    try:\n",
    "        for element in data['results']:\n",
    "            df.append(element)\n",
    "    except:\n",
    "        continue\n",
    "df = pd.DataFrame(df)\n",
    "df.head()"
   ]
  },
  {
   "cell_type": "code",
   "execution_count": null,
   "metadata": {
    "collapsed": false,
    "deletable": true,
    "editable": true
   },
   "outputs": [],
   "source": [
    "# get shape of dataframe\n",
    "df.shape"
   ]
  },
  {
   "cell_type": "code",
   "execution_count": null,
   "metadata": {
    "collapsed": true,
    "deletable": true,
    "editable": true
   },
   "outputs": [],
   "source": [
    "# put columns that cannot be saved directly to csv into list\n",
    "columns_to_convert = ['overview', 'title', 'original_title']\n",
    "for column in columns_to_convert:\n",
    "    df[column] = df[column].apply(lambda x: [x])"
   ]
  },
  {
   "cell_type": "markdown",
   "metadata": {
    "deletable": true,
    "editable": true
   },
   "source": [
    "### View Top 10 Movies and Genres"
   ]
  },
  {
   "cell_type": "code",
   "execution_count": 7,
   "metadata": {
    "collapsed": true,
    "deletable": true,
    "editable": true
   },
   "outputs": [],
   "source": [
    "df = pd.read_csv('popular_movie_data_tmdb.csv')\n",
    "df_top_10 = df.iloc[:10]"
   ]
  },
  {
   "cell_type": "code",
   "execution_count": 129,
   "metadata": {
    "collapsed": false,
    "deletable": true,
    "editable": true
   },
   "outputs": [
    {
     "name": "stdout",
     "output_type": "stream",
     "text": [
      "Beauty and the Beast: ['Fantasy', 'Music', 'Romance']\n",
      "Logan: ['Action', 'Drama', 'Science Fiction']\n",
      "Sing: ['Animation', 'Comedy', 'Drama', 'Family', 'Music']\n",
      "Kong: Skull Island: ['Science Fiction', 'Action', 'Adventure', 'Fantasy']\n",
      "Jurassic World: ['Action', 'Adventure', 'Science Fiction', 'Thriller']\n",
      "Ghost in the Shell: ['Action', 'Drama', 'Science Fiction']\n",
      "Fantastic Beasts and Where to Find Them: ['Adventure', 'Action', 'Fantasy']\n",
      "The Boss Baby: ['Animation', 'Comedy', 'Family']\n",
      "Interstellar: ['Adventure', 'Drama', 'Science Fiction']\n",
      "Finding Dory: ['Adventure', 'Animation', 'Comedy', 'Family']\n"
     ]
    }
   ],
   "source": [
    "genre_id_map = {genre['id']:genre['name'] for genre in genre_ids['genres']}\n",
    "for i in range(10):\n",
    "    genres = [genre_id_map[genre_id] for genre_id in literal_eval(df_top_10.iloc[i]['genre_ids'])]\n",
    "    print(\"{0}: {1}\".format(literal_eval(df_top_10.iloc[i]['title'])[0], genres))"
   ]
  },
  {
   "cell_type": "markdown",
   "metadata": {
    "deletable": true,
    "editable": true
   },
   "source": [
    "# Challenges for Prediction"
   ]
  },
  {
   "cell_type": "markdown",
   "metadata": {
    "deletable": true,
    "editable": true
   },
   "source": [
    "A few challenges for prediction include:\n",
    "<ol>\n",
    "<li> Working with different genre entries from IMDb and TMDb. See below.\n",
    "<li> Movies change over time. Budget in particular could be problematic. How do we factor this into our predictions? One way would be to bin movies into time periods (for example 1990-1995, 1995-2000, etc.). Another way would be to use a moving average of movie budgets at each point in time, and then compare each movie to the average budget at the point in time of its production.\n",
    "<li> Working with actor data will be interesting. There are probably interesting ways to use that data including creating a network of actors based on who has participated together, and then we can use the graph characteristics combined with the movie genres of the actors' movies to predict the genre of a different movie.\n",
    "</ol>"
   ]
  },
  {
   "cell_type": "markdown",
   "metadata": {
    "deletable": true,
    "editable": true
   },
   "source": [
    "# Movie Genre Pairs"
   ]
  },
  {
   "cell_type": "markdown",
   "metadata": {
    "deletable": true,
    "editable": true
   },
   "source": [
    "### Generate movie genre pairs"
   ]
  },
  {
   "cell_type": "code",
   "execution_count": 130,
   "metadata": {
    "collapsed": true,
    "deletable": true,
    "editable": true
   },
   "outputs": [],
   "source": [
    "# get list of genre ids\n",
    "col_ids = [genre['id'] for genre in genre_ids['genres']]"
   ]
  },
  {
   "cell_type": "code",
   "execution_count": 131,
   "metadata": {
    "collapsed": true,
    "deletable": true,
    "editable": true
   },
   "outputs": [],
   "source": [
    "# encode genre matrix if movie contains genre\n",
    "def movie_id_machine(genre_ids, columns):\n",
    "    new_row = []\n",
    "    for column in columns:\n",
    "        if column in genre_ids:\n",
    "            new_row.append(1)\n",
    "        else:\n",
    "            new_row.append(0)\n",
    "    return new_row"
   ]
  },
  {
   "cell_type": "code",
   "execution_count": 133,
   "metadata": {
    "collapsed": false,
    "deletable": true,
    "editable": true,
    "scrolled": true
   },
   "outputs": [],
   "source": [
    "# encode genre\n",
    "df['genre_encoding'] = df['genre_ids'].apply(lambda ids: movie_id_machine(literal_eval(ids), col_ids))"
   ]
  },
  {
   "cell_type": "code",
   "execution_count": 134,
   "metadata": {
    "collapsed": false,
    "deletable": true,
    "editable": true,
    "scrolled": true
   },
   "outputs": [
    {
     "data": {
      "text/plain": [
       "(19262, 21)"
      ]
     },
     "execution_count": 134,
     "metadata": {},
     "output_type": "execute_result"
    }
   ],
   "source": [
    "# create list of genre names\n",
    "col_names = [genre['name'] for genre in genre_ids['genres']]\n",
    "\n",
    "# create separate dataframe with genre encoding\n",
    "df_genres = pd.DataFrame(df['genre_encoding'].tolist(), columns = col_names)\n",
    "\n",
    "# add TMDB id to genre encoding dataframe\n",
    "df_genres['id'] = df['id']\n",
    "df_genres.shape"
   ]
  },
  {
   "cell_type": "code",
   "execution_count": 135,
   "metadata": {
    "collapsed": false,
    "deletable": true,
    "editable": true
   },
   "outputs": [
    {
     "data": {
      "text/html": [
       "<div>\n",
       "<table border=\"1\" class=\"dataframe\">\n",
       "  <thead>\n",
       "    <tr style=\"text-align: right;\">\n",
       "      <th></th>\n",
       "      <th>Action</th>\n",
       "      <th>Adventure</th>\n",
       "      <th>Animation</th>\n",
       "      <th>Comedy</th>\n",
       "      <th>Crime</th>\n",
       "      <th>Documentary</th>\n",
       "      <th>Drama</th>\n",
       "      <th>Family</th>\n",
       "      <th>Fantasy</th>\n",
       "      <th>History</th>\n",
       "      <th>...</th>\n",
       "      <th>Music</th>\n",
       "      <th>Mystery</th>\n",
       "      <th>Romance</th>\n",
       "      <th>Science Fiction</th>\n",
       "      <th>TV Movie</th>\n",
       "      <th>Thriller</th>\n",
       "      <th>War</th>\n",
       "      <th>Western</th>\n",
       "      <th>Foreign</th>\n",
       "      <th>id</th>\n",
       "    </tr>\n",
       "  </thead>\n",
       "  <tbody>\n",
       "    <tr>\n",
       "      <th>0</th>\n",
       "      <td>0</td>\n",
       "      <td>0</td>\n",
       "      <td>0</td>\n",
       "      <td>0</td>\n",
       "      <td>0</td>\n",
       "      <td>0</td>\n",
       "      <td>0</td>\n",
       "      <td>0</td>\n",
       "      <td>1</td>\n",
       "      <td>0</td>\n",
       "      <td>...</td>\n",
       "      <td>1</td>\n",
       "      <td>0</td>\n",
       "      <td>1</td>\n",
       "      <td>0</td>\n",
       "      <td>0</td>\n",
       "      <td>0</td>\n",
       "      <td>0</td>\n",
       "      <td>0</td>\n",
       "      <td>0</td>\n",
       "      <td>321612</td>\n",
       "    </tr>\n",
       "    <tr>\n",
       "      <th>1</th>\n",
       "      <td>1</td>\n",
       "      <td>0</td>\n",
       "      <td>0</td>\n",
       "      <td>0</td>\n",
       "      <td>0</td>\n",
       "      <td>0</td>\n",
       "      <td>1</td>\n",
       "      <td>0</td>\n",
       "      <td>0</td>\n",
       "      <td>0</td>\n",
       "      <td>...</td>\n",
       "      <td>0</td>\n",
       "      <td>0</td>\n",
       "      <td>0</td>\n",
       "      <td>1</td>\n",
       "      <td>0</td>\n",
       "      <td>0</td>\n",
       "      <td>0</td>\n",
       "      <td>0</td>\n",
       "      <td>0</td>\n",
       "      <td>263115</td>\n",
       "    </tr>\n",
       "    <tr>\n",
       "      <th>2</th>\n",
       "      <td>0</td>\n",
       "      <td>0</td>\n",
       "      <td>1</td>\n",
       "      <td>1</td>\n",
       "      <td>0</td>\n",
       "      <td>0</td>\n",
       "      <td>1</td>\n",
       "      <td>1</td>\n",
       "      <td>0</td>\n",
       "      <td>0</td>\n",
       "      <td>...</td>\n",
       "      <td>1</td>\n",
       "      <td>0</td>\n",
       "      <td>0</td>\n",
       "      <td>0</td>\n",
       "      <td>0</td>\n",
       "      <td>0</td>\n",
       "      <td>0</td>\n",
       "      <td>0</td>\n",
       "      <td>0</td>\n",
       "      <td>335797</td>\n",
       "    </tr>\n",
       "    <tr>\n",
       "      <th>3</th>\n",
       "      <td>1</td>\n",
       "      <td>1</td>\n",
       "      <td>0</td>\n",
       "      <td>0</td>\n",
       "      <td>0</td>\n",
       "      <td>0</td>\n",
       "      <td>0</td>\n",
       "      <td>0</td>\n",
       "      <td>1</td>\n",
       "      <td>0</td>\n",
       "      <td>...</td>\n",
       "      <td>0</td>\n",
       "      <td>0</td>\n",
       "      <td>0</td>\n",
       "      <td>1</td>\n",
       "      <td>0</td>\n",
       "      <td>0</td>\n",
       "      <td>0</td>\n",
       "      <td>0</td>\n",
       "      <td>0</td>\n",
       "      <td>293167</td>\n",
       "    </tr>\n",
       "    <tr>\n",
       "      <th>4</th>\n",
       "      <td>1</td>\n",
       "      <td>1</td>\n",
       "      <td>0</td>\n",
       "      <td>0</td>\n",
       "      <td>0</td>\n",
       "      <td>0</td>\n",
       "      <td>0</td>\n",
       "      <td>0</td>\n",
       "      <td>0</td>\n",
       "      <td>0</td>\n",
       "      <td>...</td>\n",
       "      <td>0</td>\n",
       "      <td>0</td>\n",
       "      <td>0</td>\n",
       "      <td>1</td>\n",
       "      <td>0</td>\n",
       "      <td>1</td>\n",
       "      <td>0</td>\n",
       "      <td>0</td>\n",
       "      <td>0</td>\n",
       "      <td>135397</td>\n",
       "    </tr>\n",
       "  </tbody>\n",
       "</table>\n",
       "<p>5 rows × 21 columns</p>\n",
       "</div>"
      ],
      "text/plain": [
       "   Action  Adventure  Animation  Comedy  Crime  Documentary  Drama  Family  \\\n",
       "0       0          0          0       0      0            0      0       0   \n",
       "1       1          0          0       0      0            0      1       0   \n",
       "2       0          0          1       1      0            0      1       1   \n",
       "3       1          1          0       0      0            0      0       0   \n",
       "4       1          1          0       0      0            0      0       0   \n",
       "\n",
       "   Fantasy  History   ...    Music  Mystery  Romance  Science Fiction  \\\n",
       "0        1        0   ...        1        0        1                0   \n",
       "1        0        0   ...        0        0        0                1   \n",
       "2        0        0   ...        1        0        0                0   \n",
       "3        1        0   ...        0        0        0                1   \n",
       "4        0        0   ...        0        0        0                1   \n",
       "\n",
       "   TV Movie  Thriller  War  Western  Foreign      id  \n",
       "0         0         0    0        0        0  321612  \n",
       "1         0         0    0        0        0  263115  \n",
       "2         0         0    0        0        0  335797  \n",
       "3         0         0    0        0        0  293167  \n",
       "4         0         1    0        0        0  135397  \n",
       "\n",
       "[5 rows x 21 columns]"
      ]
     },
     "execution_count": 135,
     "metadata": {},
     "output_type": "execute_result"
    }
   ],
   "source": [
    "df_genres.head()"
   ]
  },
  {
   "cell_type": "markdown",
   "metadata": {
    "deletable": true,
    "editable": true
   },
   "source": [
    "### Genre Pairs Visualization"
   ]
  },
  {
   "cell_type": "code",
   "execution_count": 1,
   "metadata": {
    "collapsed": false,
    "deletable": true,
    "editable": true
   },
   "outputs": [
    {
     "data": {
      "text/html": [
       "<div class='tableauPlaceholder' id='viz1491394078709' style='position: relative'><noscript><a href='#'><img alt='Dashboard 1 ' src='https:&#47;&#47;public.tableau.com&#47;static&#47;images&#47;cs&#47;cs109b_genre_raw_total&#47;Dashboard1&#47;1_rss.png' style='border: none' /></a></noscript><object class='tableauViz'  style='display:none;'><param name='host_url' value='https%3A%2F%2Fpublic.tableau.com%2F' /> <param name='site_root' value='' /><param name='name' value='cs109b_genre_raw_total&#47;Dashboard1' /><param name='tabs' value='no' /><param name='toolbar' value='yes' /><param name='static_image' value='https:&#47;&#47;public.tableau.com&#47;static&#47;images&#47;cs&#47;cs109b_genre_raw_total&#47;Dashboard1&#47;1.png' /> <param name='animate_transition' value='yes' /><param name='display_static_image' value='yes' /><param name='display_spinner' value='yes' /><param name='display_overlay' value='yes' /><param name='display_count' value='yes' /></object></div>                <script type='text/javascript'>                    var divElement = document.getElementById('viz1491394078709');                    var vizElement = divElement.getElementsByTagName('object')[0];                    vizElement.style.width='1004px';vizElement.style.height='869px';                    var scriptElement = document.createElement('script');                    scriptElement.src = 'https://public.tableau.com/javascripts/api/viz_v1.js';                    vizElement.parentNode.insertBefore(scriptElement, vizElement);                </script>"
      ],
      "text/plain": [
       "<IPython.core.display.HTML object>"
      ]
     },
     "metadata": {},
     "output_type": "display_data"
    }
   ],
   "source": [
    "%%HTML\n",
    "<div class='tableauPlaceholder' id='viz1491394078709' style='position: relative'><noscript><a href='#'><img alt='Dashboard 1 ' src='https:&#47;&#47;public.tableau.com&#47;static&#47;images&#47;cs&#47;cs109b_genre_raw_total&#47;Dashboard1&#47;1_rss.png' style='border: none' /></a></noscript><object class='tableauViz'  style='display:none;'><param name='host_url' value='https%3A%2F%2Fpublic.tableau.com%2F' /> <param name='site_root' value='' /><param name='name' value='cs109b_genre_raw_total&#47;Dashboard1' /><param name='tabs' value='no' /><param name='toolbar' value='yes' /><param name='static_image' value='https:&#47;&#47;public.tableau.com&#47;static&#47;images&#47;cs&#47;cs109b_genre_raw_total&#47;Dashboard1&#47;1.png' /> <param name='animate_transition' value='yes' /><param name='display_static_image' value='yes' /><param name='display_spinner' value='yes' /><param name='display_overlay' value='yes' /><param name='display_count' value='yes' /></object></div>                <script type='text/javascript'>                    var divElement = document.getElementById('viz1491394078709');                    var vizElement = divElement.getElementsByTagName('object')[0];                    vizElement.style.width='1004px';vizElement.style.height='869px';                    var scriptElement = document.createElement('script');                    scriptElement.src = 'https://public.tableau.com/javascripts/api/viz_v1.js';                    vizElement.parentNode.insertBefore(scriptElement, vizElement);                </script>"
   ]
  },
  {
   "cell_type": "markdown",
   "metadata": {
    "deletable": true,
    "editable": true
   },
   "source": [
    "# Additional Visualization and EDA"
   ]
  },
  {
   "cell_type": "code",
   "execution_count": 2,
   "metadata": {
    "collapsed": false,
    "deletable": true,
    "editable": true,
    "scrolled": true
   },
   "outputs": [
    {
     "data": {
      "text/html": [
       "<div class='tableauPlaceholder' id='viz1491392940635' style='position: relative'><noscript><a href='#'><img alt='Dashboard 1 ' src='https:&#47;&#47;public.tableau.com&#47;static&#47;images&#47;cs&#47;cs109b_genre_proportion&#47;Dashboard1&#47;1_rss.png' style='border: none' /></a></noscript><object class='tableauViz'  style='display:none;'><param name='host_url' value='https%3A%2F%2Fpublic.tableau.com%2F' /> <param name='site_root' value='' /><param name='name' value='cs109b_genre_proportion&#47;Dashboard1' /><param name='tabs' value='no' /><param name='toolbar' value='yes' /><param name='static_image' value='https:&#47;&#47;public.tableau.com&#47;static&#47;images&#47;cs&#47;cs109b_genre_proportion&#47;Dashboard1&#47;1.png' /> <param name='animate_transition' value='yes' /><param name='display_static_image' value='yes' /><param name='display_spinner' value='yes' /><param name='display_overlay' value='yes' /><param name='display_count' value='yes' /></object></div>                <script type='text/javascript'>                    var divElement = document.getElementById('viz1491392940635');                    var vizElement = divElement.getElementsByTagName('object')[0];                    vizElement.style.width='1004px';vizElement.style.height='869px';                    var scriptElement = document.createElement('script');                    scriptElement.src = 'https://public.tableau.com/javascripts/api/viz_v1.js';                    vizElement.parentNode.insertBefore(scriptElement, vizElement);                </script>"
      ],
      "text/plain": [
       "<IPython.core.display.HTML object>"
      ]
     },
     "metadata": {},
     "output_type": "display_data"
    }
   ],
   "source": [
    "%%HTML\n",
    "<div class='tableauPlaceholder' id='viz1491392940635' style='position: relative'><noscript><a href='#'><img alt='Dashboard 1 ' src='https:&#47;&#47;public.tableau.com&#47;static&#47;images&#47;cs&#47;cs109b_genre_proportion&#47;Dashboard1&#47;1_rss.png' style='border: none' /></a></noscript><object class='tableauViz'  style='display:none;'><param name='host_url' value='https%3A%2F%2Fpublic.tableau.com%2F' /> <param name='site_root' value='' /><param name='name' value='cs109b_genre_proportion&#47;Dashboard1' /><param name='tabs' value='no' /><param name='toolbar' value='yes' /><param name='static_image' value='https:&#47;&#47;public.tableau.com&#47;static&#47;images&#47;cs&#47;cs109b_genre_proportion&#47;Dashboard1&#47;1.png' /> <param name='animate_transition' value='yes' /><param name='display_static_image' value='yes' /><param name='display_spinner' value='yes' /><param name='display_overlay' value='yes' /><param name='display_count' value='yes' /></object></div>                <script type='text/javascript'>                    var divElement = document.getElementById('viz1491392940635');                    var vizElement = divElement.getElementsByTagName('object')[0];                    vizElement.style.width='1004px';vizElement.style.height='869px';                    var scriptElement = document.createElement('script');                    scriptElement.src = 'https://public.tableau.com/javascripts/api/viz_v1.js';                    vizElement.parentNode.insertBefore(scriptElement, vizElement);                </script>"
   ]
  },
  {
   "cell_type": "code",
   "execution_count": 47,
   "metadata": {
    "collapsed": false,
    "scrolled": true
   },
   "outputs": [
    {
     "name": "stdout",
     "output_type": "stream",
     "text": [
      "set([10752, 80, 10402, 35, 36, 37, 10769, 12, 10770, 878, 16, 27, 18, 9648, 14, 99, 53, 28, 10749, 10751])\n"
     ]
    },
    {
     "data": {
      "text/plain": [
       "{'Action': 3943,\n",
       " 'Adventure': 2364,\n",
       " 'Animation': 1351,\n",
       " 'Comedy': 5859,\n",
       " 'Crime': 2194,\n",
       " 'Documentary': 587,\n",
       " 'Drama': 8867,\n",
       " 'Family': 1677,\n",
       " 'Fantasy': 1456,\n",
       " 'Foreign': 286,\n",
       " 'History': 687,\n",
       " 'Horror': 2240,\n",
       " 'Music': 547,\n",
       " 'Mystery': 1222,\n",
       " 'Romance': 3116,\n",
       " 'Science Fiction': 1753,\n",
       " 'TV Movie': 297,\n",
       " 'Thriller': 4344,\n",
       " 'War': 580,\n",
       " 'Western': 352}"
      ]
     },
     "execution_count": 47,
     "metadata": {},
     "output_type": "execute_result"
    }
   ],
   "source": [
    "genres_list = [item for i in range(df.shape[0]) for item in json.loads(df['genre_ids'][i])]\n",
    "print set(genres_list)\n",
    "genre_to_count = {genre_id_map[genre]:genres_list.count(genre) for genre in genres_list}\n",
    "genre_to_count"
   ]
  },
  {
   "cell_type": "code",
   "execution_count": 62,
   "metadata": {
    "collapsed": false
   },
   "outputs": [],
   "source": [
    "genre_frequencies = {k:float(v)/(df.shape[0]) for k,v in genre_to_count.items()}"
   ]
  },
  {
   "cell_type": "code",
   "execution_count": 73,
   "metadata": {
    "collapsed": false,
    "scrolled": false
   },
   "outputs": [
    {
     "data": {
      "image/png": "[encoded data removed]",
      "text/plain": [
       "<matplotlib.figure.Figure at 0x11c130a50>"
      ]
     },
     "metadata": {},
     "output_type": "display_data"
    }
   ],
   "source": [
    "genre_freq_df = pd.DataFrame.from_dict(genre_frequencies, orient='index')\n",
    "genre_freq_df.plot(kind='bar', title='Percentage of Movies with TMDb Genre', legend=False, ylim=(0.0,1.0))\n",
    "plt.xlabel('TMDb Genre')\n",
    "plt.ylabel('Frequency')\n",
    "plt.show()"
   ]
  },
  {
   "cell_type": "code",
   "execution_count": 5,
   "metadata": {
    "collapsed": false
   },
   "outputs": [],
   "source": [
    "## Plot various differentiating characteristics of genres\n",
    "tmdb_det = pd.read_csv(\"detailed_movie_data_tmdb.csv\")\n",
    "tmdb_pop = pd.read_csv(\"popular_movie_data_tmdb.csv\")\n",
    "tmdb_gen = pd.read_csv(\"tmdb_genre_encoding.csv\")\n",
    "\n",
    "# Create a dataframe for calculations and plotting\n",
    "tmdb_plot = tmdb_gen.merge(tmdb_det.loc[:,['id','revenue','popularity', 'budget']], on = 'id')\n",
    "\n",
    "# Drop no budget/no revenue films\n",
    "tmdb_plot = tmdb_plot[(tmdb_plot.revenue != 0) & (tmdb_plot.budget != 0)]\n",
    "\n",
    "# Create an empty dataframe to store information about average revenue, popularity and budget\n",
    "genre_plot = pd.DataFrame(index = tmdb_gen.columns.drop('id'), \n",
    "                          columns = ['Median Budget', 'Median Revenue','Median Popularity',\n",
    "                                     'Average Budget', 'Average Revenue','Average Popularity'])\n",
    "\n",
    "# Take the median of each statistic by genre \n",
    "for genre in tmdb_gen.columns.drop('id'):\n",
    "    genre_plot.loc[genre, 'Median Budget'] = np.median(tmdb_plot.loc[tmdb_plot[genre]==1, 'budget'])\n",
    "    genre_plot.loc[genre, 'Median Revenue'] = np.median(tmdb_plot.loc[tmdb_plot[genre]==1, 'revenue'])\n",
    "    genre_plot.loc[genre, 'Median Popularity'] = np.median(tmdb_plot.loc[tmdb_plot[genre]==1, 'popularity'])\n",
    "    genre_plot.loc[genre, 'Average Budget'] = np.mean(tmdb_plot.loc[tmdb_plot[genre]==1, 'budget'])\n",
    "    genre_plot.loc[genre, 'Average Revenue'] = np.mean(tmdb_plot.loc[tmdb_plot[genre]==1, 'revenue'])\n",
    "    genre_plot.loc[genre, 'Average Popularity'] = np.mean(tmdb_plot.loc[tmdb_plot[genre]==1, 'popularity'])"
   ]
  },
  {
   "cell_type": "code",
   "execution_count": 6,
   "metadata": {
    "collapsed": false
   },
   "outputs": [
    {
     "data": {
      "image/png": "[encoded data removed]",
      "text/plain": [
       "<matplotlib.figure.Figure at 0x118bc7950>"
      ]
     },
     "metadata": {},
     "output_type": "display_data"
    }
   ],
   "source": [
    "# Plot film characteristics by genre\n",
    "\n",
    "fig, ax = plt.subplots(3, 1, figsize = (12, 20))\n",
    "\n",
    "y_pos = np.arange(len(genre_plot.index))\n",
    "\n",
    "ax[0].barh(y_pos, genre_plot['Average Budget'].sort_values()/1e6,  align = \"center\", color = \"darkblue\")\n",
    "ax[0].set_yticks(y_pos)\n",
    "ax[0].set_yticklabels(genre_plot.sort_values('Average Budget').index, fontsize = 16)\n",
    "ax[0].set_ylim(-1, len(genre_plot.index))\n",
    "ax[0].set_title(\"Average film budget by genre (TMDb)\", fontsize = 22)\n",
    "ax[0].set_xlabel(\"Budget (USD mn)\")\n",
    "\n",
    "ax[1].barh(y_pos, genre_plot['Average Revenue'].sort_values()/1e6, align = \"center\", color = \"darkgreen\")\n",
    "ax[1].set_yticks(y_pos)\n",
    "ax[1].set_yticklabels(genre_plot.sort_values('Average Revenue').index, fontsize = 16)\n",
    "ax[1].set_ylim(-1, len(genre_plot.index))\n",
    "ax[1].set_title(\"Average film revenue by genre (TMDb)\", fontsize = 22)\n",
    "ax[1].set_xlabel(\"Revenue (USD mn)\")\n",
    "\n",
    "ax[2].barh(y_pos, genre_plot['Average Popularity'].sort_values(), align = \"center\", color = \"darkorange\")\n",
    "ax[2].set_yticks(y_pos)\n",
    "ax[2].set_yticklabels(genre_plot.sort_values('Average Popularity').index, fontsize = 16)\n",
    "ax[2].set_ylim(-1, len(genre_plot.index))\n",
    "ax[2].set_title(\"Average film popularity by genre (TMDb)\", fontsize = 22)\n",
    "ax[2].set_xlabel(\"Popularity rating (TMDb)\")\n",
    "\n",
    "plt.show();"
   ]
  },
  {
   "cell_type": "markdown",
   "metadata": {},
   "source": [
    "In the three graphs above, we observe a relatively consistent hierarchy of cost and revenue -- with some exceptions, films that cost more money tend to make more money. Likewise, there is significant differentiation -- these graphs show that different genres are associated with significantly different average costs and average revenues. We also observe significant disparities between the average popularity ratings of different genres. \n",
    "\n",
    "These preliminary charts suggest that these characteristics may be valuable predictors."
   ]
  },
  {
   "cell_type": "code",
   "execution_count": 78,
   "metadata": {
    "collapsed": false
   },
   "outputs": [],
   "source": [
    "imdb_detailed = pd.read_csv('detailed_movie_data_imdb.csv')"
   ]
  },
  {
   "cell_type": "code",
   "execution_count": 79,
   "metadata": {
    "collapsed": false,
    "scrolled": true
   },
   "outputs": [
    {
     "data": {
      "text/plain": [
       "(1862, 84)"
      ]
     },
     "execution_count": 79,
     "metadata": {},
     "output_type": "execute_result"
    }
   ],
   "source": [
    "imdb_detailed.shape"
   ]
  },
  {
   "cell_type": "code",
   "execution_count": 86,
   "metadata": {
    "collapsed": false,
    "scrolled": false
   },
   "outputs": [
    {
     "data": {
      "text/plain": [
       "0     [u'Family', u'Fantasy', u'Musical', u'Romance']\n",
       "1       [u'Action', u'Drama', u'Sci-Fi', u'Thriller']\n",
       "2      [u'Animation', u'Comedy', u'Family', u'Music']\n",
       "3    [u'Action', u'Adventure', u'Fantasy', u'Sci-Fi']\n",
       "4                [u'Action', u'Adventure', u'Sci-Fi']\n",
       "Name: genres, dtype: object"
      ]
     },
     "execution_count": 86,
     "metadata": {},
     "output_type": "execute_result"
    }
   ],
   "source": [
    "imdb_detailed['genres'].head()"
   ]
  },
  {
   "cell_type": "code",
   "execution_count": 119,
   "metadata": {
    "collapsed": false,
    "scrolled": true
   },
   "outputs": [
    {
     "name": "stdout",
     "output_type": "stream",
     "text": [
      "25 set([u'Sci-Fi', u'Crime', u'Romance', u'Animation', u'Music', u'Adult', u'Comedy', u'War', u'Horror', u'Film-Noir', u'Adventure', u'News', u'Thriller', u'Western', u'Mystery', u'Short', u'Drama', u'Action', u'Documentary', u'Musical', u'History', u'Family', u'Fantasy', u'Sport', u'Biography'])\n"
     ]
    }
   ],
   "source": [
    "imdb_genres_list = []\n",
    "for i in range(imdb_detailed.shape[0]):\n",
    "    # have this in here because the file is messed up right now, so nans\n",
    "    try:\n",
    "        x = eval(imdb_detailed['genres'][i])\n",
    "    except:\n",
    "        pass\n",
    "    imdb_genres_list.extend(x)\n",
    "# imdb_genres_list = [item for i in range(imdb_detailed.shape[0]) for item in eval(imdb_detailed['genres'][i])]\n",
    "print len(set(imdb_genres_list)), set(imdb_genres_list)"
   ]
  },
  {
   "cell_type": "code",
   "execution_count": 123,
   "metadata": {
    "collapsed": false,
    "scrolled": false
   },
   "outputs": [
    {
     "data": {
      "text/plain": [
       "{'Action',\n",
       " 'Adventure',\n",
       " 'Animation',\n",
       " 'Comedy',\n",
       " 'Crime',\n",
       " 'Documentary',\n",
       " 'Drama',\n",
       " 'Family',\n",
       " 'Fantasy',\n",
       " 'History',\n",
       " 'Horror',\n",
       " 'Music',\n",
       " 'Mystery',\n",
       " 'Romance',\n",
       " 'Thriller',\n",
       " 'War',\n",
       " 'Western'}"
      ]
     },
     "execution_count": 123,
     "metadata": {},
     "output_type": "execute_result"
    }
   ],
   "source": [
    "set(imdb_genres_list).intersection(set(genre_to_count.keys())) # intersection of genres"
   ]
  },
  {
   "cell_type": "markdown",
   "metadata": {},
   "source": [
    "We can see that there is a significant intersection in the genres between IMDb and TMDb. One potential way of dealing with the slightly different genres is to use only the common genres, especially as many movies are listed under multiple genres."
   ]
  },
  {
   "cell_type": "code",
   "execution_count": 127,
   "metadata": {
    "collapsed": false,
    "scrolled": true
   },
   "outputs": [
    {
     "data": {
      "text/plain": [
       "{u'Adult',\n",
       " u'Biography',\n",
       " u'Film-Noir',\n",
       " 'Foreign',\n",
       " u'Musical',\n",
       " u'News',\n",
       " u'Sci-Fi',\n",
       " 'Science Fiction',\n",
       " u'Short',\n",
       " u'Sport',\n",
       " 'TV Movie'}"
      ]
     },
     "execution_count": 127,
     "metadata": {},
     "output_type": "execute_result"
    }
   ],
   "source": [
    "set(imdb_genres_list).symmetric_difference(set(genre_to_count.keys())) # what's not in intesection?"
   ]
  },
  {
   "cell_type": "markdown",
   "metadata": {},
   "source": [
    "We can also see that some synonymous genres have slightly different names between IMDb and TMDb. For example \"Sci-Fi\" versus \"Science Fiction\". We can simply map those to the same genre in our analysis."
   ]
  },
  {
   "cell_type": "markdown",
   "metadata": {
    "deletable": true,
    "editable": true
   },
   "source": [
    "# Question List"
   ]
  },
  {
   "cell_type": "markdown",
   "metadata": {
    "deletable": true,
    "editable": true
   },
   "source": [
    "1. Is there a relationship between cast size and genre?\n",
    "2. Is there a relationship between overview text and genre?\n",
    "3. Is there a relationship between budget/revenue and genre?\n",
    "4. Does popularity differ systematically between genres?"
   ]
  }
 ],
 "metadata": {
  "anaconda-cloud": {},
  "kernelspec": {
   "display_name": "Python [Root]",
   "language": "python",
   "name": "Python [Root]"
  },
  "language_info": {
   "codemirror_mode": {
    "name": "ipython",
    "version": 2
   },
   "file_extension": ".py",
   "mimetype": "text/x-python",
   "name": "python",
   "nbconvert_exporter": "python",
   "pygments_lexer": "ipython2",
   "version": "2.7.12"
  }
 },
 "nbformat": 4,
 "nbformat_minor": 0
}
