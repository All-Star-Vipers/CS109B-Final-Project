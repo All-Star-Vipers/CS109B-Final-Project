{
 "cells": [
  {
   "cell_type": "code",
   "execution_count": 41,
   "metadata": {
    "collapsed": true
   },
   "outputs": [],
   "source": [
    "#libraries\n",
    "import urllib\n",
    "import tmdbsimple as tmdb #https://github.com/celiao/tmdbsimple\n",
    "import requests\n",
    "import json\n",
    "import pandas as pd\n",
    "from time import sleep\n",
    "import csv"
   ]
  },
  {
   "cell_type": "code",
   "execution_count": 2,
   "metadata": {
    "collapsed": false
   },
   "outputs": [],
   "source": [
    "api_key = {'api-key':'ed5609930331aab76658f32439c5e5e5'}\n",
    "tmdb.API_KEY = 'ed5609930331aab76658f32439c5e5e5'\n"
   ]
  },
  {
   "cell_type": "markdown",
   "metadata": {},
   "source": [
    "http://imdbpy.sourceforge.net/"
   ]
  },
  {
   "cell_type": "code",
   "execution_count": 4,
   "metadata": {
    "collapsed": false
   },
   "outputs": [
    {
     "data": {
      "text/plain": [
       "u'/kRP5dGXDhKt7bDpXX4YBa4dRwlL.jpg'"
      ]
     },
     "execution_count": 4,
     "metadata": {},
     "output_type": "execute_result"
    }
   ],
   "source": [
    "#playing around with API wrapper\n",
    "movie1 = tmdb.Movies(2756)\n",
    "response = movie1.info()\n",
    "movie1.title\n",
    "movie1.id\n",
    "movie1.poster_path\n",
    "#https://image.tmdb.org/t/p/w500/"
   ]
  },
  {
   "cell_type": "code",
   "execution_count": 110,
   "metadata": {
    "collapsed": true
   },
   "outputs": [],
   "source": []
  },
  {
   "cell_type": "code",
   "execution_count": 105,
   "metadata": {
    "collapsed": false
   },
   "outputs": [],
   "source": [
    "def get_image(movie_id):\n",
    "    '''\n",
    "    take in the movie id and returns the url location of the movie's poster with width of 500\n",
    "    saves image of poster to local directory\n",
    "    '''\n",
    "    movie = tmdb.Movies(movie_id)\n",
    "    response = movie.info()\n",
    "    movie_title =  movie.title\n",
    "    poster_url = 'https://image.tmdb.org/t/p/w500' +movie.poster_path\n",
    "    testfile = urllib.URLopener()\n",
    "    testfile.retrieve(poster_url, str(movie_id) + \"-\"+movie_title+\".jpg\")\n",
    "    print movie_title + \"'s url: \"+ poster_url\n",
    "    return poster_url"
   ]
  },
  {
   "cell_type": "code",
   "execution_count": 74,
   "metadata": {
    "collapsed": false
   },
   "outputs": [
    {
     "data": {
      "text/plain": [
       "u'https://image.tmdb.org/t/p/w500/eQs5hh9rxrk1m4xHsIz1w11Ngqb.jpg'"
      ]
     },
     "execution_count": 74,
     "metadata": {},
     "output_type": "execute_result"
    }
   ],
   "source": [
    "movie_id = 2\n",
    "movie = tmdb.Movies(movie_id)\n",
    "response = movie.info()\n",
    "movie_title =  movie.title\n",
    "get_image(5)"
   ]
  },
  {
   "cell_type": "code",
   "execution_count": 93,
   "metadata": {
    "collapsed": false
   },
   "outputs": [
    {
     "data": {
      "text/plain": [
       "[u'https://image.tmdb.org/t/p/w500/gZCJZOn4l0Zj5hAxsMbxoS6CL0u.jpg',\n",
       " u'https://image.tmdb.org/t/p/w500/7ad4iku8cYBuB08g9yAU7tHJik5.jpg',\n",
       " u'https://image.tmdb.org/t/p/w500/eQs5hh9rxrk1m4xHsIz1w11Ngqb.jpg',\n",
       " u'https://image.tmdb.org/t/p/w500/8YyIjOAxwzD3fZMdmJrfiApod4l.jpg']"
      ]
     },
     "execution_count": 93,
     "metadata": {},
     "output_type": "execute_result"
    }
   ],
   "source": [
    "list_of_movie_ids = [2,3,5,8]\n",
    "moviesRDD = sc.parallelize(list_of_movie_ids)\n",
    "map(get_image, list_of_movie_ids)"
   ]
  },
  {
   "cell_type": "code",
   "execution_count": 103,
   "metadata": {
    "collapsed": false
   },
   "outputs": [
    {
     "name": "stdout",
     "output_type": "stream",
     "text": [
      " The Karate Kid 38575 [28, 12, 18, 10751]\n",
      "The Karate Kid 1885 [18]\n",
      "The Next Karate Kid 11231 [12]\n",
      "The Karate Kid, Part II 8856 [12, 18, 28, 10749, 10751]\n",
      "The Karate Kid, Part III 10495 [10751, 12]\n",
      "Dancing Karate Kid 278551 []\n",
      "The Karate Kid 2 415520 []\n",
      "The Little Dragons 219249 [28, 35, 10751]\n",
      "The Champion 149637 []\n"
     ]
    }
   ],
   "source": [
    "### find movie\n",
    "search = tmdb.Search()\n",
    "response = search.movie(query='Karate Kid')\n",
    "for s in search.results:\n",
    "    print s['title'], s['id'],s['genre_ids']"
   ]
  },
  {
   "cell_type": "code",
   "execution_count": 106,
   "metadata": {
    "collapsed": false,
    "scrolled": true
   },
   "outputs": [
    {
     "name": "stdout",
     "output_type": "stream",
     "text": [
      "The Karate Kid's url: https://image.tmdb.org/t/p/w500/l13emtM0cz0HyJeWSxb6ml5RvzT.jpg\n"
     ]
    },
    {
     "data": {
      "text/plain": [
       "u'https://image.tmdb.org/t/p/w500/l13emtM0cz0HyJeWSxb6ml5RvzT.jpg'"
      ]
     },
     "execution_count": 106,
     "metadata": {},
     "output_type": "execute_result"
    }
   ],
   "source": [
    "#favorite movie == 'Karate Kid'\n",
    "get_image(38575)"
   ]
  },
  {
   "cell_type": "code",
   "execution_count": null,
   "metadata": {
    "collapsed": true
   },
   "outputs": [],
   "source": [
    "genre_ids= {\n",
    "  \"genres\": [\n",
    "    {\n",
    "      \"id\": 28,\n",
    "      \"name\": \"Action\"\n",
    "    },\n",
    "    {\n",
    "      \"id\": 12,\n",
    "      \"name\": \"Adventure\"\n",
    "    },\n",
    "    {\n",
    "      \"id\": 16,\n",
    "      \"name\": \"Animation\"\n",
    "    },\n",
    "    {\n",
    "      \"id\": 35,\n",
    "      \"name\": \"Comedy\"\n",
    "    },\n",
    "    {\n",
    "      \"id\": 80,\n",
    "      \"name\": \"Crime\"\n",
    "    },\n",
    "    {\n",
    "      \"id\": 99,\n",
    "      \"name\": \"Documentary\"\n",
    "    },\n",
    "    {\n",
    "      \"id\": 18,\n",
    "      \"name\": \"Drama\"\n",
    "    },\n",
    "    {\n",
    "      \"id\": 10751,\n",
    "      \"name\": \"Family\"\n",
    "    },\n",
    "    {\n",
    "      \"id\": 14,\n",
    "      \"name\": \"Fantasy\"\n",
    "    },\n",
    "    {\n",
    "      \"id\": 36,\n",
    "      \"name\": \"History\"\n",
    "    },\n",
    "    {\n",
    "      \"id\": 27,\n",
    "      \"name\": \"Horror\"\n",
    "    },\n",
    "    {\n",
    "      \"id\": 10402,\n",
    "      \"name\": \"Music\"\n",
    "    },\n",
    "    {\n",
    "      \"id\": 9648,\n",
    "      \"name\": \"Mystery\"\n",
    "    },\n",
    "    {\n",
    "      \"id\": 10749,\n",
    "      \"name\": \"Romance\"\n",
    "    },\n",
    "    {\n",
    "      \"id\": 878,\n",
    "      \"name\": \"Science Fiction\"\n",
    "    },\n",
    "    {\n",
    "      \"id\": 10770,\n",
    "      \"name\": \"TV Movie\"\n",
    "    },\n",
    "    {\n",
    "      \"id\": 53,\n",
    "      \"name\": \"Thriller\"\n",
    "    },\n",
    "    {\n",
    "      \"id\": 10752,\n",
    "      \"name\": \"War\"\n",
    "    },\n",
    "    {\n",
    "      \"id\": 37,\n",
    "      \"name\": \"Western\"\n",
    "    }\n",
    "  ]\n",
    "}"
   ]
  },
  {
   "cell_type": "code",
   "execution_count": 121,
   "metadata": {
    "collapsed": false
   },
   "outputs": [
    {
     "data": {
      "text/plain": [
       "28"
      ]
     },
     "execution_count": 121,
     "metadata": {},
     "output_type": "execute_result"
    }
   ],
   "source": [
    "def get_genre(ids, genre_id_json = genre_ids):\n",
    "    '''\n",
    "    inputs: list of genre ids\n",
    "    outputs: names of genre ids\n",
    "    '''\n",
    "    for i in ids:\n",
    "        \n",
    "genre_ids['genres'][0]['id']"
   ]
  },
  {
   "cell_type": "code",
   "execution_count": 2,
   "metadata": {
    "collapsed": false
   },
   "outputs": [
    {
     "name": "stdout",
     "output_type": "stream",
     "text": [
      "Enter password: ········\n",
      "Verify password: ········\n"
     ]
    },
    {
     "data": {
      "text/plain": [
       "'sha1:7a0dbedc8cb7:2dca412a98219530bc147b35eccf5daf5ec199ed'"
      ]
     },
     "execution_count": 2,
     "metadata": {},
     "output_type": "execute_result"
    }
   ],
   "source": []
  },
  {
   "cell_type": "code",
   "execution_count": 11,
   "metadata": {
    "collapsed": false
   },
   "outputs": [],
   "source": [
    "popular = requests.get('https://api.themoviedb.org/3/movie/popular?api_key=ed5609930331aab76658f32439c5e5e5&language=en-US&page=1')"
   ]
  },
  {
   "cell_type": "code",
   "execution_count": 15,
   "metadata": {
    "collapsed": false
   },
   "outputs": [],
   "source": [
    "data= json.loads(popular.text)"
   ]
  },
  {
   "cell_type": "code",
   "execution_count": 27,
   "metadata": {
    "collapsed": false
   },
   "outputs": [
    {
     "name": "stdout",
     "output_type": "stream",
     "text": [
      "[u'total_results', u'total_pages', u'page', u'results']\n"
     ]
    },
    {
     "data": {
      "text/plain": [
       "20"
      ]
     },
     "execution_count": 27,
     "metadata": {},
     "output_type": "execute_result"
    }
   ],
   "source": [
    "print data.keys()\n",
    "len(data['results'])"
   ]
  },
  {
   "cell_type": "code",
   "execution_count": 29,
   "metadata": {
    "collapsed": false
   },
   "outputs": [
    {
     "data": {
      "text/plain": [
       "976"
      ]
     },
     "execution_count": 29,
     "metadata": {},
     "output_type": "execute_result"
    }
   ],
   "source": [
    "data['page']\n",
    "data['total_pages']"
   ]
  },
  {
   "cell_type": "code",
   "execution_count": null,
   "metadata": {
    "collapsed": true
   },
   "outputs": [],
   "source": []
  },
  {
   "cell_type": "code",
   "execution_count": 36,
   "metadata": {
    "collapsed": false
   },
   "outputs": [],
   "source": [
    "\n",
    "\n",
    "\n",
    "col_names = data['results'][0].keys()"
   ]
  },
  {
   "cell_type": "code",
   "execution_count": 45,
   "metadata": {
    "collapsed": false
   },
   "outputs": [
    {
     "data": {
      "text/html": [
       "<div>\n",
       "<table border=\"1\" class=\"dataframe\">\n",
       "  <thead>\n",
       "    <tr style=\"text-align: right;\">\n",
       "      <th></th>\n",
       "      <th>adult</th>\n",
       "      <th>backdrop_path</th>\n",
       "      <th>genre_ids</th>\n",
       "      <th>id</th>\n",
       "      <th>original_language</th>\n",
       "      <th>original_title</th>\n",
       "      <th>overview</th>\n",
       "      <th>popularity</th>\n",
       "      <th>poster_path</th>\n",
       "      <th>release_date</th>\n",
       "      <th>title</th>\n",
       "      <th>video</th>\n",
       "      <th>vote_average</th>\n",
       "      <th>vote_count</th>\n",
       "    </tr>\n",
       "  </thead>\n",
       "  <tbody>\n",
       "    <tr>\n",
       "      <th>0</th>\n",
       "      <td>False</td>\n",
       "      <td>/6aUWe0GSl69wMTSWWexsorMIvwU.jpg</td>\n",
       "      <td>[14, 10402, 10749]</td>\n",
       "      <td>321612</td>\n",
       "      <td>en</td>\n",
       "      <td>Beauty and the Beast</td>\n",
       "      <td>A live-action adaptation of Disney's version o...</td>\n",
       "      <td>205.266147</td>\n",
       "      <td>/tnmL0g604PDRJwGJ5fsUSYKFo9.jpg</td>\n",
       "      <td>2017-03-17</td>\n",
       "      <td>Beauty and the Beast</td>\n",
       "      <td>False</td>\n",
       "      <td>7.1</td>\n",
       "      <td>1222</td>\n",
       "    </tr>\n",
       "    <tr>\n",
       "      <th>1</th>\n",
       "      <td>False</td>\n",
       "      <td>/5pAGnkFYSsFJ99ZxDIYnhQbQFXs.jpg</td>\n",
       "      <td>[28, 18, 878]</td>\n",
       "      <td>263115</td>\n",
       "      <td>en</td>\n",
       "      <td>Logan</td>\n",
       "      <td>In the near future, a weary Logan cares for an...</td>\n",
       "      <td>128.555807</td>\n",
       "      <td>/45Y1G5FEgttPAwjTYic6czC9xCn.jpg</td>\n",
       "      <td>2017-02-28</td>\n",
       "      <td>Logan</td>\n",
       "      <td>False</td>\n",
       "      <td>7.6</td>\n",
       "      <td>2060</td>\n",
       "    </tr>\n",
       "    <tr>\n",
       "      <th>2</th>\n",
       "      <td>False</td>\n",
       "      <td>/fxDXp8un4qNY9b1dLd7SH6CKzC.jpg</td>\n",
       "      <td>[16, 35, 18, 10751, 10402]</td>\n",
       "      <td>335797</td>\n",
       "      <td>en</td>\n",
       "      <td>Sing</td>\n",
       "      <td>A koala named Buster recruits his best friend ...</td>\n",
       "      <td>99.310355</td>\n",
       "      <td>/s9ye87pvq2IaDvjv9x4IOXVjvA7.jpg</td>\n",
       "      <td>2016-11-23</td>\n",
       "      <td>Sing</td>\n",
       "      <td>False</td>\n",
       "      <td>6.7</td>\n",
       "      <td>1000</td>\n",
       "    </tr>\n",
       "    <tr>\n",
       "      <th>3</th>\n",
       "      <td>False</td>\n",
       "      <td>/pGwChWiAY1bdoxL79sXmaFBlYJH.jpg</td>\n",
       "      <td>[878, 28, 12, 14]</td>\n",
       "      <td>293167</td>\n",
       "      <td>en</td>\n",
       "      <td>Kong: Skull Island</td>\n",
       "      <td>Explore the mysterious and dangerous home of t...</td>\n",
       "      <td>62.129471</td>\n",
       "      <td>/aoUyphk4nwffrwlZRaOa0eijgpr.jpg</td>\n",
       "      <td>2017-03-08</td>\n",
       "      <td>Kong: Skull Island</td>\n",
       "      <td>False</td>\n",
       "      <td>6.1</td>\n",
       "      <td>864</td>\n",
       "    </tr>\n",
       "    <tr>\n",
       "      <th>4</th>\n",
       "      <td>False</td>\n",
       "      <td>/dkMD5qlogeRMiEixC4YNPUvax2T.jpg</td>\n",
       "      <td>[28, 12, 878, 53]</td>\n",
       "      <td>135397</td>\n",
       "      <td>en</td>\n",
       "      <td>Jurassic World</td>\n",
       "      <td>Twenty-two years after the events of Jurassic ...</td>\n",
       "      <td>56.492605</td>\n",
       "      <td>/jjBgi2r5cRt36xF6iNUEhzscEcb.jpg</td>\n",
       "      <td>2015-06-09</td>\n",
       "      <td>Jurassic World</td>\n",
       "      <td>False</td>\n",
       "      <td>6.5</td>\n",
       "      <td>6699</td>\n",
       "    </tr>\n",
       "  </tbody>\n",
       "</table>\n",
       "</div>"
      ],
      "text/plain": [
       "   adult                     backdrop_path                   genre_ids  \\\n",
       "0  False  /6aUWe0GSl69wMTSWWexsorMIvwU.jpg          [14, 10402, 10749]   \n",
       "1  False  /5pAGnkFYSsFJ99ZxDIYnhQbQFXs.jpg               [28, 18, 878]   \n",
       "2  False   /fxDXp8un4qNY9b1dLd7SH6CKzC.jpg  [16, 35, 18, 10751, 10402]   \n",
       "3  False  /pGwChWiAY1bdoxL79sXmaFBlYJH.jpg           [878, 28, 12, 14]   \n",
       "4  False  /dkMD5qlogeRMiEixC4YNPUvax2T.jpg           [28, 12, 878, 53]   \n",
       "\n",
       "       id original_language        original_title  \\\n",
       "0  321612                en  Beauty and the Beast   \n",
       "1  263115                en                 Logan   \n",
       "2  335797                en                  Sing   \n",
       "3  293167                en    Kong: Skull Island   \n",
       "4  135397                en        Jurassic World   \n",
       "\n",
       "                                            overview  popularity  \\\n",
       "0  A live-action adaptation of Disney's version o...  205.266147   \n",
       "1  In the near future, a weary Logan cares for an...  128.555807   \n",
       "2  A koala named Buster recruits his best friend ...   99.310355   \n",
       "3  Explore the mysterious and dangerous home of t...   62.129471   \n",
       "4  Twenty-two years after the events of Jurassic ...   56.492605   \n",
       "\n",
       "                        poster_path release_date                 title  video  \\\n",
       "0   /tnmL0g604PDRJwGJ5fsUSYKFo9.jpg   2017-03-17  Beauty and the Beast  False   \n",
       "1  /45Y1G5FEgttPAwjTYic6czC9xCn.jpg   2017-02-28                 Logan  False   \n",
       "2  /s9ye87pvq2IaDvjv9x4IOXVjvA7.jpg   2016-11-23                  Sing  False   \n",
       "3  /aoUyphk4nwffrwlZRaOa0eijgpr.jpg   2017-03-08    Kong: Skull Island  False   \n",
       "4  /jjBgi2r5cRt36xF6iNUEhzscEcb.jpg   2015-06-09        Jurassic World  False   \n",
       "\n",
       "   vote_average  vote_count  \n",
       "0           7.1        1222  \n",
       "1           7.6        2060  \n",
       "2           6.7        1000  \n",
       "3           6.1         864  \n",
       "4           6.5        6699  "
      ]
     },
     "execution_count": 45,
     "metadata": {},
     "output_type": "execute_result"
    }
   ],
   "source": [
    "df = []\n",
    "total_pages = range(1,976+1)\n",
    "for page in total_pages:\n",
    "    current_page = requests.get('https://api.themoviedb.org/3/movie/popular?api_key=ed5609930331aab76658f32439c5e5e5&language=en-US&page='+str(page))\n",
    "    sleep(0.25)\n",
    "    data= json.loads(popular.text)\n",
    "    for element in data['results']:\n",
    "        df.append(element)\n",
    "df = pd.DataFrame(df)\n",
    "df.head()"
   ]
  },
  {
   "cell_type": "code",
   "execution_count": 46,
   "metadata": {
    "collapsed": false
   },
   "outputs": [
    {
     "data": {
      "text/plain": [
       "(19520, 14)"
      ]
     },
     "execution_count": 46,
     "metadata": {},
     "output_type": "execute_result"
    }
   ],
   "source": [
    "df.shape"
   ]
  },
  {
   "cell_type": "code",
   "execution_count": 55,
   "metadata": {
    "collapsed": false
   },
   "outputs": [
    {
     "name": "stdout",
     "output_type": "stream",
     "text": [
      "adult\n",
      "backdrop_path\n",
      "genre_ids\n",
      "id\n",
      "original_language\n",
      "original_title\n",
      "overview\n",
      "popularity\n",
      "poster_path\n",
      "release_date\n",
      "title\n",
      "video\n",
      "vote_average\n",
      "vote_count\n"
     ]
    }
   ],
   "source": [
    "columns = df.columns\n",
    "df['overview'] = df['overview'].apply(lambda x: [x])\n",
    "for column in columns:\n",
    "    print column\n",
    "    df[column] = df[column].astype(str)"
   ]
  },
  {
   "cell_type": "code",
   "execution_count": 56,
   "metadata": {
    "collapsed": false
   },
   "outputs": [],
   "source": [
    "df.to_csv('stage_1_data.csv', index = False)"
   ]
  },
  {
   "cell_type": "code",
   "execution_count": null,
   "metadata": {
    "collapsed": true
   },
   "outputs": [],
   "source": []
  }
 ],
 "metadata": {
  "kernelspec": {
   "display_name": "Python 2",
   "language": "python",
   "name": "python2"
  },
  "language_info": {
   "codemirror_mode": {
    "name": "ipython",
    "version": 2
   },
   "file_extension": ".py",
   "mimetype": "text/x-python",
   "name": "python",
   "nbconvert_exporter": "python",
   "pygments_lexer": "ipython2",
   "version": "2.7.13"
  }
 },
 "nbformat": 4,
 "nbformat_minor": 0
}
