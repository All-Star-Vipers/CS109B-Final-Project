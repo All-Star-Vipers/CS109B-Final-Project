{
 "cells": [
  {
   "cell_type": "code",
   "execution_count": 46,
   "metadata": {
    "collapsed": true
   },
   "outputs": [],
   "source": [
    "#libraries\n",
    "import urllib\n",
    "import tmdbsimple as tmdb #https://github.com/celiao/tmdbsimple\n"
   ]
  },
  {
   "cell_type": "code",
   "execution_count": 15,
   "metadata": {
    "collapsed": false
   },
   "outputs": [],
   "source": [
    "api_key = {'api-key':'ed5609930331aab76658f32439c5e5e5'}\n",
    "tmdb.API_KEY = 'ed5609930331aab76658f32439c5e5e5'\n"
   ]
  },
  {
   "cell_type": "markdown",
   "metadata": {},
   "source": [
    "http://imdbpy.sourceforge.net/"
   ]
  },
  {
   "cell_type": "code",
   "execution_count": 35,
   "metadata": {
    "collapsed": false
   },
   "outputs": [
    {
     "data": {
      "text/plain": [
       "2756"
      ]
     },
     "execution_count": 35,
     "metadata": {},
     "output_type": "execute_result"
    }
   ],
   "source": [
    "#playing around with API wrapper\n",
    "movie1 = tmdb.Movies(2756)\n",
    "response = movie1.info()\n",
    "movie1.title\n",
    "movie1.id\n",
    "movie1.poster_path\n",
    "https://image.tmdb.org/t/p/w500/"
   ]
  },
  {
   "cell_type": "code",
   "execution_count": 110,
   "metadata": {
    "collapsed": true
   },
   "outputs": [],
   "source": []
  },
  {
   "cell_type": "code",
   "execution_count": 105,
   "metadata": {
    "collapsed": false
   },
   "outputs": [],
   "source": [
    "def get_image(movie_id):\n",
    "    '''\n",
    "    take in the movie id and returns the url location of the movie's poster with width of 500\n",
    "    saves image of poster to local directory\n",
    "    '''\n",
    "    movie = tmdb.Movies(movie_id)\n",
    "    response = movie.info()\n",
    "    movie_title =  movie.title\n",
    "    poster_url = 'https://image.tmdb.org/t/p/w500' +movie.poster_path\n",
    "    testfile = urllib.URLopener()\n",
    "    testfile.retrieve(poster_url, str(movie_id) + \"-\"+movie_title+\".jpg\")\n",
    "    print movie_title + \"'s url: \"+ poster_url\n",
    "    return poster_url"
   ]
  },
  {
   "cell_type": "code",
   "execution_count": 74,
   "metadata": {
    "collapsed": false
   },
   "outputs": [
    {
     "data": {
      "text/plain": [
       "u'https://image.tmdb.org/t/p/w500/eQs5hh9rxrk1m4xHsIz1w11Ngqb.jpg'"
      ]
     },
     "execution_count": 74,
     "metadata": {},
     "output_type": "execute_result"
    }
   ],
   "source": [
    "movie_id = 2\n",
    "movie = tmdb.Movies(movie_id)\n",
    "response = movie.info()\n",
    "movie_title =  movie.title\n",
    "get_image(5)"
   ]
  },
  {
   "cell_type": "code",
   "execution_count": 93,
   "metadata": {
    "collapsed": false
   },
   "outputs": [
    {
     "data": {
      "text/plain": [
       "[u'https://image.tmdb.org/t/p/w500/gZCJZOn4l0Zj5hAxsMbxoS6CL0u.jpg',\n",
       " u'https://image.tmdb.org/t/p/w500/7ad4iku8cYBuB08g9yAU7tHJik5.jpg',\n",
       " u'https://image.tmdb.org/t/p/w500/eQs5hh9rxrk1m4xHsIz1w11Ngqb.jpg',\n",
       " u'https://image.tmdb.org/t/p/w500/8YyIjOAxwzD3fZMdmJrfiApod4l.jpg']"
      ]
     },
     "execution_count": 93,
     "metadata": {},
     "output_type": "execute_result"
    }
   ],
   "source": [
    "list_of_movie_ids = [2,3,5,8]\n",
    "moviesRDD = sc.parallelize(list_of_movie_ids)\n",
    "map(get_image, list_of_movie_ids)"
   ]
  },
  {
   "cell_type": "code",
   "execution_count": 103,
   "metadata": {
    "collapsed": false
   },
   "outputs": [
    {
     "name": "stdout",
     "output_type": "stream",
     "text": [
      " The Karate Kid 38575 [28, 12, 18, 10751]\n",
      "The Karate Kid 1885 [18]\n",
      "The Next Karate Kid 11231 [12]\n",
      "The Karate Kid, Part II 8856 [12, 18, 28, 10749, 10751]\n",
      "The Karate Kid, Part III 10495 [10751, 12]\n",
      "Dancing Karate Kid 278551 []\n",
      "The Karate Kid 2 415520 []\n",
      "The Little Dragons 219249 [28, 35, 10751]\n",
      "The Champion 149637 []\n"
     ]
    }
   ],
   "source": [
    "### find movie\n",
    "search = tmdb.Search()\n",
    "response = search.movie(query='Karate Kid')\n",
    "for s in search.results:\n",
    "    print s['title'], s['id'],s['genre_ids']"
   ]
  },
  {
   "cell_type": "code",
   "execution_count": 106,
   "metadata": {
    "collapsed": false,
    "scrolled": true
   },
   "outputs": [
    {
     "name": "stdout",
     "output_type": "stream",
     "text": [
      "The Karate Kid's url: https://image.tmdb.org/t/p/w500/l13emtM0cz0HyJeWSxb6ml5RvzT.jpg\n"
     ]
    },
    {
     "data": {
      "text/plain": [
       "u'https://image.tmdb.org/t/p/w500/l13emtM0cz0HyJeWSxb6ml5RvzT.jpg'"
      ]
     },
     "execution_count": 106,
     "metadata": {},
     "output_type": "execute_result"
    }
   ],
   "source": [
    "#favorite movie == 'Karate Kid'\n",
    "get_image(38575)"
   ]
  },
  {
   "cell_type": "code",
   "execution_count": null,
   "metadata": {
    "collapsed": true
   },
   "outputs": [],
   "source": [
    "genre_ids= {\n",
    "  \"genres\": [\n",
    "    {\n",
    "      \"id\": 28,\n",
    "      \"name\": \"Action\"\n",
    "    },\n",
    "    {\n",
    "      \"id\": 12,\n",
    "      \"name\": \"Adventure\"\n",
    "    },\n",
    "    {\n",
    "      \"id\": 16,\n",
    "      \"name\": \"Animation\"\n",
    "    },\n",
    "    {\n",
    "      \"id\": 35,\n",
    "      \"name\": \"Comedy\"\n",
    "    },\n",
    "    {\n",
    "      \"id\": 80,\n",
    "      \"name\": \"Crime\"\n",
    "    },\n",
    "    {\n",
    "      \"id\": 99,\n",
    "      \"name\": \"Documentary\"\n",
    "    },\n",
    "    {\n",
    "      \"id\": 18,\n",
    "      \"name\": \"Drama\"\n",
    "    },\n",
    "    {\n",
    "      \"id\": 10751,\n",
    "      \"name\": \"Family\"\n",
    "    },\n",
    "    {\n",
    "      \"id\": 14,\n",
    "      \"name\": \"Fantasy\"\n",
    "    },\n",
    "    {\n",
    "      \"id\": 36,\n",
    "      \"name\": \"History\"\n",
    "    },\n",
    "    {\n",
    "      \"id\": 27,\n",
    "      \"name\": \"Horror\"\n",
    "    },\n",
    "    {\n",
    "      \"id\": 10402,\n",
    "      \"name\": \"Music\"\n",
    "    },\n",
    "    {\n",
    "      \"id\": 9648,\n",
    "      \"name\": \"Mystery\"\n",
    "    },\n",
    "    {\n",
    "      \"id\": 10749,\n",
    "      \"name\": \"Romance\"\n",
    "    },\n",
    "    {\n",
    "      \"id\": 878,\n",
    "      \"name\": \"Science Fiction\"\n",
    "    },\n",
    "    {\n",
    "      \"id\": 10770,\n",
    "      \"name\": \"TV Movie\"\n",
    "    },\n",
    "    {\n",
    "      \"id\": 53,\n",
    "      \"name\": \"Thriller\"\n",
    "    },\n",
    "    {\n",
    "      \"id\": 10752,\n",
    "      \"name\": \"War\"\n",
    "    },\n",
    "    {\n",
    "      \"id\": 37,\n",
    "      \"name\": \"Western\"\n",
    "    }\n",
    "  ]\n",
    "}"
   ]
  },
  {
   "cell_type": "code",
   "execution_count": 121,
   "metadata": {
    "collapsed": false
   },
   "outputs": [
    {
     "data": {
      "text/plain": [
       "28"
      ]
     },
     "execution_count": 121,
     "metadata": {},
     "output_type": "execute_result"
    }
   ],
   "source": [
    "def get_genre(ids, genre_id_json = genre_ids):\n",
    "    '''\n",
    "    inputs: list of genre ids\n",
    "    outputs: names of genre ids\n",
    "    '''\n",
    "    for i in ids:\n",
    "        \n",
    "genre_ids['genres'][0]['id']"
   ]
  },
  {
   "cell_type": "code",
   "execution_count": null,
   "metadata": {
    "collapsed": true
   },
   "outputs": [],
   "source": []
  }
 ],
 "metadata": {
  "kernelspec": {
   "display_name": "Python 2",
   "language": "python",
   "name": "python2"
  },
  "language_info": {
   "codemirror_mode": {
    "name": "ipython",
    "version": 2
   },
   "file_extension": ".py",
   "mimetype": "text/x-python",
   "name": "python",
   "nbconvert_exporter": "python",
   "pygments_lexer": "ipython2",
   "version": "2.7.11"
  }
 },
 "nbformat": 4,
 "nbformat_minor": 0
}
