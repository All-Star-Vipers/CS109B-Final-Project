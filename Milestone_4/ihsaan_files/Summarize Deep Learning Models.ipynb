{
 "cells": [
  {
   "cell_type": "code",
   "execution_count": 92,
   "metadata": {
    "collapsed": false
   },
   "outputs": [],
   "source": [
    "import numpy as np\n",
    "import pandas as pd\n",
    "from keras.utils import np_utils\n",
    "from sklearn.preprocessing import LabelEncoder\n",
    "import os\n",
    "from sklearn.metrics import accuracy_score, precision_score, recall_score, f1_score, confusion_matrix, roc_curve, auc, log_loss\n",
    "import seaborn as sn\n",
    "import matplotlib.pyplot as plt\n",
    "%matplotlib inline"
   ]
  },
  {
   "cell_type": "code",
   "execution_count": 93,
   "metadata": {
    "collapsed": true
   },
   "outputs": [],
   "source": [
    "def get_model_summaries(predictions, actuals, labels, model_name):\n",
    "    actuals = [labels[actual] for actual in np.argmax(actuals, axis = 1)]\n",
    "    loss = log_loss(actuals, predictions)\n",
    "    predictions = [labels[prediction] for prediction in np.argmax(predictions, axis = 1)]\n",
    "    accuracy = accuracy_score(actuals, predictions)\n",
    "    precision_weighted = precision_score(actuals, predictions, labels=labels, average='weighted')\n",
    "    recall_weighted = recall_score(actuals, predictions, labels=labels, average='weighted')\n",
    "    f1_weighted = f1_score(actuals, predictions, labels=labels, average='weighted')\n",
    "    return [model_name, loss, accuracy, precision_weighted, recall_weighted, f1_weighted]"
   ]
  },
  {
   "cell_type": "code",
   "execution_count": 100,
   "metadata": {
    "collapsed": true
   },
   "outputs": [],
   "source": [
    "def model_evaluation(predictions, y, column_labels, label):\n",
    "    y = [labels[actual] for actual in np.argmax(y, axis = 1)]\n",
    "    #calculate loss\n",
    "    loss = log_loss(y, predictions)\n",
    "    print('{0} Loss: {1:.4f}'.format(label, loss))\n",
    "    predictions = [labels[prediction] for prediction in np.argmax(predictions, axis = 1)]\n",
    "    #calculate accuracy\n",
    "    accuracy = accuracy_score(y, predictions)\n",
    "    print('{0} Accuracy: {1:.4f}'.format(label, accuracy))\n",
    "    #calculate precision\n",
    "    precision_weighted = precision_score(y, predictions, labels=column_labels, average='weighted')\n",
    "    print('{0} Precision - Weighted: {1:.4f}'.format(label, precision_weighted))\n",
    "    #calculate recall\n",
    "    recall_weighted = recall_score(y, predictions, labels=column_labels, average='weighted')\n",
    "    print('{0} Recall - Weighted: {1:.4f}'.format(label, recall_weighted))\n",
    "    #calculate f1\n",
    "    f1_weighted = f1_score(y, predictions, labels=column_labels, average='weighted')\n",
    "    print('{0} F1 - Weighted: {1:.4f}'.format(label, f1_weighted))    \n",
    "    cm = confusion_matrix(y, predictions)\n",
    "    cm = cm.astype('float') / cm.sum(axis=1)\n",
    "    df_cm = pd.DataFrame(cm, index = column_labels, columns = column_labels)\n",
    "    plt.figure(figsize = (10,7))\n",
    "    sn.heatmap(df_cm, annot=True, fmt='.3f', cmap='Blues')\n",
    "    plt.ylabel('True label')\n",
    "    plt.xlabel('Predicted label')\n",
    "    plt.show()"
   ]
  },
  {
   "cell_type": "code",
   "execution_count": 75,
   "metadata": {
    "collapsed": false
   },
   "outputs": [],
   "source": [
    "labels = pd.read_csv('train_w_poster_updated_genres.csv')['genre']\n",
    "labels = sorted(labels.unique())\n",
    "y_train = np.load('train_outcome_keras.npy')\n",
    "y_test = np.load('test_outcome_keras.npy')"
   ]
  },
  {
   "cell_type": "code",
   "execution_count": 76,
   "metadata": {
    "collapsed": true
   },
   "outputs": [],
   "source": [
    "predictions = os.listdir('predictions/')\n",
    "predictions = [prediction for prediction in predictions if np.load('predictions/' + prediction).shape[1]==8]"
   ]
  },
  {
   "cell_type": "code",
   "execution_count": 80,
   "metadata": {
    "collapsed": false
   },
   "outputs": [],
   "source": [
    "train_predictions = [prediction for prediction in predictions if 'test' not in prediction]\n",
    "test_predictions = [prediction for prediction in predictions if 'test' in prediction]"
   ]
  },
  {
   "cell_type": "code",
   "execution_count": 94,
   "metadata": {
    "collapsed": false
   },
   "outputs": [],
   "source": [
    "train_scores = []\n",
    "for prediction in train_predictions:\n",
    "    prediction_matrix = np.load('predictions/' + prediction)\n",
    "    train_scores.append(get_model_summaries(prediction_matrix, y_train, labels, prediction))\n",
    "train_summary_df = pd.DataFrame(train_scores, columns  = ['model_name', 'loss', 'accuracy', 'precision', 'recall', 'f1'])"
   ]
  },
  {
   "cell_type": "code",
   "execution_count": 96,
   "metadata": {
    "collapsed": false
   },
   "outputs": [],
   "source": [
    "test_scores = []\n",
    "for prediction in test_predictions:\n",
    "    prediction_matrix = np.load('predictions/' + prediction)\n",
    "    test_scores.append(get_model_summaries(prediction_matrix, y_test, labels, prediction))\n",
    "test_summary_df = pd.DataFrame(test_scores, columns  = ['model_name', 'loss', 'accuracy', 'precision', 'recall', 'f1'])"
   ]
  },
  {
   "cell_type": "code",
   "execution_count": 97,
   "metadata": {
    "collapsed": false
   },
   "outputs": [
    {
     "data": {
      "text/html": [
       "<div>\n",
       "<table border=\"1\" class=\"dataframe\">\n",
       "  <thead>\n",
       "    <tr style=\"text-align: right;\">\n",
       "      <th></th>\n",
       "      <th>model_name</th>\n",
       "      <th>loss</th>\n",
       "      <th>accuracy</th>\n",
       "      <th>precision</th>\n",
       "      <th>recall</th>\n",
       "      <th>f1</th>\n",
       "    </tr>\n",
       "  </thead>\n",
       "  <tbody>\n",
       "    <tr>\n",
       "      <th>0</th>\n",
       "      <td>model_47_combined_train_predictions.npy</td>\n",
       "      <td>1.142122</td>\n",
       "      <td>0.564410</td>\n",
       "      <td>0.558174</td>\n",
       "      <td>0.564410</td>\n",
       "      <td>0.554444</td>\n",
       "    </tr>\n",
       "    <tr>\n",
       "      <th>1</th>\n",
       "      <td>model_48_train_predictions.npy</td>\n",
       "      <td>1.663048</td>\n",
       "      <td>0.345148</td>\n",
       "      <td>0.414806</td>\n",
       "      <td>0.345148</td>\n",
       "      <td>0.198251</td>\n",
       "    </tr>\n",
       "    <tr>\n",
       "      <th>2</th>\n",
       "      <td>model_49_image_train_predictions.npy</td>\n",
       "      <td>22.989266</td>\n",
       "      <td>0.334393</td>\n",
       "      <td>0.111818</td>\n",
       "      <td>0.334393</td>\n",
       "      <td>0.167594</td>\n",
       "    </tr>\n",
       "    <tr>\n",
       "      <th>3</th>\n",
       "      <td>model_50_image_train_predictions.npy</td>\n",
       "      <td>1.853908</td>\n",
       "      <td>0.334393</td>\n",
       "      <td>0.111818</td>\n",
       "      <td>0.334393</td>\n",
       "      <td>0.167594</td>\n",
       "    </tr>\n",
       "    <tr>\n",
       "      <th>4</th>\n",
       "      <td>model_51_metadata_train_predictions.npy</td>\n",
       "      <td>1.155935</td>\n",
       "      <td>0.560865</td>\n",
       "      <td>0.556345</td>\n",
       "      <td>0.560865</td>\n",
       "      <td>0.550554</td>\n",
       "    </tr>\n",
       "    <tr>\n",
       "      <th>5</th>\n",
       "      <td>model_52_combined_train_predictions.npy</td>\n",
       "      <td>1.179994</td>\n",
       "      <td>0.551088</td>\n",
       "      <td>0.545236</td>\n",
       "      <td>0.551088</td>\n",
       "      <td>0.538013</td>\n",
       "    </tr>\n",
       "    <tr>\n",
       "      <th>6</th>\n",
       "      <td>model_52_image_train_predictions.npy</td>\n",
       "      <td>1.853886</td>\n",
       "      <td>0.334393</td>\n",
       "      <td>0.111818</td>\n",
       "      <td>0.334393</td>\n",
       "      <td>0.167594</td>\n",
       "    </tr>\n",
       "    <tr>\n",
       "      <th>7</th>\n",
       "      <td>model_53_image_train_predictions.npy</td>\n",
       "      <td>1.757863</td>\n",
       "      <td>0.332193</td>\n",
       "      <td>0.145770</td>\n",
       "      <td>0.332193</td>\n",
       "      <td>0.177453</td>\n",
       "    </tr>\n",
       "    <tr>\n",
       "      <th>8</th>\n",
       "      <td>model_53_pretrained_train_predictions.npy</td>\n",
       "      <td>22.989266</td>\n",
       "      <td>0.334393</td>\n",
       "      <td>0.111818</td>\n",
       "      <td>0.334393</td>\n",
       "      <td>0.167594</td>\n",
       "    </tr>\n",
       "    <tr>\n",
       "      <th>9</th>\n",
       "      <td>model_54_image_train_predictions.npy</td>\n",
       "      <td>30.701604</td>\n",
       "      <td>0.111098</td>\n",
       "      <td>0.012343</td>\n",
       "      <td>0.111098</td>\n",
       "      <td>0.022217</td>\n",
       "    </tr>\n",
       "    <tr>\n",
       "      <th>10</th>\n",
       "      <td>model_54_pretrained_train_predictions.npy</td>\n",
       "      <td>22.989266</td>\n",
       "      <td>0.334393</td>\n",
       "      <td>0.111818</td>\n",
       "      <td>0.334393</td>\n",
       "      <td>0.167594</td>\n",
       "    </tr>\n",
       "    <tr>\n",
       "      <th>11</th>\n",
       "      <td>model_56_image_train_predictions.npy</td>\n",
       "      <td>1.853761</td>\n",
       "      <td>0.334393</td>\n",
       "      <td>0.111818</td>\n",
       "      <td>0.334393</td>\n",
       "      <td>0.167594</td>\n",
       "    </tr>\n",
       "  </tbody>\n",
       "</table>\n",
       "</div>"
      ],
      "text/plain": [
       "                                   model_name       loss  accuracy  precision  \\\n",
       "0     model_47_combined_train_predictions.npy   1.142122  0.564410   0.558174   \n",
       "1              model_48_train_predictions.npy   1.663048  0.345148   0.414806   \n",
       "2        model_49_image_train_predictions.npy  22.989266  0.334393   0.111818   \n",
       "3        model_50_image_train_predictions.npy   1.853908  0.334393   0.111818   \n",
       "4     model_51_metadata_train_predictions.npy   1.155935  0.560865   0.556345   \n",
       "5     model_52_combined_train_predictions.npy   1.179994  0.551088   0.545236   \n",
       "6        model_52_image_train_predictions.npy   1.853886  0.334393   0.111818   \n",
       "7        model_53_image_train_predictions.npy   1.757863  0.332193   0.145770   \n",
       "8   model_53_pretrained_train_predictions.npy  22.989266  0.334393   0.111818   \n",
       "9        model_54_image_train_predictions.npy  30.701604  0.111098   0.012343   \n",
       "10  model_54_pretrained_train_predictions.npy  22.989266  0.334393   0.111818   \n",
       "11       model_56_image_train_predictions.npy   1.853761  0.334393   0.111818   \n",
       "\n",
       "      recall        f1  \n",
       "0   0.564410  0.554444  \n",
       "1   0.345148  0.198251  \n",
       "2   0.334393  0.167594  \n",
       "3   0.334393  0.167594  \n",
       "4   0.560865  0.550554  \n",
       "5   0.551088  0.538013  \n",
       "6   0.334393  0.167594  \n",
       "7   0.332193  0.177453  \n",
       "8   0.334393  0.167594  \n",
       "9   0.111098  0.022217  \n",
       "10  0.334393  0.167594  \n",
       "11  0.334393  0.167594  "
      ]
     },
     "execution_count": 97,
     "metadata": {},
     "output_type": "execute_result"
    }
   ],
   "source": [
    "train_summary_df"
   ]
  },
  {
   "cell_type": "code",
   "execution_count": 98,
   "metadata": {
    "collapsed": false
   },
   "outputs": [
    {
     "data": {
      "text/html": [
       "<div>\n",
       "<table border=\"1\" class=\"dataframe\">\n",
       "  <thead>\n",
       "    <tr style=\"text-align: right;\">\n",
       "      <th></th>\n",
       "      <th>model_name</th>\n",
       "      <th>loss</th>\n",
       "      <th>accuracy</th>\n",
       "      <th>precision</th>\n",
       "      <th>recall</th>\n",
       "      <th>f1</th>\n",
       "    </tr>\n",
       "  </thead>\n",
       "  <tbody>\n",
       "    <tr>\n",
       "      <th>0</th>\n",
       "      <td>model_47_combined_test_predictions.npy</td>\n",
       "      <td>1.503333</td>\n",
       "      <td>0.451788</td>\n",
       "      <td>0.447104</td>\n",
       "      <td>0.451788</td>\n",
       "      <td>0.443845</td>\n",
       "    </tr>\n",
       "    <tr>\n",
       "      <th>1</th>\n",
       "      <td>model_48_test_predictions.npy</td>\n",
       "      <td>1.802223</td>\n",
       "      <td>0.341917</td>\n",
       "      <td>0.200591</td>\n",
       "      <td>0.341917</td>\n",
       "      <td>0.185148</td>\n",
       "    </tr>\n",
       "    <tr>\n",
       "      <th>2</th>\n",
       "      <td>model_49_image_test_predictions.npy</td>\n",
       "      <td>22.610793</td>\n",
       "      <td>0.345351</td>\n",
       "      <td>0.119267</td>\n",
       "      <td>0.345351</td>\n",
       "      <td>0.177302</td>\n",
       "    </tr>\n",
       "    <tr>\n",
       "      <th>3</th>\n",
       "      <td>model_50_image_test_predictions.npy</td>\n",
       "      <td>1.841366</td>\n",
       "      <td>0.345351</td>\n",
       "      <td>0.119267</td>\n",
       "      <td>0.345351</td>\n",
       "      <td>0.177302</td>\n",
       "    </tr>\n",
       "    <tr>\n",
       "      <th>4</th>\n",
       "      <td>model_51_metadata_test_predictions.npy</td>\n",
       "      <td>1.524408</td>\n",
       "      <td>0.444349</td>\n",
       "      <td>0.440032</td>\n",
       "      <td>0.444349</td>\n",
       "      <td>0.434043</td>\n",
       "    </tr>\n",
       "    <tr>\n",
       "      <th>5</th>\n",
       "      <td>model_52_combined_test_predictions.npy</td>\n",
       "      <td>1.492047</td>\n",
       "      <td>0.456938</td>\n",
       "      <td>0.445560</td>\n",
       "      <td>0.456938</td>\n",
       "      <td>0.442526</td>\n",
       "    </tr>\n",
       "    <tr>\n",
       "      <th>6</th>\n",
       "      <td>model_52_image_test_predictions.npy</td>\n",
       "      <td>1.841282</td>\n",
       "      <td>0.345351</td>\n",
       "      <td>0.119267</td>\n",
       "      <td>0.345351</td>\n",
       "      <td>0.177302</td>\n",
       "    </tr>\n",
       "    <tr>\n",
       "      <th>7</th>\n",
       "      <td>model_53_image_test_predictions.npy</td>\n",
       "      <td>1.796107</td>\n",
       "      <td>0.344492</td>\n",
       "      <td>0.154776</td>\n",
       "      <td>0.344492</td>\n",
       "      <td>0.189674</td>\n",
       "    </tr>\n",
       "    <tr>\n",
       "      <th>8</th>\n",
       "      <td>model_53_pretrained_test_predictions.npy</td>\n",
       "      <td>22.610793</td>\n",
       "      <td>0.345351</td>\n",
       "      <td>0.119267</td>\n",
       "      <td>0.345351</td>\n",
       "      <td>0.177302</td>\n",
       "    </tr>\n",
       "    <tr>\n",
       "      <th>9</th>\n",
       "      <td>model_54_image_test_predictions.npy</td>\n",
       "      <td>30.837565</td>\n",
       "      <td>0.107010</td>\n",
       "      <td>0.011451</td>\n",
       "      <td>0.107010</td>\n",
       "      <td>0.020688</td>\n",
       "    </tr>\n",
       "    <tr>\n",
       "      <th>10</th>\n",
       "      <td>model_54_pretrained_test_predictions.npy</td>\n",
       "      <td>22.610793</td>\n",
       "      <td>0.345351</td>\n",
       "      <td>0.119267</td>\n",
       "      <td>0.345351</td>\n",
       "      <td>0.177302</td>\n",
       "    </tr>\n",
       "    <tr>\n",
       "      <th>11</th>\n",
       "      <td>model_56_image_test_predictions.npy</td>\n",
       "      <td>1.841166</td>\n",
       "      <td>0.345351</td>\n",
       "      <td>0.119267</td>\n",
       "      <td>0.345351</td>\n",
       "      <td>0.177302</td>\n",
       "    </tr>\n",
       "  </tbody>\n",
       "</table>\n",
       "</div>"
      ],
      "text/plain": [
       "                                  model_name       loss  accuracy  precision  \\\n",
       "0     model_47_combined_test_predictions.npy   1.503333  0.451788   0.447104   \n",
       "1              model_48_test_predictions.npy   1.802223  0.341917   0.200591   \n",
       "2        model_49_image_test_predictions.npy  22.610793  0.345351   0.119267   \n",
       "3        model_50_image_test_predictions.npy   1.841366  0.345351   0.119267   \n",
       "4     model_51_metadata_test_predictions.npy   1.524408  0.444349   0.440032   \n",
       "5     model_52_combined_test_predictions.npy   1.492047  0.456938   0.445560   \n",
       "6        model_52_image_test_predictions.npy   1.841282  0.345351   0.119267   \n",
       "7        model_53_image_test_predictions.npy   1.796107  0.344492   0.154776   \n",
       "8   model_53_pretrained_test_predictions.npy  22.610793  0.345351   0.119267   \n",
       "9        model_54_image_test_predictions.npy  30.837565  0.107010   0.011451   \n",
       "10  model_54_pretrained_test_predictions.npy  22.610793  0.345351   0.119267   \n",
       "11       model_56_image_test_predictions.npy   1.841166  0.345351   0.119267   \n",
       "\n",
       "      recall        f1  \n",
       "0   0.451788  0.443845  \n",
       "1   0.341917  0.185148  \n",
       "2   0.345351  0.177302  \n",
       "3   0.345351  0.177302  \n",
       "4   0.444349  0.434043  \n",
       "5   0.456938  0.442526  \n",
       "6   0.345351  0.177302  \n",
       "7   0.344492  0.189674  \n",
       "8   0.345351  0.177302  \n",
       "9   0.107010  0.020688  \n",
       "10  0.345351  0.177302  \n",
       "11  0.345351  0.177302  "
      ]
     },
     "execution_count": 98,
     "metadata": {},
     "output_type": "execute_result"
    }
   ],
   "source": [
    "test_summary_df"
   ]
  },
  {
   "cell_type": "code",
   "execution_count": 99,
   "metadata": {
    "collapsed": true
   },
   "outputs": [],
   "source": [
    "chosen_models = ['model_52_combined', 'model_56_image', 'model_54_pretrained']"
   ]
  },
  {
   "cell_type": "code",
   "execution_count": 101,
   "metadata": {
    "collapsed": false
   },
   "outputs": [
    {
     "name": "stdout",
     "output_type": "stream",
     "text": [
      "model_52_combined Loss: 1.4920\n",
      "model_52_combined Accuracy: 0.4569\n",
      "model_52_combined Precision - Weighted: 0.4456\n",
      "model_52_combined Recall - Weighted: 0.4569\n",
      "model_52_combined F1 - Weighted: 0.4425\n"
     ]
    },
    {
     "data": {
      "image/png": "[encoded data removed]",
      "text/plain": [
       "<matplotlib.figure.Figure at 0x122481dd0>"
      ]
     },
     "metadata": {},
     "output_type": "display_data"
    }
   ],
   "source": [
    "for model in chosen modeles:\n",
    "    for i in \n",
    "    model_evaluation(np.load('predictions/' + 'model_52_combined_test_predictions.npy'),\n",
    "                y_test, labels, 'model_52_combined')"
   ]
  }
 ],
 "metadata": {
  "kernelspec": {
   "display_name": "Python 2",
   "language": "python",
   "name": "python2"
  },
  "language_info": {
   "codemirror_mode": {
    "name": "ipython",
    "version": 2
   },
   "file_extension": ".py",
   "mimetype": "text/x-python",
   "name": "python",
   "nbconvert_exporter": "python",
   "pygments_lexer": "ipython2",
   "version": "2.7.13"
  }
 },
 "nbformat": 4,
 "nbformat_minor": 2
}
