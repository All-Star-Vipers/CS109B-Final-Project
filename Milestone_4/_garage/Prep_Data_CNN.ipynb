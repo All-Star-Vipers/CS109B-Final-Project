{
 "cells": [
  {
   "cell_type": "code",
   "execution_count": 7,
   "metadata": {
    "collapsed": false
   },
   "outputs": [],
   "source": [
    "from __future__ import print_function\n",
    "\n",
    "import keras\n",
    "from keras.datasets import mnist\n",
    "from keras.models import Sequential\n",
    "from keras.layers import Dense, Activation, Conv2D, MaxPooling2D, Flatten\n",
    "from keras.optimizers import SGD\n",
    "from keras import backend as K\n",
    "import seaborn as sns\n",
    "sns.set_style('white')\n",
    "import os\n",
    "import tensorflow as tf\n",
    "from tensorflow.python.framework import ops\n",
    "from tensorflow.python.framework import dtypes\n",
    "import base64\n",
    "from PIL import Image\n",
    "from numpy import array\n",
    "import numpy as np\n",
    "import random\n",
    "from matplotlib import pyplot as plt\n",
    "from skimage import data\n",
    "%matplotlib inline\n",
    "np.random.seed(seed=17)\n",
    "import csv\n",
    "import pandas as pd\n",
    "from scipy import ndimage, misc\n",
    "from skimage import io\n",
    "from sklearn import preprocessing\n",
    "from sklearn.model_selection import train_test_split\n",
    "\n"
   ]
  },
  {
   "cell_type": "markdown",
   "metadata": {},
   "source": [
    "Import in file paths for all the posters"
   ]
  },
  {
   "cell_type": "code",
   "execution_count": 14,
   "metadata": {
    "collapsed": false
   },
   "outputs": [
    {
     "name": "stderr",
     "output_type": "stream",
     "text": [
      "/anaconda/lib/python2.7/site-packages/ipykernel/__main__.py:3: FutureWarning: sort(columns=....) is deprecated, use sort_values(by=.....)\n",
      "  app.launch_new_instance()\n"
     ]
    }
   ],
   "source": [
    "#import in all of the movie genres and their corresponding movie ids\n",
    "genre_map = pd.read_csv('/Users/aaronmyran/Dropbox/GRAD_SCHOOL/HKS/2ndyear/spring/CS109B/FinalProject/Milestone4/genre_id_mapping.csv')\n",
    "genre_map =genre_map.sort('ID')"
   ]
  },
  {
   "cell_type": "code",
   "execution_count": 15,
   "metadata": {
    "collapsed": false
   },
   "outputs": [],
   "source": [
    "#get a list of all of the movie poster locations on my local disk\n",
    "poster_list = os.listdir(\"/Users/aaronmyran/Dropbox/GRAD_SCHOOL/HKS/2ndyear/spring/CS109B/FinalProject/Posters\")\n",
    "poster_list = poster_list[3:-1]\n",
    "root_dir = \"/Users/aaronmyran/Dropbox/GRAD_SCHOOL/HKS/2ndyear/spring/CS109B/FinalProject/Posters/\""
   ]
  },
  {
   "cell_type": "code",
   "execution_count": 45,
   "metadata": {
    "collapsed": true
   },
   "outputs": [],
   "source": [
    "meta_data = pd.read_csv('/Users/aaronmyran/Dropbox/GRAD_SCHOOL/HKS/2ndyear/spring/CS109B/FinalProject/Milestone4/meta_data.csv')\n",
    "#remove the \n",
    "meta_data = meta_data.drop('genre', 1) #get rid of ys!"
   ]
  },
  {
   "cell_type": "code",
   "execution_count": 47,
   "metadata": {
    "collapsed": false
   },
   "outputs": [],
   "source": [
    "\n",
    "def convert_jpg_array(poster_name, root_dir = \"/Users/aaronmyran/Dropbox/GRAD_SCHOOL/HKS/2ndyear/spring/CS109B/FinalProject/Posters/\"):\n",
    "    '''\n",
    "    inputs: director of poster\n",
    "    outputs: array of poster with shape 750,500,3\n",
    "    '''\n",
    "    poster_dir = root_dir + poster_name\n",
    "    poster_id =  poster_name.split(\"-\")[0]\n",
    "    img = Image.open(poster_dir)\n",
    "    img = misc.imresize(img, (150, 100))\n",
    "    arr = array(img)\n",
    "    #arr = arr.reshape(1,150,100,3)\n",
    "    return poster_id,arr \n",
    "\n",
    "def map_id_genre(genre_id,genre_map = genre_map):\n",
    "    '''\n",
    "    inputs: list of all the movies and their genres\n",
    "    returns: the genre of the movie\n",
    "    '''\n",
    "    try:\n",
    "        index = genre_map.loc[genre_map['ID']==genre_id].index.values[0]\n",
    "    except IndexError:\n",
    "        return 'Error' #errors will be skipped\n",
    "    return genre_map.iloc[index,1]\n",
    "\n",
    "def convert_jpg_array_grey(poster_name, root_dir = \"/Users/aaronmyran/Dropbox/GRAD_SCHOOL/HKS/2ndyear/spring/CS109B/FinalProject/Posters/\"):\n",
    "    '''\n",
    "    inputs: director of poster\n",
    "    outputs: array of poster with shape 750,500,1 **Greyscale**\n",
    "    '''\n",
    "    poster_dir = root_dir + poster_name\n",
    "    poster_id =  poster_name.split(\"-\")[0]\n",
    "    img = io.imread(poster_dir, as_grey=True)\n",
    "    img = misc.imresize(img, (150, 100))\n",
    "    arr = array(img)\n",
    "    return poster_id,arr \n",
    "\n",
    "\n",
    "def get_meta_data(movie_id, meta_data = meta_data):\n",
    "    '''\n",
    "    inputs: movie id\n",
    "    outputs: data frame with the movie meta data\n",
    "    '''\n",
    "    index = meta_data.loc[meta_data['id']==movie_id].index.values[0]\n",
    "    \n",
    "    output = meta_data.iloc[[index]]\n",
    "    output = output.drop('id',1) #get rid of index\n",
    "    return output.values\n",
    "\n"
   ]
  },
  {
   "cell_type": "markdown",
   "metadata": {
    "collapsed": false
   },
   "source": [
    "test wit small list"
   ]
  },
  {
   "cell_type": "code",
   "execution_count": 24,
   "metadata": {
    "collapsed": false
   },
   "outputs": [
    {
     "data": {
      "text/plain": [
       "(150, 100, 3)"
      ]
     },
     "execution_count": 24,
     "metadata": {},
     "output_type": "execute_result"
    },
    {
     "data": {
      "image/png": "[encoded data removed]",
      "text/plain": [
       "<matplotlib.figure.Figure at 0x10dd59410>"
      ]
     },
     "metadata": {},
     "output_type": "display_data"
    }
   ],
   "source": [
    "a = convert_jpg_array(poster_list[i])\n",
    "plt.imshow(a[1])\n",
    "a[1].shape\n"
   ]
  },
  {
   "cell_type": "code",
   "execution_count": 19,
   "metadata": {
    "collapsed": true
   },
   "outputs": [],
   "source": [
    "#CNN deets\n",
    "img_rows = 150\n",
    "img_cols = 100\n",
    "epochs = 10\n",
    "batch_size= 50\n",
    "#num_classes = 12\n",
    "input_shape = (3,img_rows,img_cols)\n"
   ]
  },
  {
   "cell_type": "code",
   "execution_count": 52,
   "metadata": {
    "collapsed": false
   },
   "outputs": [],
   "source": [
    "#small list to see if it will work in keras\n",
    "train_movies, test_movies =train_test_split(poster_list[0:10000], test_size =.20 )\n",
    "#train_movies = np.random.choice(poster_list, 10000, replace = False)\n",
    "#test_movies = np.random.choice(poster_list, 1000, replace = False)"
   ]
  },
  {
   "cell_type": "code",
   "execution_count": 53,
   "metadata": {
    "collapsed": false
   },
   "outputs": [
    {
     "name": "stdout",
     "output_type": "stream",
     "text": [
      "100\n",
      "200\n",
      "300\n",
      "400\n",
      "500\n",
      "600\n",
      "700\n",
      "800\n",
      "900\n",
      "1000\n",
      "1100\n",
      "1200\n",
      "1300\n",
      "1400\n",
      "1500\n",
      "1600\n",
      "1700\n",
      "1800\n",
      "1900\n",
      "2000\n",
      "2100\n",
      "2200\n",
      "2300\n",
      "2400\n",
      "2500\n",
      "2600\n",
      "2700\n",
      "2800\n",
      "2900\n",
      "3000\n",
      "3100\n",
      "3200\n",
      "3300\n",
      "3400\n",
      "3500\n",
      "3600\n",
      "3700\n",
      "3800\n",
      "3900\n",
      "4000\n",
      "4100\n",
      "4200\n",
      "4300\n",
      "4400\n",
      "4500\n",
      "4600\n",
      "4700\n",
      "4800\n",
      "4900\n",
      "5000\n",
      "5100\n",
      "5200\n",
      "5300\n",
      "5400\n",
      "5500\n",
      "5600\n",
      "5700\n",
      "5800\n",
      "5900\n",
      "6000\n",
      "6100\n",
      "6200\n",
      "6300\n",
      "6400\n",
      "6500\n",
      "6600\n",
      "6700\n",
      "6800\n",
      "6900\n",
      "7000\n",
      "7100\n",
      "7200\n",
      "7300\n",
      "7400\n",
      "7500\n",
      "7600\n",
      "7700\n",
      "7800\n",
      "7900\n",
      "8000\n",
      "x_train shape: (5958, 150, 100, 3)\n",
      "meta_data shape: [[False 5000000\n",
      "  \"[u'Yearning for an evening without their kids, some friends plan a night out. But to do this, their husbands need to watch the kids. What can go wrong?']\"\n",
      "  ..., \"[u'mild thematic elements and some action']\" 38 'PG']\n",
      " [False 82000000\n",
      "  \"[u'A film about the life and career of the eccentric avant-garde comedian, Andy Kaufman.']\"\n",
      "  ..., \"[u'language and brief sexuality/nudity']\" 35 'R']\n",
      " [False 0\n",
      "  '[u\"The fantastical tale of a little girl who won\\'t - or can\\'t - follow the rules. Confounded by her clashes with the rule-obsessed world around her, Phoebe seeks enlightenment from her unconventional drama teacher, even as her brilliant but anguished mother looks to Phoebe herself for inspiration.\"]'\n",
      "  ..., \"[u'thematic material and brief strong language']\" 43 'PG-13']\n",
      " ..., \n",
      " [False 0\n",
      "  '[u\"The owners of a small diner are surprised one rainy evening when, just after close, a young woman wearing a wedding dress with three dogs in tow begs to come into their restaurant. What follows is the young woman\\'s retelling of how she arrived at this curious junction in her life and how, through the search for the right man, she ended up as a runaway bride with three new dogs.\"]'\n",
      "  ..., '[]' 0 'NR']\n",
      " [True 6000000\n",
      "  '[u\"It is 1943, and the German army, ravaged and demoralised, are hastily retreating from the Russian front. In the midst of all this madness, conflict brews between the aristocratic yet ultimately pusillanimous Captain Stransky and the courageous Corporal Steiner. Stransky is the only man who believes that the Third Reich are still vastly superior to the Russian army; however within his pompous persona lies a quivering coward who longs for the Iron Cross so that he can return to Berlin a hero. Steiner, on the other hand is cynical, defiantly non-conformist and more concerned with the safety of his own men rather than the horde of military decorations offered to him by his superiors. Steiner\\'s lack of respect results in a growing animosity between the two...\"]'\n",
      "  ..., '[]' 0 'NR']\n",
      " [False 350000\n",
      "  \"[u'A psychotic man, troubled by his childhood abuse, loose in NYC, kills young women and takes their scalps as trophies. Will he find the perfect woman in photographer Anna, and end his killing spree?']\"\n",
      "  ..., '[]' 0 'NR']]\n",
      "100\n",
      "200\n",
      "300\n",
      "400\n",
      "500\n",
      "600\n",
      "700\n",
      "800\n",
      "900\n",
      "1000\n",
      "1100\n",
      "1200\n",
      "1300\n",
      "1400\n",
      "1500\n",
      "1600\n",
      "1700\n",
      "1800\n",
      "1900\n",
      "2000\n",
      "x_test shape: (1513, 150, 100, 3)\n",
      "meta_data shape: (1513, 34)\n"
     ]
    }
   ],
   "source": [
    "\n",
    "#append all the movies into 1 numpy frame for training data\n",
    "train_movie_arrays = []\n",
    "train_movie_id = []\n",
    "train_movie_genre = []\n",
    "train_meta_data = []\n",
    "i = 0\n",
    "for m in train_movies:\n",
    "    i +=1\n",
    "    if i%100==0:\n",
    "        print(i)\n",
    "    m_id, arr = convert_jpg_array(m)\n",
    "    train_movie_id.append(int(m_id))\n",
    "    movie_genre_temp = map_id_genre(int(m_id))\n",
    "    if movie_genre_temp == 'Error':\n",
    "        pass\n",
    "    else:\n",
    "        try:\n",
    "            arr = arr.reshape(1,img_rows,img_cols,3)\n",
    "            train_movie_arrays.append(arr)\n",
    "            train_movie_genre.append(movie_genre_temp)\n",
    "            train_meta_data.append(get_meta_data(int(m_id)))\n",
    "        except ValueError:\n",
    "            pass\n",
    "\n",
    "\n",
    "#append all the movie genres into a list\n",
    "train_movie_pixels = np.concatenate((train_movie_arrays), axis = 0)\n",
    "train_meta_data = np.concatenate((train_meta_data), axis = 0)\n",
    "x_train = train_movie_pixels\n",
    "print('x_train shape:', x_train.shape)\n",
    "print('meta_data shape:', train_meta_data.shape)\n",
    "####***testing data too***\n",
    "test_movie_arrays = []\n",
    "test_movie_id = []\n",
    "test_movie_genre = []\n",
    "test_meta_data = []\n",
    "i = 0\n",
    "for m in test_movies:\n",
    "    i +=1\n",
    "    if i%100 == 0:\n",
    "        print(i)\n",
    "    m_id, arr = convert_jpg_array(m)\n",
    "    movie_genre_temp = map_id_genre(int(m_id))\n",
    "    if movie_genre_temp == 'Error':\n",
    "        pass\n",
    "    else:\n",
    "        try: #exclude black and white images\n",
    "            arr = arr.reshape(1,img_rows,img_cols,3)\n",
    "            test_movie_arrays.append(arr)\n",
    "            test_movie_genre.append(movie_genre_temp)\n",
    "            test_meta_data.append(get_meta_data(int(m_id)))\n",
    "        except ValueError:\n",
    "            pass\n",
    "#append all the movie genres into a list\n",
    "test_movie_pixels = np.concatenate((test_movie_arrays), axis = 0)\n",
    "x_test= test_movie_pixels\n",
    "test_meta_data = np.concatenate((test_meta_data), axis = 0)\n",
    "\n",
    "print('x_test shape:', x_test.shape)\n",
    "print('meta_data shape:', test_meta_data.shape)"
   ]
  },
  {
   "cell_type": "code",
   "execution_count": 93,
   "metadata": {
    "collapsed": false
   },
   "outputs": [],
   "source": [
    "num_classes = len(np.unique([test_movie_genre+train_movie_genre]))\n",
    "le = preprocessing.LabelEncoder()\n",
    "le.fit(np.unique([test_movie_genre+train_movie_genre]))\n",
    "y_test = le.transform(test_movie_genre)\n",
    "y_train = le.transform(train_movie_genre)"
   ]
  },
  {
   "cell_type": "code",
   "execution_count": 94,
   "metadata": {
    "collapsed": false
   },
   "outputs": [],
   "source": [
    "y_train = keras.utils.to_categorical(y_train, num_classes)\n",
    "y_test = keras.utils.to_categorical(y_test, num_classes)"
   ]
  },
  {
   "cell_type": "code",
   "execution_count": 95,
   "metadata": {
    "collapsed": false
   },
   "outputs": [
    {
     "name": "stdout",
     "output_type": "stream",
     "text": [
      "5958\n",
      "6\n"
     ]
    }
   ],
   "source": [
    "x_train = train_movie_pixels\n",
    "\n",
    "print(len(x_train))\n",
    "shape = len(x_train)/12\n",
    "\n",
    "x0 = x_train[0:shape]\n",
    "x_train = x_train[shape:]\n",
    "x1 = x_train[0:shape]\n",
    "x_train = x_train[shape:]\n",
    "x2 = x_train[0:shape]\n",
    "x_train = x_train[shape:]\n",
    "x3 = x_train[0:shape]\n",
    "x_train = x_train[shape:]\n",
    "x4 = x_train[0:shape]\n",
    "x_train = x_train[shape:]\n",
    "x5 = x_train[0:shape]\n",
    "x_train = x_train[shape:]\n",
    "x6 = x_train[0:shape]\n",
    "x_train = x_train[shape:]\n",
    "x7 = x_train[0:shape]\n",
    "x_train = x_train[shape:]\n",
    "x8 = x_train[0:shape]\n",
    "x_train = x_train[shape:]\n",
    "x9 = x_train[0:shape]\n",
    "x_train = x_train[shape:]\n",
    "x10 = x_train[0:shape]\n",
    "x_train = x_train[shape:]\n",
    "x11 = x_train[0:shape]\n",
    "x_train = x_train[shape:]\n",
    "\n",
    "print(len(x_train))\n",
    "x_train = train_movie_pixels\n"
   ]
  },
  {
   "cell_type": "code",
   "execution_count": 96,
   "metadata": {
    "collapsed": false
   },
   "outputs": [],
   "source": [
    "###save numpy files so I don't have to run previous stuff\n",
    "np.save('x_train1', x1)\n",
    "np.save('x_train2', x2)\n",
    "np.save('x_train3', x3)\n",
    "np.save('x_train4', x4)\n",
    "np.save('x_train5', x5)\n",
    "np.save('x_train6', x6)\n",
    "np.save('x_train7', x7)\n",
    "np.save('x_train0', x0)\n",
    "np.save('x_train8', x8)\n",
    "np.save('x_train9', x9)\n",
    "np.save('x_train10', x10)\n",
    "np.save('x_train11', x11)\n",
    "\n",
    "np.save('y_train', y_train)\n",
    "np.save('x_test', x_test)\n",
    "np.save('y_test', y_test)\n",
    "np.save('train_meta_data', train_meta_data)\n",
    "np.save('test_meta_data', test_meta_data)"
   ]
  },
  {
   "cell_type": "code",
   "execution_count": 76,
   "metadata": {
    "collapsed": false
   },
   "outputs": [
    {
     "name": "stdout",
     "output_type": "stream",
     "text": [
      "_________________________________________________________________\n",
      "Layer (type)                 Output Shape              Param #   \n",
      "=================================================================\n",
      "conv2d_9 (Conv2D)            (None, 146, 96, 16)       1216      \n",
      "_________________________________________________________________\n",
      "max_pooling2d_9 (MaxPooling2 (None, 73, 48, 16)        0         \n",
      "_________________________________________________________________\n",
      "conv2d_10 (Conv2D)           (None, 71, 46, 32)        4640      \n",
      "_________________________________________________________________\n",
      "max_pooling2d_10 (MaxPooling (None, 35, 23, 32)        0         \n",
      "_________________________________________________________________\n",
      "flatten_5 (Flatten)          (None, 25760)             0         \n",
      "_________________________________________________________________\n",
      "dense_9 (Dense)              (None, 64)                1648704   \n",
      "_________________________________________________________________\n",
      "dense_10 (Dense)             (None, 11)                715       \n",
      "=================================================================\n",
      "Total params: 1,655,275\n",
      "Trainable params: 1,655,275\n",
      "Non-trainable params: 0\n",
      "_________________________________________________________________\n"
     ]
    }
   ],
   "source": [
    "# create an empty network model\n",
    "model = Sequential()\n",
    "\n",
    "# --- input layer ---\n",
    "model.add(Conv2D(16, kernel_size=(5, 5), activation='relu', input_shape=(img_rows,img_cols, 3)))\n",
    "# --- max pool ---\n",
    "model.add(MaxPooling2D(pool_size=(2, 2)))\n",
    "\n",
    "# --- next layer ---\n",
    "# we could double the number of filters as max pool made the \n",
    "# feature maps much smaller \n",
    "# just not doing this to improve runtime\n",
    "model.add(Conv2D(32, kernel_size=(3, 3), activation='relu'))\n",
    "# --- max pool ---\n",
    "model.add(MaxPooling2D(pool_size=(2, 2)))\n",
    "\n",
    "# flatten for fully connected classification layer\n",
    "model.add(Flatten())\n",
    "# note that the 10 is the number of classes we have\n",
    "# the classes are mutually exclusive so softmax is a good choice\n",
    "# --- fully connected layer ---\n",
    "model.add(Dense(64, activation='relu'))\n",
    "# --- classification ---\n",
    "model.add(Dense(num_classes, activation='softmax'))\n",
    "\n",
    "# prints out a summary of the model architecture\n",
    "model.summary()"
   ]
  },
  {
   "cell_type": "code",
   "execution_count": null,
   "metadata": {
    "collapsed": true
   },
   "outputs": [],
   "source": [
    "#new model trying with meta data\n",
    "model = Sequential()\n",
    "\n",
    "# --- input layer ---\n",
    "model.add(Conv2D(16, kernel_size=(5, 5), activation='relu', input_shape=(img_rows,img_cols, 3)))\n",
    "# --- max pool ---\n",
    "model.add(MaxPooling2D(pool_size=(2, 2)))\n",
    "\n",
    "# --- next layer ---\n",
    "# we could double the number of filters as max pool made the \n",
    "# feature maps much smaller \n",
    "# just not doing this to improve runtime\n",
    "model.add(Conv2D(32, kernel_size=(3, 3), activation='relu'))\n",
    "# --- max pool ---\n",
    "model.add(MaxPooling2D(pool_size=(2, 2)))\n",
    "\n",
    "# flatten for fully connected classification layer\n",
    "model.add(Flatten())\n",
    "# note that the 10 is the number of classes we have\n",
    "# the classes are mutually exclusive so softmax is a good choice\n",
    "# --- fully connected layer ---\n",
    "model.add(Dense(64, activation='relu'))\n",
    "\n",
    "# Now we create the metadata model\n",
    "#meta_data_dim\n",
    "metadata_processor = Sequential()\n",
    "metadata_processor.add(Dense(num_classes, input_dim=metadata_dim)) ##### *** need to figure out dim***\n",
    "metadata_processor.add(Activation('relu'))\n",
    "\n",
    "merged_model = Sequential()\n",
    "merged_model.add(Merge([model, metadata_processor], merge_mode='concat')  # Merge is your sensor fusion buddy\n",
    "merged_model.add(Dense(this_dim, input_dim=image_plus_metadata_dim))#### *** need to figure out dim***\n",
    "merged_model.add(Activation('relu'))\n",
    "merged_model.add(Dense(num_classes))\n",
    "merged_model.add(Activation('softmax'))"
   ]
  },
  {
   "cell_type": "code",
   "execution_count": 77,
   "metadata": {
    "collapsed": true
   },
   "outputs": [],
   "source": [
    "# this does all necessary compiling. In tensorflow this is much quicker than in theano\n",
    "# the setup is our basic categorical crossentropy with stochastic gradient decent\n",
    "# we also specify that we want to evaluate our model in terms of accuracy\n",
    "sgd = SGD(lr=0.1, momentum=0.9)\n",
    "model.compile(loss='categorical_crossentropy',\n",
    "              optimizer=sgd,\n",
    "              metrics=['accuracy'])"
   ]
  },
  {
   "cell_type": "code",
   "execution_count": 78,
   "metadata": {
    "collapsed": false
   },
   "outputs": [
    {
     "name": "stdout",
     "output_type": "stream",
     "text": [
      "Train on 1739 samples, validate on 188 samples\n",
      "Epoch 1/10\n",
      "1739/1739 [==============================] - 112s - loss: 13.5152 - acc: 0.1535 - val_loss: 14.2319 - val_acc: 0.1170\n",
      "Epoch 2/10\n"
     ]
    },
    {
     "ename": "KeyboardInterrupt",
     "evalue": "",
     "output_type": "error",
     "traceback": [
      "\u001b[0;31m---------------------------------------------------------------------------\u001b[0m",
      "\u001b[0;31mKeyboardInterrupt\u001b[0m                         Traceback (most recent call last)",
      "\u001b[0;32m<ipython-input-78-bb15fd0d5a3a>\u001b[0m in \u001b[0;36m<module>\u001b[0;34m()\u001b[0m\n\u001b[1;32m     10\u001b[0m                     \u001b[0mepochs\u001b[0m\u001b[0;34m=\u001b[0m\u001b[0mepochs\u001b[0m\u001b[0;34m,\u001b[0m\u001b[0;34m\u001b[0m\u001b[0m\n\u001b[1;32m     11\u001b[0m                     \u001b[0mverbose\u001b[0m\u001b[0;34m=\u001b[0m\u001b[0;36m1\u001b[0m\u001b[0;34m,\u001b[0m\u001b[0;34m\u001b[0m\u001b[0m\n\u001b[0;32m---> 12\u001b[0;31m                     validation_data=(x_test, y_test))\n\u001b[0m\u001b[1;32m     13\u001b[0m \u001b[0;34m\u001b[0m\u001b[0m\n\u001b[1;32m     14\u001b[0m \u001b[0;31m# once training is complete, let's see how well we have done\u001b[0m\u001b[0;34m\u001b[0m\u001b[0;34m\u001b[0m\u001b[0m\n",
      "\u001b[0;32m//anaconda/lib/python2.7/site-packages/keras/models.pyc\u001b[0m in \u001b[0;36mfit\u001b[0;34m(self, x, y, batch_size, epochs, verbose, callbacks, validation_split, validation_data, shuffle, class_weight, sample_weight, initial_epoch, **kwargs)\u001b[0m\n\u001b[1;32m    851\u001b[0m                               \u001b[0mclass_weight\u001b[0m\u001b[0;34m=\u001b[0m\u001b[0mclass_weight\u001b[0m\u001b[0;34m,\u001b[0m\u001b[0;34m\u001b[0m\u001b[0m\n\u001b[1;32m    852\u001b[0m                               \u001b[0msample_weight\u001b[0m\u001b[0;34m=\u001b[0m\u001b[0msample_weight\u001b[0m\u001b[0;34m,\u001b[0m\u001b[0;34m\u001b[0m\u001b[0m\n\u001b[0;32m--> 853\u001b[0;31m                               initial_epoch=initial_epoch)\n\u001b[0m\u001b[1;32m    854\u001b[0m \u001b[0;34m\u001b[0m\u001b[0m\n\u001b[1;32m    855\u001b[0m     def evaluate(self, x, y, batch_size=32, verbose=1,\n",
      "\u001b[0;32m//anaconda/lib/python2.7/site-packages/keras/engine/training.pyc\u001b[0m in \u001b[0;36mfit\u001b[0;34m(self, x, y, batch_size, epochs, verbose, callbacks, validation_split, validation_data, shuffle, class_weight, sample_weight, initial_epoch, **kwargs)\u001b[0m\n\u001b[1;32m   1484\u001b[0m                               \u001b[0mval_f\u001b[0m\u001b[0;34m=\u001b[0m\u001b[0mval_f\u001b[0m\u001b[0;34m,\u001b[0m \u001b[0mval_ins\u001b[0m\u001b[0;34m=\u001b[0m\u001b[0mval_ins\u001b[0m\u001b[0;34m,\u001b[0m \u001b[0mshuffle\u001b[0m\u001b[0;34m=\u001b[0m\u001b[0mshuffle\u001b[0m\u001b[0;34m,\u001b[0m\u001b[0;34m\u001b[0m\u001b[0m\n\u001b[1;32m   1485\u001b[0m                               \u001b[0mcallback_metrics\u001b[0m\u001b[0;34m=\u001b[0m\u001b[0mcallback_metrics\u001b[0m\u001b[0;34m,\u001b[0m\u001b[0;34m\u001b[0m\u001b[0m\n\u001b[0;32m-> 1486\u001b[0;31m                               initial_epoch=initial_epoch)\n\u001b[0m\u001b[1;32m   1487\u001b[0m \u001b[0;34m\u001b[0m\u001b[0m\n\u001b[1;32m   1488\u001b[0m     \u001b[0;32mdef\u001b[0m \u001b[0mevaluate\u001b[0m\u001b[0;34m(\u001b[0m\u001b[0mself\u001b[0m\u001b[0;34m,\u001b[0m \u001b[0mx\u001b[0m\u001b[0;34m,\u001b[0m \u001b[0my\u001b[0m\u001b[0;34m,\u001b[0m \u001b[0mbatch_size\u001b[0m\u001b[0;34m=\u001b[0m\u001b[0;36m32\u001b[0m\u001b[0;34m,\u001b[0m \u001b[0mverbose\u001b[0m\u001b[0;34m=\u001b[0m\u001b[0;36m1\u001b[0m\u001b[0;34m,\u001b[0m \u001b[0msample_weight\u001b[0m\u001b[0;34m=\u001b[0m\u001b[0mNone\u001b[0m\u001b[0;34m)\u001b[0m\u001b[0;34m:\u001b[0m\u001b[0;34m\u001b[0m\u001b[0m\n",
      "\u001b[0;32m//anaconda/lib/python2.7/site-packages/keras/engine/training.pyc\u001b[0m in \u001b[0;36m_fit_loop\u001b[0;34m(self, f, ins, out_labels, batch_size, epochs, verbose, callbacks, val_f, val_ins, shuffle, callback_metrics, initial_epoch)\u001b[0m\n\u001b[1;32m   1139\u001b[0m                 \u001b[0mbatch_logs\u001b[0m\u001b[0;34m[\u001b[0m\u001b[0;34m'size'\u001b[0m\u001b[0;34m]\u001b[0m \u001b[0;34m=\u001b[0m \u001b[0mlen\u001b[0m\u001b[0;34m(\u001b[0m\u001b[0mbatch_ids\u001b[0m\u001b[0;34m)\u001b[0m\u001b[0;34m\u001b[0m\u001b[0m\n\u001b[1;32m   1140\u001b[0m                 \u001b[0mcallbacks\u001b[0m\u001b[0;34m.\u001b[0m\u001b[0mon_batch_begin\u001b[0m\u001b[0;34m(\u001b[0m\u001b[0mbatch_index\u001b[0m\u001b[0;34m,\u001b[0m \u001b[0mbatch_logs\u001b[0m\u001b[0;34m)\u001b[0m\u001b[0;34m\u001b[0m\u001b[0m\n\u001b[0;32m-> 1141\u001b[0;31m                 \u001b[0mouts\u001b[0m \u001b[0;34m=\u001b[0m \u001b[0mf\u001b[0m\u001b[0;34m(\u001b[0m\u001b[0mins_batch\u001b[0m\u001b[0;34m)\u001b[0m\u001b[0;34m\u001b[0m\u001b[0m\n\u001b[0m\u001b[1;32m   1142\u001b[0m                 \u001b[0;32mif\u001b[0m \u001b[0;32mnot\u001b[0m \u001b[0misinstance\u001b[0m\u001b[0;34m(\u001b[0m\u001b[0mouts\u001b[0m\u001b[0;34m,\u001b[0m \u001b[0mlist\u001b[0m\u001b[0;34m)\u001b[0m\u001b[0;34m:\u001b[0m\u001b[0;34m\u001b[0m\u001b[0m\n\u001b[1;32m   1143\u001b[0m                     \u001b[0mouts\u001b[0m \u001b[0;34m=\u001b[0m \u001b[0;34m[\u001b[0m\u001b[0mouts\u001b[0m\u001b[0;34m]\u001b[0m\u001b[0;34m\u001b[0m\u001b[0m\n",
      "\u001b[0;32m//anaconda/lib/python2.7/site-packages/keras/backend/tensorflow_backend.pyc\u001b[0m in \u001b[0;36m__call__\u001b[0;34m(self, inputs)\u001b[0m\n\u001b[1;32m   2101\u001b[0m         \u001b[0msession\u001b[0m \u001b[0;34m=\u001b[0m \u001b[0mget_session\u001b[0m\u001b[0;34m(\u001b[0m\u001b[0;34m)\u001b[0m\u001b[0;34m\u001b[0m\u001b[0m\n\u001b[1;32m   2102\u001b[0m         updated = session.run(self.outputs + [self.updates_op],\n\u001b[0;32m-> 2103\u001b[0;31m                               feed_dict=feed_dict)\n\u001b[0m\u001b[1;32m   2104\u001b[0m         \u001b[0;32mreturn\u001b[0m \u001b[0mupdated\u001b[0m\u001b[0;34m[\u001b[0m\u001b[0;34m:\u001b[0m\u001b[0mlen\u001b[0m\u001b[0;34m(\u001b[0m\u001b[0mself\u001b[0m\u001b[0;34m.\u001b[0m\u001b[0moutputs\u001b[0m\u001b[0;34m)\u001b[0m\u001b[0;34m]\u001b[0m\u001b[0;34m\u001b[0m\u001b[0m\n\u001b[1;32m   2105\u001b[0m \u001b[0;34m\u001b[0m\u001b[0m\n",
      "\u001b[0;32m//anaconda/lib/python2.7/site-packages/tensorflow/python/client/session.pyc\u001b[0m in \u001b[0;36mrun\u001b[0;34m(self, fetches, feed_dict, options, run_metadata)\u001b[0m\n\u001b[1;32m    765\u001b[0m     \u001b[0;32mtry\u001b[0m\u001b[0;34m:\u001b[0m\u001b[0;34m\u001b[0m\u001b[0m\n\u001b[1;32m    766\u001b[0m       result = self._run(None, fetches, feed_dict, options_ptr,\n\u001b[0;32m--> 767\u001b[0;31m                          run_metadata_ptr)\n\u001b[0m\u001b[1;32m    768\u001b[0m       \u001b[0;32mif\u001b[0m \u001b[0mrun_metadata\u001b[0m\u001b[0;34m:\u001b[0m\u001b[0;34m\u001b[0m\u001b[0m\n\u001b[1;32m    769\u001b[0m         \u001b[0mproto_data\u001b[0m \u001b[0;34m=\u001b[0m \u001b[0mtf_session\u001b[0m\u001b[0;34m.\u001b[0m\u001b[0mTF_GetBuffer\u001b[0m\u001b[0;34m(\u001b[0m\u001b[0mrun_metadata_ptr\u001b[0m\u001b[0;34m)\u001b[0m\u001b[0;34m\u001b[0m\u001b[0m\n",
      "\u001b[0;32m//anaconda/lib/python2.7/site-packages/tensorflow/python/client/session.pyc\u001b[0m in \u001b[0;36m_run\u001b[0;34m(self, handle, fetches, feed_dict, options, run_metadata)\u001b[0m\n\u001b[1;32m    963\u001b[0m     \u001b[0;32mif\u001b[0m \u001b[0mfinal_fetches\u001b[0m \u001b[0;32mor\u001b[0m \u001b[0mfinal_targets\u001b[0m\u001b[0;34m:\u001b[0m\u001b[0;34m\u001b[0m\u001b[0m\n\u001b[1;32m    964\u001b[0m       results = self._do_run(handle, final_targets, final_fetches,\n\u001b[0;32m--> 965\u001b[0;31m                              feed_dict_string, options, run_metadata)\n\u001b[0m\u001b[1;32m    966\u001b[0m     \u001b[0;32melse\u001b[0m\u001b[0;34m:\u001b[0m\u001b[0;34m\u001b[0m\u001b[0m\n\u001b[1;32m    967\u001b[0m       \u001b[0mresults\u001b[0m \u001b[0;34m=\u001b[0m \u001b[0;34m[\u001b[0m\u001b[0;34m]\u001b[0m\u001b[0;34m\u001b[0m\u001b[0m\n",
      "\u001b[0;32m//anaconda/lib/python2.7/site-packages/tensorflow/python/client/session.pyc\u001b[0m in \u001b[0;36m_do_run\u001b[0;34m(self, handle, target_list, fetch_list, feed_dict, options, run_metadata)\u001b[0m\n\u001b[1;32m   1013\u001b[0m     \u001b[0;32mif\u001b[0m \u001b[0mhandle\u001b[0m \u001b[0;32mis\u001b[0m \u001b[0mNone\u001b[0m\u001b[0;34m:\u001b[0m\u001b[0;34m\u001b[0m\u001b[0m\n\u001b[1;32m   1014\u001b[0m       return self._do_call(_run_fn, self._session, feed_dict, fetch_list,\n\u001b[0;32m-> 1015\u001b[0;31m                            target_list, options, run_metadata)\n\u001b[0m\u001b[1;32m   1016\u001b[0m     \u001b[0;32melse\u001b[0m\u001b[0;34m:\u001b[0m\u001b[0;34m\u001b[0m\u001b[0m\n\u001b[1;32m   1017\u001b[0m       return self._do_call(_prun_fn, self._session, handle, feed_dict,\n",
      "\u001b[0;32m//anaconda/lib/python2.7/site-packages/tensorflow/python/client/session.pyc\u001b[0m in \u001b[0;36m_do_call\u001b[0;34m(self, fn, *args)\u001b[0m\n\u001b[1;32m   1020\u001b[0m   \u001b[0;32mdef\u001b[0m \u001b[0m_do_call\u001b[0m\u001b[0;34m(\u001b[0m\u001b[0mself\u001b[0m\u001b[0;34m,\u001b[0m \u001b[0mfn\u001b[0m\u001b[0;34m,\u001b[0m \u001b[0;34m*\u001b[0m\u001b[0margs\u001b[0m\u001b[0;34m)\u001b[0m\u001b[0;34m:\u001b[0m\u001b[0;34m\u001b[0m\u001b[0m\n\u001b[1;32m   1021\u001b[0m     \u001b[0;32mtry\u001b[0m\u001b[0;34m:\u001b[0m\u001b[0;34m\u001b[0m\u001b[0m\n\u001b[0;32m-> 1022\u001b[0;31m       \u001b[0;32mreturn\u001b[0m \u001b[0mfn\u001b[0m\u001b[0;34m(\u001b[0m\u001b[0;34m*\u001b[0m\u001b[0margs\u001b[0m\u001b[0;34m)\u001b[0m\u001b[0;34m\u001b[0m\u001b[0m\n\u001b[0m\u001b[1;32m   1023\u001b[0m     \u001b[0;32mexcept\u001b[0m \u001b[0merrors\u001b[0m\u001b[0;34m.\u001b[0m\u001b[0mOpError\u001b[0m \u001b[0;32mas\u001b[0m \u001b[0me\u001b[0m\u001b[0;34m:\u001b[0m\u001b[0;34m\u001b[0m\u001b[0m\n\u001b[1;32m   1024\u001b[0m       \u001b[0mmessage\u001b[0m \u001b[0;34m=\u001b[0m \u001b[0mcompat\u001b[0m\u001b[0;34m.\u001b[0m\u001b[0mas_text\u001b[0m\u001b[0;34m(\u001b[0m\u001b[0me\u001b[0m\u001b[0;34m.\u001b[0m\u001b[0mmessage\u001b[0m\u001b[0;34m)\u001b[0m\u001b[0;34m\u001b[0m\u001b[0m\n",
      "\u001b[0;32m//anaconda/lib/python2.7/site-packages/tensorflow/python/client/session.pyc\u001b[0m in \u001b[0;36m_run_fn\u001b[0;34m(session, feed_dict, fetch_list, target_list, options, run_metadata)\u001b[0m\n\u001b[1;32m   1002\u001b[0m         return tf_session.TF_Run(session, options,\n\u001b[1;32m   1003\u001b[0m                                  \u001b[0mfeed_dict\u001b[0m\u001b[0;34m,\u001b[0m \u001b[0mfetch_list\u001b[0m\u001b[0;34m,\u001b[0m \u001b[0mtarget_list\u001b[0m\u001b[0;34m,\u001b[0m\u001b[0;34m\u001b[0m\u001b[0m\n\u001b[0;32m-> 1004\u001b[0;31m                                  status, run_metadata)\n\u001b[0m\u001b[1;32m   1005\u001b[0m \u001b[0;34m\u001b[0m\u001b[0m\n\u001b[1;32m   1006\u001b[0m     \u001b[0;32mdef\u001b[0m \u001b[0m_prun_fn\u001b[0m\u001b[0;34m(\u001b[0m\u001b[0msession\u001b[0m\u001b[0;34m,\u001b[0m \u001b[0mhandle\u001b[0m\u001b[0;34m,\u001b[0m \u001b[0mfeed_dict\u001b[0m\u001b[0;34m,\u001b[0m \u001b[0mfetch_list\u001b[0m\u001b[0;34m)\u001b[0m\u001b[0;34m:\u001b[0m\u001b[0;34m\u001b[0m\u001b[0m\n",
      "\u001b[0;31mKeyboardInterrupt\u001b[0m: "
     ]
    }
   ],
   "source": [
    "# this is now the actual training\n",
    "# in addition to the training data we provide validation data\n",
    "# this data is used to calculate the performance of the model over all the epochs\n",
    "# this is useful to determine when training should stop\n",
    "# in our case we just use it to monitor the evolution of the model over the training epochs\n",
    "# if we use the validation data to determine when to stop the training or which model to save, we \n",
    "# should not use the test data, but a separate validation set. \n",
    "history = model.fit(x_train, y_train,\n",
    "                    batch_size=batch_size,\n",
    "                    epochs=epochs,\n",
    "                    verbose=1,\n",
    "                    validation_data=(x_test, y_test))\n",
    "\n",
    "# once training is complete, let's see how well we have done\n",
    "score = model.evaluate(x_test, y_test, verbose=0)\n",
    "print('Test loss:', score[0])\n",
    "print('Test accuracy:', score[1])"
   ]
  }
 ],
 "metadata": {
  "kernelspec": {
   "display_name": "Python 2",
   "language": "python",
   "name": "python2"
  },
  "language_info": {
   "codemirror_mode": {
    "name": "ipython",
    "version": 2
   },
   "file_extension": ".py",
   "mimetype": "text/x-python",
   "name": "python",
   "nbconvert_exporter": "python",
   "pygments_lexer": "ipython2",
   "version": "2.7.13"
  }
 },
 "nbformat": 4,
 "nbformat_minor": 0
}
