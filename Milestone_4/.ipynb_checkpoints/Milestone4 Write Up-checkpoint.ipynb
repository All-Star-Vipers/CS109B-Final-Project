{
 "cells": [
  {
   "cell_type": "markdown",
   "metadata": {},
   "source": [
    "# Write up for Milestone 4"
   ]
  },
  {
   "cell_type": "markdown",
   "metadata": {},
   "source": [
    "Below is the write up for Milestone 4.  Attached to this file are our corresponding Ipython notebooks that have our code for preprocessing our image data and meta data, and in addition, our code for running our CNN (conveluated neural net) using this information"
   ]
  },
  {
   "cell_type": "markdown",
   "metadata": {},
   "source": [
    "**Image preprocessing**\n",
    "\n",
    "In order to feed the data into our CNN, we took a random sample of 5,000 posters of our 17,000 saved posters.  Given how we downloaded our posters and the meta data from TMDB and IMDB,  70% of these 5,000 posters matched with the relevant meta data regarding the poster's genre and relevant meta data.  90% of these posters were allocated into a training group, and the remaining 10% were allocated into the testing group.\n",
    "\n",
    "**color**\n",
    "\n",
    "Initially, in order to reduce the compute power needed and save the amount of space loaded into RAM, we only used greyscale images as image data fed into our CNN.  However, we found that solely using greyscale images made it difficult for us as 'humans' to identify the genre of a movie by its poster alone.  We found also found, that with a simple 2 layered CNN, we were only able to classify 10% of the images correctly.  Given that we have 11 classes, this is only slighty higher than chance (9%).\n",
    "\n",
    "**image size**\n",
    "Initally, we downloaded all of the images from TMBD with the size of 750 x 500 pixels.  Given that we were loading thoasands of arrays of shape 750,500,3 we were unable to run our CNN at this size.\n",
    "Ultimately, we changed the size to 150x500x3 (with last dimension being three separate arrays, each with of its own primary color.\n",
    "\n",
    "**meta data**\n",
    "\n",
    "We also loaded in the meta data for each of the movies. Given that we were able to classify with approximately a 40% accuracy rate using XGBOOST and the relevant meta data for each movie, we thought it was likely that the meta data would include relevant factors about a genre that is not held in the movie's pixels\n"
   ]
  },
  {
   "cell_type": "markdown",
   "metadata": {
    "collapsed": true
   },
   "source": [
    "# Pretuneing the models\n",
    "Unfortunately, we were not able to figure out how to pre-tune the models."
   ]
  },
  {
   "cell_type": "markdown",
   "metadata": {},
   "source": [
    "\n",
    "# CNN Architecture\n",
    "\n",
    "For our CNN architecture, we played around with adding additional layers, doing additional maxpooling of those layers and utilizing dropout to prevent overfitting of the training sets.\n",
    "\n",
    "Overall, we found that when we added over 3 layers, we saw a reduction in accuraccy of the CNN.\n",
    "\n",
    "For this milestone, we were not able to figure out how to merge the meta data into the the CNN model.  This is something we are pursuing for next week and to include in our final presentation."
   ]
  },
  {
   "cell_type": "markdown",
   "metadata": {},
   "source": [
    "# Tuning the CNN\n",
    "\n",
    "**Batch size**\n",
    "Given that we only had ~3500 images for our training set (even if we used all of our photos, we would only have 17,000 posters).  With this in mind, we thought it would make sense to maximize the number of opportunities for the network to train the network durin each given epoch.  As a result, we seleected a batch size of 50\n",
    "\n",
    "**Learning rate**\n",
    "Initially, we set the learning rate to 0.5.  This resulted in finding a single local minimum where our CNN did not learn from epoch to epoch.\n",
    "\n",
    "When the learning rate was set to much lower, 10^-5, after approximately 7 epochs, the SGD found another local minima with approximately 18% accuracy in classification.\n",
    "\n",
    "At a learning rate of 10^-7, \n",
    "\n",
    "\n",
    "\n"
   ]
  }
 ],
 "metadata": {
  "anaconda-cloud": {},
  "kernelspec": {
   "display_name": "Python [default]",
   "language": "python",
   "name": "python2"
  },
  "language_info": {
   "codemirror_mode": {
    "name": "ipython",
    "version": 2
   },
   "file_extension": ".py",
   "mimetype": "text/x-python",
   "name": "python",
   "nbconvert_exporter": "python",
   "pygments_lexer": "ipython2",
   "version": "2.7.12"
  }
 },
 "nbformat": 4,
 "nbformat_minor": 0
}
