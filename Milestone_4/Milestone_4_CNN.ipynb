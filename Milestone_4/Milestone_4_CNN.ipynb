{
 "cells": [
  {
   "cell_type": "code",
   "execution_count": 1,
   "metadata": {
    "collapsed": false
   },
   "outputs": [],
   "source": [
    "import os\n",
    "import tensorflow as tf\n",
    "from tensorflow.python.framework import ops\n",
    "from tensorflow.python.framework import dtypes\n",
    "import base64\n",
    "from PIL import Image\n",
    "from numpy import array\n",
    "import numpy as np\n",
    "import random\n",
    "from matplotlib import pyplot as plt\n",
    "from skimage import data\n",
    "%matplotlib inline\n",
    "np.random.seed(seed=7)\n",
    "import csv\n",
    "import pandas as pd\n",
    "from scipy import ndimage, misc\n"
   ]
  },
  {
   "cell_type": "markdown",
   "metadata": {},
   "source": [
    "Import in file paths for all the posters"
   ]
  },
  {
   "cell_type": "code",
   "execution_count": 2,
   "metadata": {
    "collapsed": false
   },
   "outputs": [
    {
     "name": "stderr",
     "output_type": "stream",
     "text": [
      "/anaconda/lib/python2.7/site-packages/ipykernel/__main__.py:2: FutureWarning: sort(columns=....) is deprecated, use sort_values(by=.....)\n",
      "  from ipykernel import kernelapp as app\n"
     ]
    }
   ],
   "source": [
    "#import in all of the movie genres and their corresponding movie ids\n",
    "genre_map = pd.read_csv('/Users/aaronmyran/Dropbox/GRAD_SCHOOL/HKS/2ndyear/spring/CS109B/FinalProject/Milestone 3/genre_id_mapping.csv')\n",
    "genre_map =genre_map.sort('ID')"
   ]
  },
  {
   "cell_type": "code",
   "execution_count": 3,
   "metadata": {
    "collapsed": false
   },
   "outputs": [],
   "source": [
    "#get a list of all of the movie poster locations on my local disk\n",
    "poster_list = os.listdir(\"/Users/aaronmyran/Dropbox/GRAD_SCHOOL/HKS/2ndyear/spring/CS109B/FinalProject/Posters\")\n",
    "poster_list = poster_list[1:-1]\n",
    "len(poster_list)\n",
    "root_dir = \"/Users/aaronmyran/Dropbox/GRAD_SCHOOL/HKS/2ndyear/spring/CS109B/FinalProject/Posters/\""
   ]
  },
  {
   "cell_type": "code",
   "execution_count": 71,
   "metadata": {
    "collapsed": false
   },
   "outputs": [],
   "source": [
    "\n",
    "def convert_jpg_array(poster_name, root_dir = \"/Users/aaronmyran/Dropbox/GRAD_SCHOOL/HKS/2ndyear/spring/CS109B/FinalProject/Posters/\"):\n",
    "    '''\n",
    "    inputs: director of poster\n",
    "    outputs: array of poster with shape 750,500,3\n",
    "    '''\n",
    "    poster_dir = root_dir + poster_name\n",
    "    poster_id =  poster_name.split(\"-\")[0]\n",
    "    img = Image.open(poster_dir)\n",
    "    img = misc.imresize(img, (750, 500))\n",
    "    arr = array(img)\n",
    "    return poster_id,arr \n",
    "\n",
    "def map_id_genre(genre_id,genre_map = genre_map):\n",
    "    '''\n",
    "    inputs: list of all the movies and their genres\n",
    "    returns: the genre of the movie\n",
    "    '''\n",
    "    index = [i for i, x in enumerate(genre_map['ID']) if x==genre_id]\n",
    "    return (genre_map['Genre'][index])\n",
    "    "
   ]
  },
  {
   "cell_type": "markdown",
   "metadata": {
    "collapsed": false
   },
   "source": [
    "test wit small list"
   ]
  },
  {
   "cell_type": "code",
   "execution_count": 76,
   "metadata": {
    "collapsed": false
   },
   "outputs": [],
   "source": [
    "#small list to see if it will work in keras\n",
    "train_movies = np.random.choice(poster_list, 100)\n",
    "test_movies = np.random.choice(poster_list, 100)"
   ]
  },
  {
   "cell_type": "code",
   "execution_count": 88,
   "metadata": {
    "collapsed": false
   },
   "outputs": [],
   "source": [
    "#append all the movies into 1 numpy frame\n",
    "train_movie_arrays = []\n",
    "train_movie_id = []\n",
    "train_movie_genre = []\n",
    "for m in train_movies:\n",
    "    m_id, arr = convert_jpg_array(m)\n",
    "    train_movie_id.append(m_id)\n",
    "    train_movie_arrays.append(arr)\n",
    "#append all the movie genres into a list\n",
    "train_movie_pixels = np.dstack((movie_arrays))\n",
    "#add them together"
   ]
  },
  {
   "cell_type": "code",
   "execution_count": 87,
   "metadata": {
    "collapsed": false
   },
   "outputs": [],
   "source": []
  },
  {
   "cell_type": "code",
   "execution_count": null,
   "metadata": {
    "collapsed": false
   },
   "outputs": [],
   "source": []
  },
  {
   "cell_type": "code",
   "execution_count": null,
   "metadata": {
    "collapsed": true
   },
   "outputs": [],
   "source": []
  }
 ],
 "metadata": {
  "kernelspec": {
   "display_name": "Python 2",
   "language": "python",
   "name": "python2"
  },
  "language_info": {
   "codemirror_mode": {
    "name": "ipython",
    "version": 2
   },
   "file_extension": ".py",
   "mimetype": "text/x-python",
   "name": "python",
   "nbconvert_exporter": "python",
   "pygments_lexer": "ipython2",
   "version": "2.7.13"
  }
 },
 "nbformat": 4,
 "nbformat_minor": 0
}
